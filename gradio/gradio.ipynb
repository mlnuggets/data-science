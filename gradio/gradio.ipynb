{
 "cells": [
  {
   "cell_type": "markdown",
   "id": "d728ee8a-decb-429d-b337-7f74f4102e79",
   "metadata": {},
   "source": [
    "# Gradio tutorial (Build machine learning applications)\n",
    "\n",
    "Click the image below to read the post online.\n",
    "\n",
    "<a target=\"_blank\" href=\"https://www.machinelearningnuggets.com/gradio-tutorial\"><img src=\"https://digitalpress.fra1.cdn.digitaloceanspaces.com/mhujhsj/2022/07/logho-1.png\" alt=\"Open in ML Nuggets\"></a>"
   ]
  },
  {
   "cell_type": "code",
   "execution_count": 1,
   "id": "3096cd54",
   "metadata": {
    "colab": {
     "base_uri": "https://localhost:8080/"
    },
    "id": "3096cd54",
    "outputId": "92bf3436-f385-4b6e-cf7d-a17b0eb31327"
   },
   "outputs": [],
   "source": [
    "try:\n",
    "  import gradio as gr\n",
    "except:\n",
    "  !pip install gradio\n",
    "#import gradio\n",
    "import gradio as gra"
   ]
  },
  {
   "cell_type": "code",
   "execution_count": 2,
   "id": "9383e11a",
   "metadata": {
    "id": "9383e11a"
   },
   "outputs": [],
   "source": [
    "#!pip install gradio\n",
    "import gradio as gra\n",
    "def user_greeting(name):\n",
    "    return \"Hi! \" + name + \" Welcome to your first Gradio application!😎\""
   ]
  },
  {
   "cell_type": "code",
   "execution_count": 3,
   "id": "a4bb2137",
   "metadata": {
    "colab": {
     "base_uri": "https://localhost:8080/",
     "height": 591
    },
    "id": "a4bb2137",
    "outputId": "0dc8c8d2-9894-432b-a96e-daf5948258a1"
   },
   "outputs": [
    {
     "name": "stdout",
     "output_type": "stream",
     "text": [
      "Running on local URL:  http://127.0.0.1:7880\n"
     ]
    },
    {
     "data": {
      "text/html": [
       "<div><iframe src=\"http://127.0.0.1:7880/\" width=\"900\" height=\"500\" allow=\"autoplay; camera; microphone;\" frameborder=\"0\" allowfullscreen></iframe></div>"
      ],
      "text/plain": [
       "<IPython.core.display.HTML object>"
      ]
     },
     "metadata": {},
     "output_type": "display_data"
    },
    {
     "data": {
      "text/plain": [
       "(<gradio.routes.App at 0x105a1b610>, 'http://127.0.0.1:7880/', None)"
      ]
     },
     "execution_count": 3,
     "metadata": {},
     "output_type": "execute_result"
    }
   ],
   "source": [
    "app =  gra.Interface(fn = user_greeting, inputs=\"text\", outputs=\"text\")\n",
    "app.launch(quiet = True,)"
   ]
  },
  {
   "cell_type": "markdown",
   "id": "f94f6cad",
   "metadata": {
    "id": "f94f6cad"
   },
   "source": [
    "##### Interface/ Multiple Interfaces"
   ]
  },
  {
   "cell_type": "code",
   "execution_count": 4,
   "id": "ddba589d",
   "metadata": {
    "colab": {
     "base_uri": "https://localhost:8080/",
     "height": 626
    },
    "id": "ddba589d",
    "outputId": "6f436cb0-a863-40f7-d8aa-fe93862f1be7"
   },
   "outputs": [
    {
     "name": "stderr",
     "output_type": "stream",
     "text": [
      "/Users/derrickmwiti/miniforge3/lib/python3.9/site-packages/gradio/blocks.py:593: UserWarning: api_name predict already exists, using predict_1\n",
      "  warnings.warn(\n"
     ]
    },
    {
     "name": "stdout",
     "output_type": "stream",
     "text": [
      "Running on local URL:  http://127.0.0.1:7881\n"
     ]
    },
    {
     "data": {
      "text/html": [
       "<div><iframe src=\"http://127.0.0.1:7881/\" width=\"900\" height=\"500\" allow=\"autoplay; camera; microphone;\" frameborder=\"0\" allowfullscreen></iframe></div>"
      ],
      "text/plain": [
       "<IPython.core.display.HTML object>"
      ]
     },
     "metadata": {},
     "output_type": "display_data"
    },
    {
     "data": {
      "text/plain": [
       "(<gradio.routes.App at 0x12b7249d0>, 'http://127.0.0.1:7881/', None)"
      ]
     },
     "execution_count": 4,
     "metadata": {},
     "output_type": "execute_result"
    }
   ],
   "source": [
    "import gradio as gr\n",
    "\n",
    "title = \"Multiple Interfaces\"\n",
    "\n",
    "#app 1\n",
    "def user_greeting(name):\n",
    "    return \"Hi! \" + name + \" Welcome to your first Gradio application!😎\"\n",
    "\n",
    "#app 2\n",
    "def user_help(do):\n",
    "    return \"So today we will do \" + do + \" using Gradio. Great choice!\"\n",
    "\n",
    "#interface 1\n",
    "app1 =  gr.Interface(fn = user_greeting, inputs=\"text\", outputs=\"text\")\n",
    "#interface 2\n",
    "\n",
    "app2 =  gr.Interface(fn = user_help, inputs=\"text\", outputs=\"text\")\n",
    "\n",
    "demo = gr.TabbedInterface([app1, app2], [\"Welcome\", \"What to do\"])\n",
    "\n",
    "demo.launch(quiet = True,)"
   ]
  },
  {
   "cell_type": "markdown",
   "id": "a5dee6d5",
   "metadata": {
    "id": "a5dee6d5"
   },
   "source": [
    "##### Displaying text"
   ]
  },
  {
   "cell_type": "code",
   "execution_count": 5,
   "id": "538dc5ee",
   "metadata": {
    "colab": {
     "base_uri": "https://localhost:8080/",
     "height": 591
    },
    "id": "538dc5ee",
    "outputId": "b41bbb3f-84a3-4ab9-ee28-bcbc9372854c"
   },
   "outputs": [
    {
     "name": "stdout",
     "output_type": "stream",
     "text": [
      "Running on local URL:  http://127.0.0.1:7882\n"
     ]
    },
    {
     "data": {
      "text/html": [
       "<div><iframe src=\"http://127.0.0.1:7882/\" width=\"900\" height=\"500\" allow=\"autoplay; camera; microphone;\" frameborder=\"0\" allowfullscreen></iframe></div>"
      ],
      "text/plain": [
       "<IPython.core.display.HTML object>"
      ]
     },
     "metadata": {},
     "output_type": "display_data"
    },
    {
     "data": {
      "text/plain": [
       "(<gradio.routes.App at 0x12e853cd0>, 'http://127.0.0.1:7882/', None)"
      ]
     },
     "execution_count": 5,
     "metadata": {},
     "output_type": "execute_result"
    }
   ],
   "source": [
    "#display a text\n",
    "import gradio as gr\n",
    "\n",
    "def text_display(text):\n",
    "    return text\n",
    "\n",
    "demo = gr.Interface(text_display, gr.Text(), \"text\")\n",
    "#alternatively use gr.TextBox()\n",
    "demo.launch(quiet = True,)"
   ]
  },
  {
   "cell_type": "code",
   "execution_count": 6,
   "id": "8b6d14fc",
   "metadata": {
    "colab": {
     "base_uri": "https://localhost:8080/",
     "height": 591
    },
    "id": "8b6d14fc",
    "outputId": "e9af5ae1-4652-4361-8186-66a97374232e"
   },
   "outputs": [
    {
     "name": "stdout",
     "output_type": "stream",
     "text": [
      "Running on local URL:  http://127.0.0.1:7883\n"
     ]
    },
    {
     "data": {
      "text/html": [
       "<div><iframe src=\"http://127.0.0.1:7883/\" width=\"900\" height=\"500\" allow=\"autoplay; camera; microphone;\" frameborder=\"0\" allowfullscreen></iframe></div>"
      ],
      "text/plain": [
       "<IPython.core.display.HTML object>"
      ]
     },
     "metadata": {},
     "output_type": "display_data"
    },
    {
     "data": {
      "text/plain": [
       "(<gradio.routes.App at 0x12b685730>, 'http://127.0.0.1:7883/', None)"
      ]
     },
     "execution_count": 6,
     "metadata": {},
     "output_type": "execute_result"
    }
   ],
   "source": [
    "#display a text\n",
    "import gradio as gr\n",
    "\n",
    "def textbox_display(text):\n",
    "    return text\n",
    "\n",
    "demo = gr.Interface(textbox_display, gr.Textbox(), \"text\")\n",
    "demo.launch(quiet = True,)"
   ]
  },
  {
   "cell_type": "markdown",
   "id": "cafd7410",
   "metadata": {
    "id": "cafd7410"
   },
   "source": [
    "##### Show progress"
   ]
  },
  {
   "cell_type": "code",
   "execution_count": 7,
   "id": "e83ee147",
   "metadata": {
    "colab": {
     "base_uri": "https://localhost:8080/",
     "height": 591
    },
    "id": "e83ee147",
    "outputId": "c4762e5f-bef4-4aa0-bb0d-13d87a11bd3b"
   },
   "outputs": [
    {
     "name": "stdout",
     "output_type": "stream",
     "text": [
      "\n",
      "Thanks for being a Gradio user! If you have questions or feedback, please join our Discord server and chat with us: https://discord.gg/feTf9x3ZSB\n",
      "Running on local URL:  http://127.0.0.1:7884\n"
     ]
    },
    {
     "data": {
      "text/html": [
       "<div><iframe src=\"http://127.0.0.1:7884/\" width=\"900\" height=\"500\" allow=\"autoplay; camera; microphone;\" frameborder=\"0\" allowfullscreen></iframe></div>"
      ],
      "text/plain": [
       "<IPython.core.display.HTML object>"
      ]
     },
     "metadata": {},
     "output_type": "display_data"
    },
    {
     "data": {
      "text/plain": [
       "(<gradio.routes.App at 0x12e950370>, 'http://127.0.0.1:7884/', None)"
      ]
     },
     "execution_count": 7,
     "metadata": {},
     "output_type": "execute_result"
    }
   ],
   "source": [
    "import gradio as gr\n",
    "\n",
    "\n",
    "def show_text(x):\n",
    "    return x\n",
    "\n",
    "\n",
    "demo = gr.Blocks()\n",
    "\n",
    "with demo:\n",
    "    gr.Markdown(\n",
    "        \"\"\"\n",
    "    # Show text!\n",
    "    Start typing below to see the output.\n",
    "    \"\"\"\n",
    "    )\n",
    "    input = gr.Textbox(placeholder=\"Flip this text\")\n",
    "    output = gr.Textbox()\n",
    "\n",
    "    input.change(fn=show_text, inputs=input, outputs=output, show_progress = True, status_tracker = None)\n",
    "\n",
    "demo.launch(quiet = True,)"
   ]
  },
  {
   "cell_type": "markdown",
   "id": "c8LpWR7roHwn",
   "metadata": {
    "id": "c8LpWR7roHwn"
   },
   "source": [
    "#### Streaming Components"
   ]
  },
  {
   "cell_type": "code",
   "execution_count": 8,
   "id": "MRupwDCEoLor",
   "metadata": {
    "colab": {
     "base_uri": "https://localhost:8080/",
     "height": 608
    },
    "id": "MRupwDCEoLor",
    "outputId": "9b742958-fec7-4de9-8948-369ba441b0ff"
   },
   "outputs": [
    {
     "name": "stdout",
     "output_type": "stream",
     "text": [
      "Running on local URL:  http://127.0.0.1:7885\n"
     ]
    },
    {
     "data": {
      "text/html": [
       "<div><iframe src=\"http://127.0.0.1:7885/\" width=\"900\" height=\"500\" allow=\"autoplay; camera; microphone;\" frameborder=\"0\" allowfullscreen></iframe></div>"
      ],
      "text/plain": [
       "<IPython.core.display.HTML object>"
      ]
     },
     "metadata": {},
     "output_type": "display_data"
    },
    {
     "data": {
      "text/plain": [
       "(<gradio.routes.App at 0x12e9678e0>, 'http://127.0.0.1:7885/', None)"
      ]
     },
     "execution_count": 8,
     "metadata": {},
     "output_type": "execute_result"
    }
   ],
   "source": [
    "import gradio as gr\n",
    "import numpy as np\n",
    "\n",
    "def flip(im):\n",
    "    return np.flipud(im)\n",
    "\n",
    "demo = gr.Interface(\n",
    "    flip, \n",
    "    gr.Image(source=\"webcam\", streaming=True), \n",
    "    \"image\",\n",
    "    live=True\n",
    ")\n",
    "demo.launch(quiet = True,)"
   ]
  },
  {
   "cell_type": "code",
   "execution_count": 9,
   "id": "5912c6ab",
   "metadata": {
    "colab": {
     "base_uri": "https://localhost:8080/",
     "height": 591
    },
    "id": "5912c6ab",
    "outputId": "edc80472-5efa-4e42-c025-a991099a9b29"
   },
   "outputs": [
    {
     "name": "stdout",
     "output_type": "stream",
     "text": [
      "Running on local URL:  http://127.0.0.1:7886\n"
     ]
    },
    {
     "data": {
      "text/html": [
       "<div><iframe src=\"http://127.0.0.1:7886/\" width=\"900\" height=\"500\" allow=\"autoplay; camera; microphone;\" frameborder=\"0\" allowfullscreen></iframe></div>"
      ],
      "text/plain": [
       "<IPython.core.display.HTML object>"
      ]
     },
     "metadata": {},
     "output_type": "display_data"
    },
    {
     "data": {
      "text/plain": [
       "(<gradio.routes.App at 0x12ea62970>, 'http://127.0.0.1:7886/', None)"
      ]
     },
     "execution_count": 9,
     "metadata": {},
     "output_type": "execute_result"
    }
   ],
   "source": [
    "import gradio as gr\n",
    "\n",
    "\n",
    "def flip_text(x):\n",
    "    return x\n",
    "\n",
    "\n",
    "demo = gr.Blocks()\n",
    "\n",
    "with demo:\n",
    "    gr.Markdown(\n",
    "        \n",
    "    )\n",
    "    input = gr.Textbox(placeholder=\"\")\n",
    "    output = gr.Textbox()\n",
    "\n",
    "    input.change(fn=flip_text, inputs=input, outputs=output, show_progress = False)\n",
    "\n",
    "demo.launch(quiet = True,)"
   ]
  },
  {
   "cell_type": "markdown",
   "id": "033464d0",
   "metadata": {
    "id": "033464d0"
   },
   "source": [
    "##### Display data"
   ]
  },
  {
   "cell_type": "code",
   "execution_count": 10,
   "id": "9873c70c",
   "metadata": {
    "colab": {
     "base_uri": "https://localhost:8080/",
     "height": 591
    },
    "id": "9873c70c",
    "outputId": "1a5c48c4-fee9-4ba2-c601-86a6cf70229d"
   },
   "outputs": [
    {
     "name": "stdout",
     "output_type": "stream",
     "text": [
      "Running on local URL:  http://127.0.0.1:7887\n"
     ]
    },
    {
     "data": {
      "text/html": [
       "<div><iframe src=\"http://127.0.0.1:7887/\" width=\"900\" height=\"500\" allow=\"autoplay; camera; microphone;\" frameborder=\"0\" allowfullscreen></iframe></div>"
      ],
      "text/plain": [
       "<IPython.core.display.HTML object>"
      ]
     },
     "metadata": {},
     "output_type": "display_data"
    },
    {
     "data": {
      "text/plain": [
       "(<gradio.routes.App at 0x12ea49250>, 'http://127.0.0.1:7887/', None)"
      ]
     },
     "execution_count": 10,
     "metadata": {},
     "output_type": "execute_result"
    }
   ],
   "source": [
    "#display a data\n",
    "import gradio as gr\n",
    "\n",
    "def data_display(input_img):\n",
    "    return input_img\n",
    "\n",
    "demo = gr.Interface(data_display, gr.Dataframe(), \"dataframe\")\n",
    "demo.launch(quiet = True,)"
   ]
  },
  {
   "cell_type": "markdown",
   "id": "11128cfe",
   "metadata": {
    "id": "11128cfe"
   },
   "source": [
    "##### Displaying media"
   ]
  },
  {
   "cell_type": "code",
   "execution_count": 11,
   "id": "7dcc39d8",
   "metadata": {
    "colab": {
     "base_uri": "https://localhost:8080/",
     "height": 591
    },
    "id": "7dcc39d8",
    "outputId": "bf5af8c2-a09f-4cae-8047-d4d29855bb7a"
   },
   "outputs": [
    {
     "name": "stdout",
     "output_type": "stream",
     "text": [
      "Running on local URL:  http://127.0.0.1:7888\n"
     ]
    },
    {
     "data": {
      "text/html": [
       "<div><iframe src=\"http://127.0.0.1:7888/\" width=\"900\" height=\"500\" allow=\"autoplay; camera; microphone;\" frameborder=\"0\" allowfullscreen></iframe></div>"
      ],
      "text/plain": [
       "<IPython.core.display.HTML object>"
      ]
     },
     "metadata": {},
     "output_type": "display_data"
    },
    {
     "data": {
      "text/plain": [
       "(<gradio.routes.App at 0x12ea505e0>, 'http://127.0.0.1:7888/', None)"
      ]
     },
     "execution_count": 11,
     "metadata": {},
     "output_type": "execute_result"
    }
   ],
   "source": [
    "import numpy as np\n",
    "import gradio as gr\n",
    "\n",
    "def blue_hue(input_img):\n",
    "    blue_hue_filter = np.array([\n",
    "            [0.272, 0.534, 0.131], \n",
    "            [0.349, 0.686, 0.168],\n",
    "            [0.393, 0.769, 0.189]])\n",
    "    blue_hue_img = input_img.dot(blue_hue_filter.T)\n",
    "    blue_hue_img /= blue_hue_img.max()\n",
    "    return blue_hue_img\n",
    "\n",
    "demo = gr.Interface(blue_hue, gr.Image(shape=(300, 200)), \"image\")\n",
    "demo.launch(quiet = True,)"
   ]
  },
  {
   "cell_type": "code",
   "execution_count": 12,
   "id": "8f0e0252",
   "metadata": {
    "colab": {
     "base_uri": "https://localhost:8080/",
     "height": 591
    },
    "id": "8f0e0252",
    "outputId": "70631292-c44e-47c5-b9aa-1c4fb802e841"
   },
   "outputs": [
    {
     "name": "stdout",
     "output_type": "stream",
     "text": [
      "Running on local URL:  http://127.0.0.1:7889\n"
     ]
    },
    {
     "data": {
      "text/html": [
       "<div><iframe src=\"http://127.0.0.1:7889/\" width=\"900\" height=\"500\" allow=\"autoplay; camera; microphone;\" frameborder=\"0\" allowfullscreen></iframe></div>"
      ],
      "text/plain": [
       "<IPython.core.display.HTML object>"
      ]
     },
     "metadata": {},
     "output_type": "display_data"
    },
    {
     "data": {
      "text/plain": [
       "(<gradio.routes.App at 0x12ebcdc40>, 'http://127.0.0.1:7889/', None)"
      ]
     },
     "execution_count": 12,
     "metadata": {},
     "output_type": "execute_result"
    }
   ],
   "source": [
    "#display a video\n",
    "import gradio as gr\n",
    "\n",
    "def video_display(input_vid):\n",
    "    return input_vid\n",
    "\n",
    "demo = gr.Interface(video_display, gr.Video(), \"video\")\n",
    "demo.launch(quiet = True,)"
   ]
  },
  {
   "cell_type": "markdown",
   "id": "d3cce2c1",
   "metadata": {
    "id": "d3cce2c1"
   },
   "source": [
    "#### Interactive Components"
   ]
  },
  {
   "cell_type": "markdown",
   "id": "e715eea0",
   "metadata": {
    "id": "e715eea0"
   },
   "source": [
    "##### Button"
   ]
  },
  {
   "cell_type": "code",
   "execution_count": 13,
   "id": "f11f4ebc",
   "metadata": {
    "colab": {
     "base_uri": "https://localhost:8080/",
     "height": 539
    },
    "id": "f11f4ebc",
    "outputId": "f42c6277-c779-43bb-d5cd-9583ba4ac090"
   },
   "outputs": [
    {
     "name": "stdout",
     "output_type": "stream",
     "text": [
      "Running on local URL:  http://127.0.0.1:7890\n"
     ]
    },
    {
     "data": {
      "text/html": [
       "<div><iframe src=\"http://127.0.0.1:7890/\" width=\"900\" height=\"500\" allow=\"autoplay; camera; microphone;\" frameborder=\"0\" allowfullscreen></iframe></div>"
      ],
      "text/plain": [
       "<IPython.core.display.HTML object>"
      ]
     },
     "metadata": {},
     "output_type": "display_data"
    }
   ],
   "source": [
    "import gradio as gr\n",
    "import os\n",
    "\n",
    "def combine(a, b):\n",
    "    return \"Hey! \" + a + \" \" + b + '\\n'+ \" Welcome to Machine Learning Nuggets.\"\n",
    "\n",
    "\n",
    "with gr.Blocks() as demo:\n",
    "    \n",
    "    txt = gr.Textbox(label=\"First Name\", lines=2)\n",
    "    txt_2 = gr.Textbox(label=\"Second Name\")\n",
    "    txt_3 = gr.Textbox(value=\"\", label=\"Output\")\n",
    "    btn = gr.Button(value=\"Submit\")\n",
    "    btn.click(combine, inputs=[txt, txt_2], outputs=[txt_3])\n",
    "\n",
    "\n",
    "if __name__ == \"__main__\":\n",
    "    demo.launch(quiet = True,)"
   ]
  },
  {
   "cell_type": "markdown",
   "id": "416df78e",
   "metadata": {
    "id": "416df78e"
   },
   "source": [
    "##### Checkbox"
   ]
  },
  {
   "cell_type": "code",
   "execution_count": 14,
   "id": "1eaeb717",
   "metadata": {
    "colab": {
     "base_uri": "https://localhost:8080/"
    },
    "id": "1eaeb717",
    "outputId": "29c9fb89-a4ca-491e-ae73-0eebd3df2756"
   },
   "outputs": [
    {
     "data": {
      "text/plain": [
       "{'status': 'ok', 'restart': True}"
      ]
     },
     "execution_count": 14,
     "metadata": {},
     "output_type": "execute_result"
    }
   ],
   "source": [
    "import IPython\n",
    "\n",
    "IPython.Application.instance().kernel.do_shutdown(True) "
   ]
  },
  {
   "cell_type": "code",
   "execution_count": 15,
   "id": "70c8a8b8",
   "metadata": {
    "colab": {
     "base_uri": "https://localhost:8080/",
     "height": 539
    },
    "id": "70c8a8b8",
    "outputId": "107c1520-c846-4e1e-d655-c8d8d2c85607"
   },
   "outputs": [
    {
     "name": "stdout",
     "output_type": "stream",
     "text": [
      "Running on local URL:  http://127.0.0.1:7891\n"
     ]
    },
    {
     "data": {
      "text/html": [
       "<div><iframe src=\"http://127.0.0.1:7891/\" width=\"900\" height=\"500\" allow=\"autoplay; camera; microphone;\" frameborder=\"0\" allowfullscreen></iframe></div>"
      ],
      "text/plain": [
       "<IPython.core.display.HTML object>"
      ]
     },
     "metadata": {},
     "output_type": "display_data"
    }
   ],
   "source": [
    "import gradio as gr\n",
    "\n",
    "\n",
    "def sentence_builder( morning):\n",
    "    return f\"\"\"It is a nice time take a {\"morning\" if morning else \"later in the day\"} glass of water\"\"\"\n",
    "\n",
    "\n",
    "demo = gr.Interface(\n",
    "    sentence_builder,\n",
    "    [\n",
    "        gr.Checkbox(label=\"Is it before noon\"),\n",
    "    ],\n",
    "    \"text\")\n",
    "\n",
    "if __name__ == \"__main__\":\n",
    "    demo.launch(quiet = True,)"
   ]
  },
  {
   "cell_type": "markdown",
   "id": "c910b2b7",
   "metadata": {
    "id": "c910b2b7"
   },
   "source": [
    "##### Select box"
   ]
  },
  {
   "cell_type": "code",
   "execution_count": 16,
   "id": "171e32be",
   "metadata": {
    "colab": {
     "base_uri": "https://localhost:8080/",
     "height": 539
    },
    "id": "171e32be",
    "outputId": "ff7f3173-00eb-4b4f-fe69-b1c14c480e45"
   },
   "outputs": [
    {
     "name": "stdout",
     "output_type": "stream",
     "text": [
      "Running on local URL:  http://127.0.0.1:7892\n"
     ]
    },
    {
     "data": {
      "text/html": [
       "<div><iframe src=\"http://127.0.0.1:7892/\" width=\"900\" height=\"500\" allow=\"autoplay; camera; microphone;\" frameborder=\"0\" allowfullscreen></iframe></div>"
      ],
      "text/plain": [
       "<IPython.core.display.HTML object>"
      ]
     },
     "metadata": {},
     "output_type": "display_data"
    }
   ],
   "source": [
    "import gradio as gr\n",
    "\n",
    "\n",
    "def sentence_builder(morning, activity_list):\n",
    "    return f\"\"\"It is a nice time take a {\"morning\" if morning else \"later in the day\"} glass of water {\" and take a \".join(activity_list)}\"\"\"\n",
    "\n",
    "\n",
    "demo = gr.Interface(\n",
    "    sentence_builder,\n",
    "    [\n",
    "        gr.Checkbox(label=\"Is it before noon\"),\n",
    "        gr.CheckboxGroup([\"juice\", \"beverage\", \"snack\", \"nap\"]),\n",
    "    ],\n",
    "    \"text\")\n",
    "\n",
    "if __name__ == \"__main__\":\n",
    "    demo.launch(quiet = True,)"
   ]
  },
  {
   "cell_type": "code",
   "execution_count": 17,
   "id": "a4cCRpzZ4Um1",
   "metadata": {
    "colab": {
     "base_uri": "https://localhost:8080/",
     "height": 591
    },
    "id": "a4cCRpzZ4Um1",
    "outputId": "b93ddde9-071c-45a4-da23-8674c4a21a5e"
   },
   "outputs": [
    {
     "name": "stdout",
     "output_type": "stream",
     "text": [
      "Running on local URL:  http://127.0.0.1:7893\n"
     ]
    },
    {
     "data": {
      "text/html": [
       "<div><iframe src=\"http://127.0.0.1:7893/\" width=\"900\" height=\"500\" allow=\"autoplay; camera; microphone;\" frameborder=\"0\" allowfullscreen></iframe></div>"
      ],
      "text/plain": [
       "<IPython.core.display.HTML object>"
      ]
     },
     "metadata": {},
     "output_type": "display_data"
    },
    {
     "data": {
      "text/plain": [
       "(<gradio.routes.App at 0x12eded880>, 'http://127.0.0.1:7893/', None)"
      ]
     },
     "execution_count": 17,
     "metadata": {},
     "output_type": "execute_result"
    }
   ],
   "source": [
    "import gradio as gr\n",
    "import datetime\n",
    "\n",
    "with gr.Blocks() as demo:\n",
    "    gr.Textbox(datetime.datetime.now)\n",
    "    \n",
    "demo.launch(quiet = True,)"
   ]
  },
  {
   "cell_type": "markdown",
   "id": "4aKnbHyG6ypM",
   "metadata": {
    "id": "4aKnbHyG6ypM"
   },
   "source": [
    "##### Display code"
   ]
  },
  {
   "cell_type": "code",
   "execution_count": 18,
   "id": "jQ_jEfDD6x4L",
   "metadata": {
    "colab": {
     "base_uri": "https://localhost:8080/",
     "height": 591
    },
    "id": "jQ_jEfDD6x4L",
    "outputId": "065d0255-7e17-4a85-c90a-f61bff0dddf2"
   },
   "outputs": [
    {
     "name": "stdout",
     "output_type": "stream",
     "text": [
      "Running on local URL:  http://127.0.0.1:7894\n"
     ]
    },
    {
     "data": {
      "text/html": [
       "<div><iframe src=\"http://127.0.0.1:7894/\" width=\"900\" height=\"500\" allow=\"autoplay; camera; microphone;\" frameborder=\"0\" allowfullscreen></iframe></div>"
      ],
      "text/plain": [
       "<IPython.core.display.HTML object>"
      ]
     },
     "metadata": {},
     "output_type": "display_data"
    },
    {
     "data": {
      "text/plain": [
       "(<gradio.routes.App at 0x12edf4cd0>, 'http://127.0.0.1:7894/', None)"
      ]
     },
     "execution_count": 18,
     "metadata": {},
     "output_type": "execute_result"
    }
   ],
   "source": [
    "import gradio as gr\n",
    "#define your code\n",
    "#average of a list\n",
    "code = '''def cal_average(numbers):\n",
    "    sum_number = 0\n",
    "    for t in numbers:\n",
    "        sum_number = sum_number + t           \n",
    "\n",
    "    average = sum_number / len(numbers)\n",
    "    return average'''\n",
    "\n",
    "with gr.Blocks() as demo:\n",
    "    gr.Textbox(code)\n",
    "    \n",
    "demo.launch(quiet = True,)"
   ]
  },
  {
   "cell_type": "markdown",
   "id": "Acs1QLkX5523",
   "metadata": {
    "id": "Acs1QLkX5523"
   },
   "source": [
    "##### Color Picker"
   ]
  },
  {
   "cell_type": "code",
   "execution_count": 19,
   "id": "_L0fuN9957lx",
   "metadata": {
    "colab": {
     "base_uri": "https://localhost:8080/",
     "height": 539
    },
    "id": "_L0fuN9957lx",
    "outputId": "18d27ff0-781e-4899-c243-a3271e00ab65"
   },
   "outputs": [
    {
     "name": "stdout",
     "output_type": "stream",
     "text": [
      "Running on local URL:  http://127.0.0.1:7895\n"
     ]
    },
    {
     "data": {
      "text/html": [
       "<div><iframe src=\"http://127.0.0.1:7895/\" width=\"900\" height=\"500\" allow=\"autoplay; camera; microphone;\" frameborder=\"0\" allowfullscreen></iframe></div>"
      ],
      "text/plain": [
       "<IPython.core.display.HTML object>"
      ]
     },
     "metadata": {},
     "output_type": "display_data"
    }
   ],
   "source": [
    "import gradio as gr\n",
    "import cv2\n",
    "import numpy as np\n",
    "import random\n",
    "\n",
    "\n",
    "# Convert decimal color to hexadecimal color\n",
    "def RGB_to_Hex(rgb):\n",
    "    color = \"#\"\n",
    "    for i in rgb:\n",
    "        num = int(i)\n",
    "        color += str(hex(num))[-2:].replace(\"x\", \"0\").upper()\n",
    "    return color\n",
    "\n",
    "\n",
    "# Randomly generate light or dark colors\n",
    "def gen_random_color(is_light=True):\n",
    "    return (\n",
    "        random.randint(0, 127) + int(is_light) * 128,\n",
    "        random.randint(0, 127) + int(is_light) * 128,\n",
    "        random.randint(0, 127) + int(is_light) * 128,\n",
    "    )\n",
    "\n",
    "\n",
    "def change_color(color_style):\n",
    "    if color_style == \"light\":\n",
    "        is_light = True\n",
    "    elif color_style == \"dark\":\n",
    "        is_light = False\n",
    "    back_color_ = gen_random_color(is_light)  # Randomly generate colors\n",
    "    back_color = RGB_to_Hex(back_color_)  # Convert to hexadecimal\n",
    "\n",
    "    # Draw color pictures.\n",
    "    w, h = 50, 50\n",
    "    img = np.zeros((h, w, 3), np.uint8)\n",
    "    cv2.rectangle(img, (0, 0), (w, h), back_color_, thickness=-1)\n",
    "\n",
    "    return back_color, back_color, img\n",
    "\n",
    "\n",
    "inputs = [gr.Radio([\"light\", \"dark\"], value=\"light\")]\n",
    "\n",
    "outputs = [\n",
    "    gr.ColorPicker(label=\"color\"),\n",
    "    gr.Textbox(label=\"hexadecimal color\"),\n",
    "    gr.Image(type=\"numpy\", label=\"color picture\"),\n",
    "]\n",
    "\n",
    "title = \"Random Color Generator\"\n",
    "description = (\n",
    "    \"By clicking submit, a new color will be generated\"\n",
    ")\n",
    "\n",
    "demo = gr.Interface(\n",
    "    fn=change_color,\n",
    "    inputs=inputs,\n",
    "    outputs=outputs,\n",
    "    title=title,\n",
    "    description=description,\n",
    ")\n",
    "\n",
    "if __name__ == \"__main__\":\n",
    "    demo.launch(quiet = True,)"
   ]
  },
  {
   "cell_type": "markdown",
   "id": "b6913e8a",
   "metadata": {
    "id": "b6913e8a"
   },
   "source": [
    "##### Slider"
   ]
  },
  {
   "cell_type": "code",
   "execution_count": 20,
   "id": "b0650475",
   "metadata": {
    "colab": {
     "base_uri": "https://localhost:8080/",
     "height": 539
    },
    "id": "b0650475",
    "outputId": "d401c26f-2b4e-47d7-f796-3322421be3ca"
   },
   "outputs": [
    {
     "name": "stdout",
     "output_type": "stream",
     "text": [
      "Running on local URL:  http://127.0.0.1:7896\n"
     ]
    },
    {
     "data": {
      "text/html": [
       "<div><iframe src=\"http://127.0.0.1:7896/\" width=\"900\" height=\"500\" allow=\"autoplay; camera; microphone;\" frameborder=\"0\" allowfullscreen></iframe></div>"
      ],
      "text/plain": [
       "<IPython.core.display.HTML object>"
      ]
     },
     "metadata": {},
     "output_type": "display_data"
    }
   ],
   "source": [
    "import gradio as gr\n",
    "\n",
    "\n",
    "def sentence_builder(quantity, morning, activity_list):\n",
    "    return f\"\"\"{quantity} o'clock is a nice time take a {\"morning\" if morning else \"later in the day\"} glass of water {\" and take a \".join(activity_list)}\"\"\"\n",
    "\n",
    "\n",
    "demo = gr.Interface(\n",
    "    sentence_builder,\n",
    "    [  gr.Slider(2, 24, value=4, step = 2),\n",
    "        gr.Checkbox(label=\"Is it before noon\"),\n",
    "        gr.CheckboxGroup([\"juice\", \"beverage\", \"snack\", \"nap\"]),\n",
    "    ],\n",
    "    \"text\")\n",
    "\n",
    "if __name__ == \"__main__\":\n",
    "    demo.launch(quiet = True,)"
   ]
  },
  {
   "cell_type": "code",
   "execution_count": null,
   "id": "b1311e68",
   "metadata": {
    "id": "b1311e68"
   },
   "outputs": [],
   "source": []
  },
  {
   "cell_type": "markdown",
   "id": "be1278c3",
   "metadata": {
    "id": "be1278c3"
   },
   "source": [
    "##### Dropdown"
   ]
  },
  {
   "cell_type": "code",
   "execution_count": 21,
   "id": "ce1ac86a",
   "metadata": {
    "colab": {
     "base_uri": "https://localhost:8080/",
     "height": 539
    },
    "id": "ce1ac86a",
    "outputId": "831ac4d6-87e6-4df5-f671-d35e02bdcd34"
   },
   "outputs": [
    {
     "name": "stdout",
     "output_type": "stream",
     "text": [
      "Running on local URL:  http://127.0.0.1:7897\n"
     ]
    },
    {
     "data": {
      "text/html": [
       "<div><iframe src=\"http://127.0.0.1:7897/\" width=\"900\" height=\"500\" allow=\"autoplay; camera; microphone;\" frameborder=\"0\" allowfullscreen></iframe></div>"
      ],
      "text/plain": [
       "<IPython.core.display.HTML object>"
      ]
     },
     "metadata": {},
     "output_type": "display_data"
    }
   ],
   "source": [
    "import gradio as gr\n",
    "\n",
    "\n",
    "def sentence_builder(quantity, morning, activity_list, watch):\n",
    "    return f\"\"\"{quantity} o'clock is a nice time take a {\"morning\" if morning else \"later in the day\"} glass of water {\" and take a \".join(activity_list)} or watch a {watch}\"\"\"\n",
    "\n",
    "\n",
    "demo = gr.Interface(\n",
    "    sentence_builder,\n",
    "    [   gr.Slider(2, 24, value=4, step = 2),\n",
    "        gr.Checkbox(label=\"Is it before noon\"),\n",
    "        gr.CheckboxGroup([\"juice\", \"beverage\", \"snack\", \"nap\"]),\n",
    "        gr.Dropdown([\"Television series\", \"Movie\", \"Documentary\", \"Class\"]),\n",
    "     \n",
    "    ],\n",
    "    \"text\")\n",
    "\n",
    "if __name__ == \"__main__\":\n",
    "    demo.launch(quiet = True,)"
   ]
  },
  {
   "cell_type": "markdown",
   "id": "Gu5uLg1tHUhK",
   "metadata": {
    "id": "Gu5uLg1tHUhK"
   },
   "source": [
    "#### Visualizing Charts in Gradio"
   ]
  },
  {
   "cell_type": "markdown",
   "id": "vvItnirgHX8d",
   "metadata": {
    "id": "vvItnirgHX8d"
   },
   "source": [
    "#### Plotly"
   ]
  },
  {
   "cell_type": "code",
   "execution_count": 24,
   "id": "mayY8FYUHXQA",
   "metadata": {
    "colab": {
     "base_uri": "https://localhost:8080/",
     "height": 591
    },
    "id": "mayY8FYUHXQA",
    "outputId": "21ba30db-ec33-4bca-efd2-157216137bd2"
   },
   "outputs": [
    {
     "name": "stdout",
     "output_type": "stream",
     "text": [
      "Running on local URL:  http://127.0.0.1:7901\n"
     ]
    },
    {
     "data": {
      "text/html": [
       "<div><iframe src=\"http://127.0.0.1:7901/\" width=\"900\" height=\"500\" allow=\"autoplay; camera; microphone;\" frameborder=\"0\" allowfullscreen></iframe></div>"
      ],
      "text/plain": [
       "<IPython.core.display.HTML object>"
      ]
     },
     "metadata": {},
     "output_type": "display_data"
    },
    {
     "data": {
      "text/plain": [
       "(<gradio.routes.App at 0x2cbb21760>, 'http://127.0.0.1:7901/', None)"
      ]
     },
     "execution_count": 24,
     "metadata": {},
     "output_type": "execute_result"
    }
   ],
   "source": [
    "import plotly.express as px\n",
    "import pandas as pd\n",
    "def plotly_plot():\n",
    "    # prepare some data\n",
    "    x = [\"Math\", \"Business\", \"Statistics\", \"IT\", \"Commerce\"]\n",
    "    y = [68, 73, 82, 74, 85]\n",
    "    data = pd.DataFrame()\n",
    "    data['Subject'] = x\n",
    "    data['Score'] = y\n",
    "    # create a new plot\n",
    "    p = px.bar(data, x='Subject', y='Score')\n",
    "\n",
    "    return p\n",
    "\n",
    "# show the results\n",
    "outputs = gr.Plot()\n",
    "\n",
    "demo = gr.Interface(fn=plotly_plot, inputs=None, outputs=outputs)\n",
    "\n",
    "demo.launch(quiet = True,)\n",
    "\n"
   ]
  },
  {
   "cell_type": "markdown",
   "id": "ODWRp903MU3O",
   "metadata": {
    "id": "ODWRp903MU3O"
   },
   "source": [
    "##### Matplotlib"
   ]
  },
  {
   "cell_type": "code",
   "execution_count": 23,
   "id": "kYk5ZhsEMXro",
   "metadata": {
    "colab": {
     "base_uri": "https://localhost:8080/",
     "height": 591
    },
    "id": "kYk5ZhsEMXro",
    "outputId": "d8390edb-c18b-4252-fda9-07304c9034b4"
   },
   "outputs": [
    {
     "name": "stdout",
     "output_type": "stream",
     "text": [
      "Running on local URL:  http://127.0.0.1:7899\n"
     ]
    },
    {
     "data": {
      "text/html": [
       "<div><iframe src=\"http://127.0.0.1:7899/\" width=\"900\" height=\"500\" allow=\"autoplay; camera; microphone;\" frameborder=\"0\" allowfullscreen></iframe></div>"
      ],
      "text/plain": [
       "<IPython.core.display.HTML object>"
      ]
     },
     "metadata": {},
     "output_type": "display_data"
    },
    {
     "data": {
      "text/plain": [
       "(<gradio.routes.App at 0x1687f6e20>, 'http://127.0.0.1:7899/', None)"
      ]
     },
     "execution_count": 23,
     "metadata": {},
     "output_type": "execute_result"
    }
   ],
   "source": [
    "import matplotlib.pyplot as plt\n",
    "def plt_plot():\n",
    "    # prepare some data\n",
    "    x = [\"Math\", \"Business\", \"Statistics\", \"IT\", \"Commerce\"]\n",
    "    y = [68, 73, 82, 74, 85]\n",
    "    # create a new plot\n",
    "    plt.rcParams['figure.figsize'] = 6,4\n",
    "    fig = plt.figure()\n",
    "    ax = fig.add_axes([0,0,1,1])\n",
    "    ax.bar(x, y)\n",
    "    plt.title(\"Marks per subject\")\n",
    "    plt.xlabel(\"Subject\")\n",
    "    plt.ylabel(\"Score\")\n",
    "\n",
    "    return fig\n",
    "\n",
    "# show the results\n",
    "outputs = gr.Plot()\n",
    "\n",
    "demo = gr.Interface(fn=plt_plot, inputs=None, outputs=outputs)\n",
    "\n",
    "demo.launch(quiet = True,)\n",
    "\n"
   ]
  },
  {
   "cell_type": "markdown",
   "id": "9002dfba",
   "metadata": {
    "id": "9002dfba"
   },
   "source": [
    "#### Caching"
   ]
  },
  {
   "cell_type": "code",
   "execution_count": 24,
   "id": "e0df8377",
   "metadata": {
    "colab": {
     "base_uri": "https://localhost:8080/",
     "height": 608
    },
    "id": "e0df8377",
    "outputId": "95ef2d2a-6cbf-4d97-d2a0-aad9e7002736"
   },
   "outputs": [
    {
     "name": "stdout",
     "output_type": "stream",
     "text": [
      "Caching examples at: '/Users/derrickmwiti/Documents/hub/gradio_cached_examples/270/log.csv'\n",
      "Running on local URL:  http://127.0.0.1:7900\n"
     ]
    },
    {
     "data": {
      "text/html": [
       "<div><iframe src=\"http://127.0.0.1:7900/\" width=\"900\" height=\"500\" allow=\"autoplay; camera; microphone;\" frameborder=\"0\" allowfullscreen></iframe></div>"
      ],
      "text/plain": [
       "<IPython.core.display.HTML object>"
      ]
     },
     "metadata": {},
     "output_type": "display_data"
    },
    {
     "data": {
      "text/plain": [
       "(<gradio.routes.App at 0x1687e5fd0>, 'http://127.0.0.1:7900/', None)"
      ]
     },
     "execution_count": 24,
     "metadata": {},
     "output_type": "execute_result"
    }
   ],
   "source": [
    "#!pip install gradio\n",
    "import gradio as gra\n",
    "def user_greeting(name):\n",
    "    return \"Hi! \" + name + \" Welcome to your first Gradio application!😎\"\n",
    "\n",
    "app =  gra.Interface(fn = user_greeting, inputs=\"text\", outputs=\"text\", examples = [\"Zenith\", \"Antoinne\", \"Amelia\", \"Johanna\"], cache_examples = True)\n",
    "app.launch(quiet = True,)"
   ]
  },
  {
   "cell_type": "markdown",
   "id": "lvkJV3t7HLJO",
   "metadata": {
    "id": "lvkJV3t7HLJO"
   },
   "source": [
    "#### Gradio and Visualization libraries"
   ]
  },
  {
   "cell_type": "markdown",
   "id": "5eafb8da",
   "metadata": {
    "id": "5eafb8da"
   },
   "source": [
    "#### Seaborn and Matplotlib"
   ]
  },
  {
   "cell_type": "code",
   "execution_count": 25,
   "id": "a050942d",
   "metadata": {
    "colab": {
     "base_uri": "https://localhost:8080/",
     "height": 591
    },
    "id": "a050942d",
    "outputId": "89bbb545-da2c-4cd8-f902-b618efa41acb"
   },
   "outputs": [
    {
     "name": "stdout",
     "output_type": "stream",
     "text": [
      "Running on local URL:  http://127.0.0.1:7901\n"
     ]
    },
    {
     "data": {
      "text/html": [
       "<div><iframe src=\"http://127.0.0.1:7901/\" width=\"900\" height=\"500\" allow=\"autoplay; camera; microphone;\" frameborder=\"0\" allowfullscreen></iframe></div>"
      ],
      "text/plain": [
       "<IPython.core.display.HTML object>"
      ]
     },
     "metadata": {},
     "output_type": "display_data"
    },
    {
     "data": {
      "text/plain": [
       "(<gradio.routes.App at 0x168965fa0>, 'http://127.0.0.1:7901/', None)"
      ]
     },
     "execution_count": 25,
     "metadata": {},
     "output_type": "execute_result"
    }
   ],
   "source": [
    "import gradio as gr\n",
    "from math import log\n",
    "import matplotlib\n",
    "matplotlib.use('Agg')\n",
    "import matplotlib.pyplot as plt\n",
    "import numpy as np\n",
    "import pandas as pd\n",
    "\n",
    "\n",
    "def gdp_change(r, year, country, smoothen):\n",
    "    years = ['1850', '1900', '1950', '2000', '2050']\n",
    "    m = years.index(year)\n",
    "    start_day = 10* m\n",
    "    final_day = 10* (m + 1)\n",
    "    x = np.arange(start_day, final_day + 1)\n",
    "    pop_count = {\"USA\": 350, \"Canada\": 40, \"Mexico\": 300, \"UK\": 120}\n",
    "    if smoothen:\n",
    "        r = log(r)\n",
    "    df = pd.DataFrame({'day': x})\n",
    "    df[country] = ( x ** (r) * (pop_count[country] + 1))\n",
    "    fig = plt.figure()\n",
    "    plt.plot(df['day'], df[country].to_numpy(), label = country)\n",
    "    plt.title(\"GDP in \" + year)\n",
    "    plt.ylabel(\"GDP (Millions)\")\n",
    "    plt.xlabel(\"Population Change since 1800\")\n",
    "    plt.grid()\n",
    "    return fig\n",
    "\n",
    "inputs = [\n",
    "        gr.Slider(1, 4, 3.2, label=\"R\"),\n",
    "        gr.Dropdown(['1850', '1900', '1950', '2000', '2050'], label=\"Year\"),\n",
    "        gr.Radio([\"USA\", \"Canada\", \"Mexico\", \"UK\"], label=\"Countries\", ),\n",
    "        gr.Checkbox(label=\"Log of GDP Growth Rate?\"),\n",
    "    ]\n",
    "outputs = gr.Plot()\n",
    "\n",
    "demo = gr.Interface(fn=gdp_change, inputs=inputs, outputs=outputs)\n",
    "\n",
    "demo.launch(quiet = True,)"
   ]
  },
  {
   "cell_type": "markdown",
   "id": "fcaf81eb",
   "metadata": {
    "id": "fcaf81eb"
   },
   "source": [
    "##### Seaborn"
   ]
  },
  {
   "cell_type": "code",
   "execution_count": 26,
   "id": "561f4f48",
   "metadata": {
    "colab": {
     "base_uri": "https://localhost:8080/",
     "height": 591
    },
    "id": "561f4f48",
    "outputId": "650144d0-989c-4c66-aae9-dbe8747e77ce"
   },
   "outputs": [
    {
     "name": "stdout",
     "output_type": "stream",
     "text": [
      "Running on local URL:  http://127.0.0.1:7902\n"
     ]
    },
    {
     "data": {
      "text/html": [
       "<div><iframe src=\"http://127.0.0.1:7902/\" width=\"900\" height=\"500\" allow=\"autoplay; camera; microphone;\" frameborder=\"0\" allowfullscreen></iframe></div>"
      ],
      "text/plain": [
       "<IPython.core.display.HTML object>"
      ]
     },
     "metadata": {},
     "output_type": "display_data"
    },
    {
     "data": {
      "text/plain": [
       "(<gradio.routes.App at 0x168a60b20>, 'http://127.0.0.1:7902/', None)"
      ]
     },
     "execution_count": 26,
     "metadata": {},
     "output_type": "execute_result"
    }
   ],
   "source": [
    "import matplotlib\n",
    "matplotlib.use('Agg')\n",
    "import matplotlib.pyplot as plt\n",
    "import seaborn as sns\n",
    "import gradio as gr\n",
    "def gdp_change(r, year, country, smoothen):\n",
    "    years = ['1850', '1900', '1950', '2000', '2050']\n",
    "    m = years.index(year)\n",
    "    start_day = 10* m\n",
    "    final_day = 10* (m + 1)\n",
    "    x = np.arange(start_day, final_day + 1)\n",
    "    pop_count = {\"USA\": 350, \"Canada\": 40, \"Mexico\": 300, \"UK\": 120}\n",
    "    if smoothen:\n",
    "        r = log(r)\n",
    "    df = pd.DataFrame({'day': x})\n",
    "    df[country] = ( x ** (r) * (pop_count[country] + 1))\n",
    "    fig = plt.figure()\n",
    "    sns.lineplot(x = df['day'], y = df[country].to_numpy())\n",
    "    plt.title(\"GDP in \" + year)\n",
    "    plt.ylabel(\"GDP (Millions)\")\n",
    "    plt.xlabel(\"Population Change since 1800s\")\n",
    "    plt.grid()\n",
    "    return fig\n",
    "\n",
    "inputs = [\n",
    "        gr.Slider(1, 4, 3.2, label=\"R\"),\n",
    "        gr.Dropdown(['1850', '1900', '1950', '2000', '2050'], label=\"year\"),\n",
    "        gr.Radio([\"USA\", \"Canada\", \"Mexico\", \"UK\"], label=\"Countries\", ),\n",
    "        gr.Checkbox(label=\"Log of GDP Growth Rate?\"),\n",
    "    ]\n",
    "outputs = gr.Plot()\n",
    "\n",
    "demo = gr.Interface(fn=gdp_change, inputs=inputs, outputs=outputs)\n",
    "\n",
    "demo.launch(quiet = True,)"
   ]
  },
  {
   "cell_type": "code",
   "execution_count": null,
   "id": "QNEaK585gfzF",
   "metadata": {
    "id": "QNEaK585gfzF"
   },
   "outputs": [],
   "source": [
    "#restart runtime to close all ports after exhaustion\n",
    "import os\n",
    "os.kill(os.getpid(), 9)\n",
    "#Run the cells below"
   ]
  },
  {
   "cell_type": "code",
   "execution_count": 1,
   "id": "fINngcVUhG9x",
   "metadata": {
    "id": "fINngcVUhG9x"
   },
   "outputs": [],
   "source": [
    "try:\n",
    "  import gradio as gr\n",
    "except:\n",
    "  !pip install gradio\n",
    "#import gradio\n",
    "import gradio as gr"
   ]
  },
  {
   "cell_type": "markdown",
   "id": "6dba4aa2",
   "metadata": {
    "id": "6dba4aa2"
   },
   "source": [
    "#### Plotly"
   ]
  },
  {
   "cell_type": "code",
   "execution_count": 2,
   "id": "3e2a0b50",
   "metadata": {
    "colab": {
     "base_uri": "https://localhost:8080/",
     "height": 646
    },
    "id": "3e2a0b50",
    "outputId": "8c5092bd-0847-45ca-c209-105ed6b1a976"
   },
   "outputs": [
    {
     "name": "stdout",
     "output_type": "stream",
     "text": [
      "Running on local URL:  http://127.0.0.1:7880\n"
     ]
    },
    {
     "data": {
      "text/html": [
       "<div><iframe src=\"http://127.0.0.1:7880/\" width=\"900\" height=\"500\" allow=\"autoplay; camera; microphone;\" frameborder=\"0\" allowfullscreen></iframe></div>"
      ],
      "text/plain": [
       "<IPython.core.display.HTML object>"
      ]
     },
     "metadata": {},
     "output_type": "display_data"
    },
    {
     "data": {
      "text/plain": [
       "(<gradio.routes.App at 0x14c1fedc0>, 'http://127.0.0.1:7880/', None)"
      ]
     },
     "execution_count": 2,
     "metadata": {},
     "output_type": "execute_result"
    }
   ],
   "source": [
    "import gradio as gr\n",
    "from math import log\n",
    "import matplotlib\n",
    "matplotlib.use('Agg')\n",
    "import matplotlib.pyplot as plt\n",
    "import numpy as np\n",
    "import plotly.express as px\n",
    "import pandas as pd\n",
    "\n",
    "\n",
    "def gdp_change(r, year, country, smoothen):\n",
    "    years = ['1850', '1900', '1950', '2000', '2050']\n",
    "    m = years.index(year)\n",
    "    start_day = 10* m\n",
    "    final_day = 10* (m + 1)\n",
    "    x = np.arange(start_day, final_day + 1)\n",
    "    pop_count = {\"USA\": 350, \"Canada\": 40, \"Mexico\": 300, \"UK\": 120}\n",
    "    if smoothen:\n",
    "        r = log(r)\n",
    "    df = pd.DataFrame({'day': x})\n",
    "    df[country] = ( x ** (r) * (pop_count[country] + 1))\n",
    "    fig = px.line(df, x='day', y=df[country].to_numpy())\n",
    "    fig.update_layout(title=\"GDP in \" + year,\n",
    "                yaxis_title=\"GDP\",\n",
    "                xaxis_title=\"Population change since 1800s\")\n",
    "    return fig\n",
    "\n",
    "inputs = [\n",
    "        gr.Slider(1, 4, 3.2, label=\"R\"),\n",
    "        gr.Dropdown(['1850', '1900', '1950', '2000', '2050'], label=\"year\"),\n",
    "        gr.Radio([\"USA\", \"Canada\", \"Mexico\", \"UK\"], label=\"Countries\", ),\n",
    "        gr.Checkbox(label=\"Log of GDP Growth Rate?\"),\n",
    "    ]\n",
    "outputs = gr.Plot()\n",
    "\n",
    "demo = gr.Interface(fn=gdp_change, inputs=inputs, outputs=outputs)\n",
    "\n",
    "demo.launch(quiet = True,)"
   ]
  },
  {
   "cell_type": "markdown",
   "id": "v1PPgnNhRH3f",
   "metadata": {
    "id": "v1PPgnNhRH3f"
   },
   "source": [
    "##### Map plot"
   ]
  },
  {
   "cell_type": "code",
   "execution_count": 3,
   "id": "ea5d194c",
   "metadata": {
    "colab": {
     "base_uri": "https://localhost:8080/"
    },
    "id": "ea5d194c",
    "outputId": "1a3e0633-9b14-408c-fe52-8bbca6b01ed5"
   },
   "outputs": [
    {
     "name": "stdout",
     "output_type": "stream",
     "text": [
      "Running on local URL:  http://127.0.0.1:7881\n"
     ]
    },
    {
     "data": {
      "text/html": [
       "<div><iframe src=\"http://127.0.0.1:7881/\" width=\"900\" height=\"500\" allow=\"autoplay; camera; microphone;\" frameborder=\"0\" allowfullscreen></iframe></div>"
      ],
      "text/plain": [
       "<IPython.core.display.HTML object>"
      ]
     },
     "metadata": {},
     "output_type": "display_data"
    },
    {
     "data": {
      "text/plain": [
       "(<gradio.routes.App at 0x14bfa8970>, 'http://127.0.0.1:7881/', None)"
      ]
     },
     "execution_count": 3,
     "metadata": {},
     "output_type": "execute_result"
    }
   ],
   "source": [
    "import plotly.express as px\n",
    "import pandas as pd\n",
    "def map_plot():\n",
    "  #define a map element\n",
    "    df = px.data.gapminder().query(\"year==2002\")\n",
    "    fig = px.scatter_geo(df, locations=\"iso_alpha\", color=\"continent\",\n",
    "                        hover_name=\"country\", size=\"lifeExp\",\n",
    "                        projection=\"natural earth\")\n",
    "    return fig\n",
    "outputs = gr.Plot()\n",
    "\n",
    "demo = gr.Interface(fn=map_plot, inputs=None, outputs=outputs)\n",
    "\n",
    "demo.launch(quiet = True,)"
   ]
  },
  {
   "cell_type": "markdown",
   "id": "GRaMNlOI1rUh",
   "metadata": {
    "id": "GRaMNlOI1rUh"
   },
   "source": [
    "#### Event Listener"
   ]
  },
  {
   "cell_type": "code",
   "execution_count": 4,
   "id": "bVj-R1mh1tf0",
   "metadata": {
    "id": "bVj-R1mh1tf0"
   },
   "outputs": [
    {
     "name": "stdout",
     "output_type": "stream",
     "text": [
      "Running on local URL:  http://127.0.0.1:7882\n"
     ]
    },
    {
     "data": {
      "text/html": [
       "<div><iframe src=\"http://127.0.0.1:7882/\" width=\"900\" height=\"500\" allow=\"autoplay; camera; microphone;\" frameborder=\"0\" allowfullscreen></iframe></div>"
      ],
      "text/plain": [
       "<IPython.core.display.HTML object>"
      ]
     },
     "metadata": {},
     "output_type": "display_data"
    },
    {
     "data": {
      "text/plain": [
       "(<gradio.routes.App at 0x14c4afa90>, 'http://127.0.0.1:7882/', None)"
      ]
     },
     "execution_count": 4,
     "metadata": {},
     "output_type": "execute_result"
    }
   ],
   "source": [
    "import gradio as gr\n",
    "\n",
    "def welcome(name):\n",
    "    return f\"Welcome back, {name}!\"\n",
    "\n",
    "with gr.Blocks() as demo:\n",
    "    gr.Markdown(\n",
    "    \"\"\"\n",
    "    Type anything to see the output\n",
    "    \"\"\")\n",
    "    inp = gr.Textbox(placeholder=\"Enter your name\")\n",
    "    out = gr.Textbox()\n",
    "    inp.change(welcome, inp, out)\n",
    "\n",
    "demo.launch(quiet = True,)"
   ]
  },
  {
   "cell_type": "markdown",
   "id": "CrwZnHX1rt4q",
   "metadata": {
    "id": "CrwZnHX1rt4q"
   },
   "source": [
    "#### Statefullness"
   ]
  },
  {
   "cell_type": "markdown",
   "id": "aS4fFYjYrxn4",
   "metadata": {
    "id": "aS4fFYjYrxn4"
   },
   "source": [
    "##### Global State"
   ]
  },
  {
   "cell_type": "code",
   "execution_count": 5,
   "id": "nM8f5VD0s0LO",
   "metadata": {
    "id": "nM8f5VD0s0LO"
   },
   "outputs": [
    {
     "name": "stdout",
     "output_type": "stream",
     "text": [
      "Running on local URL:  http://127.0.0.1:7883\n"
     ]
    },
    {
     "data": {
      "text/html": [
       "<div><iframe src=\"http://127.0.0.1:7883/\" width=\"900\" height=\"500\" allow=\"autoplay; camera; microphone;\" frameborder=\"0\" allowfullscreen></iframe></div>"
      ],
      "text/plain": [
       "<IPython.core.display.HTML object>"
      ]
     },
     "metadata": {},
     "output_type": "display_data"
    },
    {
     "data": {
      "text/plain": [
       "(<gradio.routes.App at 0x14bf9f6a0>, 'http://127.0.0.1:7883/', None)"
      ]
     },
     "execution_count": 5,
     "metadata": {},
     "output_type": "execute_result"
    }
   ],
   "source": [
    "import gradio as gr\n",
    "\n",
    "gdps = []\n",
    "\n",
    "def track_gdp(gdp):\n",
    "    gdps.append(gdp)\n",
    "    top_gdps = sorted(gdps, reverse=True)[:3]\n",
    "    return top_gdps\n",
    "\n",
    "demo = gr.Interface(\n",
    "    track_gdp, \n",
    "    gr.Number(label=\"gdp\"), \n",
    "    gr.JSON(label=\"Top gdps\")\n",
    ")\n",
    "demo.launch(quiet = True,)"
   ]
  },
  {
   "cell_type": "markdown",
   "id": "2J1t8OCroZmi",
   "metadata": {
    "id": "2J1t8OCroZmi"
   },
   "source": [
    "##### Session State"
   ]
  },
  {
   "cell_type": "code",
   "execution_count": 6,
   "id": "a3iVJwgfodug",
   "metadata": {
    "colab": {
     "background_save": true
    },
    "id": "a3iVJwgfodug",
    "outputId": "fc8b93ff-bd0f-48d4-d02f-6e9e712bd3a2"
   },
   "outputs": [
    {
     "name": "stdout",
     "output_type": "stream",
     "text": [
      "Running on local URL:  http://127.0.0.1:7884\n"
     ]
    },
    {
     "data": {
      "text/html": [
       "<div><iframe src=\"http://127.0.0.1:7884/\" width=\"900\" height=\"500\" allow=\"autoplay; camera; microphone;\" frameborder=\"0\" allowfullscreen></iframe></div>"
      ],
      "text/plain": [
       "<IPython.core.display.HTML object>"
      ]
     },
     "metadata": {},
     "output_type": "display_data"
    },
    {
     "data": {
      "text/plain": [
       "(<gradio.routes.App at 0x14c5a19d0>, 'http://127.0.0.1:7884/', None)"
      ]
     },
     "execution_count": 6,
     "metadata": {},
     "output_type": "execute_result"
    }
   ],
   "source": [
    "import gradio as gr\n",
    "import random\n",
    "\n",
    "secret_word = \"Machine\"\n",
    "\n",
    "with gr.Blocks() as demo:    \n",
    "    used_letters_var = gr.State([])\n",
    "    with gr.Row() as row:\n",
    "        with gr.Column():\n",
    "            input_letter = gr.Textbox(label=\"Enter letter\")\n",
    "            btn = gr.Button(\"Guess Letter\")\n",
    "        with gr.Column():\n",
    "            hangman = gr.Textbox(\n",
    "                label=\"Hangman\",\n",
    "                value=\"_\"*len(secret_word)\n",
    "            )\n",
    "            used_letters_box = gr.Textbox(label=\"Used Letters\")\n",
    "\n",
    "    def guess_letter(letter, used_letters):\n",
    "        used_letters.append(letter)\n",
    "        answer = \"\".join([\n",
    "            (letter if letter in used_letters else \"_\")\n",
    "            for letter in secret_word\n",
    "        ])\n",
    "        return {\n",
    "            used_letters_var: used_letters,\n",
    "            used_letters_box: \", \".join(used_letters),\n",
    "            hangman: answer\n",
    "        }\n",
    "    btn.click(\n",
    "        guess_letter, \n",
    "        [input_letter, used_letters_var],\n",
    "        [used_letters_var, used_letters_box, hangman]\n",
    "        )\n",
    "demo.launch(quiet = True,)"
   ]
  },
  {
   "cell_type": "markdown",
   "id": "1KUF7DXyyCOV",
   "metadata": {
    "id": "1KUF7DXyyCOV"
   },
   "source": [
    "#### Laying out your application"
   ]
  },
  {
   "cell_type": "markdown",
   "id": "DHEYQ_EcyUPD",
   "metadata": {
    "id": "DHEYQ_EcyUPD"
   },
   "source": [
    "###### Rows"
   ]
  },
  {
   "cell_type": "code",
   "execution_count": 7,
   "id": "af685208",
   "metadata": {
    "colab": {
     "background_save": true
    },
    "id": "af685208",
    "outputId": "9e1ee222-53e1-4981-c204-519e02616008"
   },
   "outputs": [
    {
     "name": "stdout",
     "output_type": "stream",
     "text": [
      "Running on local URL:  http://127.0.0.1:7885\n"
     ]
    },
    {
     "data": {
      "text/html": [
       "<div><iframe src=\"http://127.0.0.1:7885/\" width=\"900\" height=\"500\" allow=\"autoplay; camera; microphone;\" frameborder=\"0\" allowfullscreen></iframe></div>"
      ],
      "text/plain": [
       "<IPython.core.display.HTML object>"
      ]
     },
     "metadata": {},
     "output_type": "display_data"
    },
    {
     "data": {
      "text/plain": [
       "(<gradio.routes.App at 0x14c60ac10>, 'http://127.0.0.1:7885/', None)"
      ]
     },
     "execution_count": 7,
     "metadata": {},
     "output_type": "execute_result"
    }
   ],
   "source": [
    "import gradio as gr\n",
    "with gr.Blocks() as demo:\n",
    "    with gr.Row():\n",
    "        gr.Text()\n",
    "        gr.Text()\n",
    "demo.launch(quiet = True,)"
   ]
  },
  {
   "cell_type": "markdown",
   "id": "2gkZ3dM9v-h1",
   "metadata": {
    "id": "2gkZ3dM9v-h1"
   },
   "source": [
    "##### Columns"
   ]
  },
  {
   "cell_type": "code",
   "execution_count": 8,
   "id": "e88d23bc",
   "metadata": {
    "colab": {
     "background_save": true
    },
    "id": "e88d23bc",
    "outputId": "60b814e0-238a-46d9-97cb-2804079cf5bd"
   },
   "outputs": [
    {
     "name": "stdout",
     "output_type": "stream",
     "text": [
      "Running on local URL:  http://127.0.0.1:7886\n"
     ]
    },
    {
     "data": {
      "text/html": [
       "<div><iframe src=\"http://127.0.0.1:7886/\" width=\"900\" height=\"500\" allow=\"autoplay; camera; microphone;\" frameborder=\"0\" allowfullscreen></iframe></div>"
      ],
      "text/plain": [
       "<IPython.core.display.HTML object>"
      ]
     },
     "metadata": {},
     "output_type": "display_data"
    },
    {
     "data": {
      "text/plain": [
       "(<gradio.routes.App at 0x14c67ca90>, 'http://127.0.0.1:7886/', None)"
      ]
     },
     "execution_count": 8,
     "metadata": {},
     "output_type": "execute_result"
    }
   ],
   "source": [
    "import gradio as gr\n",
    "with gr.Blocks() as demo:\n",
    "    with gr.Column(scale=2):\n",
    "         btn1 = gr.Button(\"Button 1\")\n",
    "         btn2 = gr.Button(\"Button 2\")\n",
    "    with gr.Column(scale=1):\n",
    "         text1 = gr.Textbox()\n",
    "         text2 = gr.Textbox()\n",
    "demo.launch(quiet = True,)"
   ]
  },
  {
   "cell_type": "markdown",
   "id": "D3QkELhUwGwZ",
   "metadata": {
    "id": "D3QkELhUwGwZ"
   },
   "source": [
    "##### Tabs"
   ]
  },
  {
   "cell_type": "code",
   "execution_count": 9,
   "id": "oKD-yKZvwLHb",
   "metadata": {
    "id": "oKD-yKZvwLHb"
   },
   "outputs": [
    {
     "name": "stdout",
     "output_type": "stream",
     "text": [
      "Running on local URL:  http://127.0.0.1:7887\n"
     ]
    },
    {
     "data": {
      "text/html": [
       "<div><iframe src=\"http://127.0.0.1:7887/\" width=\"900\" height=\"500\" allow=\"autoplay; camera; microphone;\" frameborder=\"0\" allowfullscreen></iframe></div>"
      ],
      "text/plain": [
       "<IPython.core.display.HTML object>"
      ]
     },
     "metadata": {},
     "output_type": "display_data"
    },
    {
     "data": {
      "text/plain": [
       "(<gradio.routes.App at 0x14c6faca0>, 'http://127.0.0.1:7887/', None)"
      ]
     },
     "execution_count": 9,
     "metadata": {},
     "output_type": "execute_result"
    }
   ],
   "source": [
    "import gradio as gr\n",
    "with gr.Blocks() as demo:\n",
    "    with gr.Tab(label = \"Button tab\"):\n",
    "         btn1 = gr.Button(\"Button 1\")\n",
    "         btn2 = gr.Button(\"Button 2\")\n",
    "    with gr.Tab(label = \"Textbox tab\"):\n",
    "         text1 = gr.Textbox()\n",
    "         text2 = gr.Textbox()\n",
    "demo.launch(quiet = True,)"
   ]
  },
  {
   "cell_type": "markdown",
   "id": "U2ZVM0CdyhK_",
   "metadata": {
    "id": "U2ZVM0CdyhK_"
   },
   "source": [
    "##### Accordion"
   ]
  },
  {
   "cell_type": "code",
   "execution_count": 10,
   "id": "U5lT3gWrwLM7",
   "metadata": {
    "id": "U5lT3gWrwLM7"
   },
   "outputs": [
    {
     "name": "stdout",
     "output_type": "stream",
     "text": [
      "Running on local URL:  http://127.0.0.1:7888\n"
     ]
    },
    {
     "data": {
      "text/html": [
       "<div><iframe src=\"http://127.0.0.1:7888/\" width=\"900\" height=\"500\" allow=\"autoplay; camera; microphone;\" frameborder=\"0\" allowfullscreen></iframe></div>"
      ],
      "text/plain": [
       "<IPython.core.display.HTML object>"
      ]
     },
     "metadata": {},
     "output_type": "display_data"
    },
    {
     "data": {
      "text/plain": [
       "(<gradio.routes.App at 0x14c782190>, 'http://127.0.0.1:7888/', None)"
      ]
     },
     "execution_count": 10,
     "metadata": {},
     "output_type": "execute_result"
    }
   ],
   "source": [
    "import gradio as gr\n",
    "with gr.Blocks() as demo:\n",
    "    with gr.Accordion(\"Display Details\"):\n",
    "        gr.Markdown(\"Machine Learning and Big Data\")\n",
    "demo.launch(quiet = True,)"
   ]
  },
  {
   "cell_type": "markdown",
   "id": "6Nobtcy60RR-",
   "metadata": {
    "id": "6Nobtcy60RR-"
   },
   "source": [
    "#### Visibility"
   ]
  },
  {
   "cell_type": "code",
   "execution_count": 11,
   "id": "O5DNRXxzwLQU",
   "metadata": {
    "id": "O5DNRXxzwLQU"
   },
   "outputs": [
    {
     "name": "stdout",
     "output_type": "stream",
     "text": [
      "Running on local URL:  http://127.0.0.1:7889\n"
     ]
    },
    {
     "data": {
      "text/html": [
       "<div><iframe src=\"http://127.0.0.1:7889/\" width=\"900\" height=\"500\" allow=\"autoplay; camera; microphone;\" frameborder=\"0\" allowfullscreen></iframe></div>"
      ],
      "text/plain": [
       "<IPython.core.display.HTML object>"
      ]
     },
     "metadata": {},
     "output_type": "display_data"
    },
    {
     "data": {
      "text/plain": [
       "(<gradio.routes.App at 0x14c688670>, 'http://127.0.0.1:7889/', None)"
      ]
     },
     "execution_count": 11,
     "metadata": {},
     "output_type": "execute_result"
    }
   ],
   "source": [
    "import gradio as gr\n",
    "\n",
    "import gradio as gr\n",
    "def update_textbox(choice):\n",
    "  if choice == \"short\":\n",
    "      return gr.Textbox.update(lines=1, visible=True)\n",
    "  elif choice == \"long\":\n",
    "      return gr.Textbox.update(lines=6, visible=True)\n",
    "  else:\n",
    "      return gr.Textbox.update(visible=False)\n",
    "gr.Interface(\n",
    "  update_textbox,\n",
    "  gr.Radio(\n",
    "      [\"short\", \"long\", \"No message\"], label=\"What kind of message would you like to send?\"\n",
    "  ),\n",
    "  gr.Textbox(lines=2),\n",
    "  live=True,\n",
    ").launch(quiet = True,)"
   ]
  },
  {
   "cell_type": "markdown",
   "id": "MFhkjuWd7IuU",
   "metadata": {
    "id": "MFhkjuWd7IuU"
   },
   "source": [
    "#### Multi-page apps"
   ]
  },
  {
   "cell_type": "code",
   "execution_count": 12,
   "id": "577dcf02",
   "metadata": {
    "id": "577dcf02"
   },
   "outputs": [
    {
     "name": "stderr",
     "output_type": "stream",
     "text": [
      "/Users/derrickmwiti/miniforge3/lib/python3.9/site-packages/gradio/blocks.py:593: UserWarning: api_name predict already exists, using predict_1\n",
      "  warnings.warn(\n"
     ]
    },
    {
     "name": "stdout",
     "output_type": "stream",
     "text": [
      "Running on local URL:  http://127.0.0.1:7890\n"
     ]
    },
    {
     "data": {
      "text/html": [
       "<div><iframe src=\"http://127.0.0.1:7890/\" width=\"900\" height=\"500\" allow=\"autoplay; camera; microphone;\" frameborder=\"0\" allowfullscreen></iframe></div>"
      ],
      "text/plain": [
       "<IPython.core.display.HTML object>"
      ]
     },
     "metadata": {},
     "output_type": "display_data"
    }
   ],
   "source": [
    "#define your first application\n",
    "#!pip install gradio\n",
    "import gradio as gr\n",
    "import seaborn as sns\n",
    "import matplotlib.pyplot as plt\n",
    "import numpy as np\n",
    "import pandas as pd\n",
    "from math import log\n",
    "def user_greeting(name):\n",
    "    return \"Hi! \" + name + \" Welcome to your multi-page application!😎\"\n",
    "#app 1\n",
    "app =  gr.Interface(fn = user_greeting, inputs=\"text\", outputs=\"text\", examples = [\"Zenith\", \"Antoinne\", \"Amelia\", \"Johanna\"])\n",
    "\n",
    "#define your second application\n",
    "def gdp_change(r, year, country, smoothen):\n",
    "    years = ['1850', '1900', '1950', '2000', '2050']\n",
    "    m = years.index(year)\n",
    "    start_day = 10* m\n",
    "    final_day = 10* (m + 1)\n",
    "    x = np.arange(start_day, final_day + 1)\n",
    "    pop_count = {\"USA\": 350, \"Canada\": 40, \"Mexico\": 300, \"UK\": 120}\n",
    "    if smoothen:\n",
    "        r = log(r)\n",
    "    df = pd.DataFrame({'day': x})\n",
    "    df[country] = ( x ** (r) * (pop_count[country] + 1))\n",
    "    fig = plt.figure()\n",
    "    sns.lineplot(x = df['day'], y = df[country].to_numpy())\n",
    "    plt.title(\"GDP in \" + year)\n",
    "    plt.ylabel(\"GDP (Millions)\")\n",
    "    plt.xlabel(\"Population Change since 1800s\")\n",
    "    plt.grid()\n",
    "    return fig\n",
    "\n",
    "inputs = [\n",
    "        gr.Slider(1, 4, 3.2, label=\"R\"),\n",
    "        gr.Dropdown(['1850', '1900', '1950', '2000', '2050'], label=\"year\"),\n",
    "        gr.Radio([\"USA\", \"Canada\", \"Mexico\", \"UK\"], label=\"Countries\", ),\n",
    "        gr.Checkbox(label=\"Log of GDP Growth Rate?\"),\n",
    "    ]\n",
    "outputs = gr.Plot()\n",
    "#app 2\n",
    "app2 = gr.Interface(fn=gdp_change, inputs=inputs, outputs=outputs)\n",
    "#combine to create a multipage app\n",
    "demo = gr.TabbedInterface([app, app2], [\"Welcome page\", \"Visualization page\"])\n",
    "\n",
    "if __name__ == \"__main__\":\n",
    "    demo.launch(quiet = True,)"
   ]
  },
  {
   "cell_type": "markdown",
   "id": "3sAzqFL6-pqq",
   "metadata": {
    "id": "3sAzqFL6-pqq"
   },
   "source": [
    "#### Custom CSS and Javascript"
   ]
  },
  {
   "cell_type": "code",
   "execution_count": 13,
   "id": "6974e0b2",
   "metadata": {
    "colab": {
     "background_save": true
    },
    "id": "6974e0b2",
    "outputId": "ab6fc0e5-68c2-49fc-eb9a-33634becc175"
   },
   "outputs": [
    {
     "name": "stdout",
     "output_type": "stream",
     "text": [
      "Running on local URL:  http://127.0.0.1:7891\n"
     ]
    },
    {
     "data": {
      "text/html": [
       "<div><iframe src=\"http://127.0.0.1:7891/\" width=\"900\" height=\"500\" allow=\"autoplay; camera; microphone;\" frameborder=\"0\" allowfullscreen></iframe></div>"
      ],
      "text/plain": [
       "<IPython.core.display.HTML object>"
      ]
     },
     "metadata": {},
     "output_type": "display_data"
    },
    {
     "data": {
      "text/plain": [
       "(<gradio.routes.App at 0x14c8a6760>, 'http://127.0.0.1:7891/', None)"
      ]
     },
     "execution_count": 13,
     "metadata": {},
     "output_type": "execute_result"
    }
   ],
   "source": [
    "import gradio as gr\n",
    "with gr.Blocks(css=\".gradio-container {background-color: grey}\") as demo:\n",
    "    with gr.Tab(label = \"Button tab\"):\n",
    "         btn1 = gr.Button(\"Button 1\")\n",
    "         btn2 = gr.Button(\"Button 2\")\n",
    "    with gr.Tab(label = \"Textbox tab\"):\n",
    "         text1 = gr.Textbox()\n",
    "         text2 = gr.Textbox()\n",
    "demo.launch(quiet = True,)\n"
   ]
  },
  {
   "cell_type": "markdown",
   "id": "u1acDG6fBsKX",
   "metadata": {
    "id": "u1acDG6fBsKX"
   },
   "source": [
    "##### JS"
   ]
  },
  {
   "cell_type": "code",
   "execution_count": 14,
   "id": "d7bda13a",
   "metadata": {
    "colab": {
     "background_save": true
    },
    "id": "d7bda13a",
    "outputId": "238d4681-368f-4037-b8b5-a943d4349b57"
   },
   "outputs": [
    {
     "name": "stdout",
     "output_type": "stream",
     "text": [
      "Running on local URL:  http://127.0.0.1:7892\n"
     ]
    },
    {
     "data": {
      "text/html": [
       "<div><iframe src=\"http://127.0.0.1:7892/\" width=\"900\" height=\"500\" allow=\"autoplay; camera; microphone;\" frameborder=\"0\" allowfullscreen></iframe></div>"
      ],
      "text/plain": [
       "<IPython.core.display.HTML object>"
      ]
     },
     "metadata": {},
     "output_type": "display_data"
    },
    {
     "data": {
      "text/plain": [
       "(<gradio.routes.App at 0x2b06ad160>, 'http://127.0.0.1:7892/', None)"
      ]
     },
     "execution_count": 14,
     "metadata": {},
     "output_type": "execute_result"
    }
   ],
   "source": [
    "import gradio as gr\n",
    "\n",
    "blocks = gr.Blocks()\n",
    "\n",
    "with blocks as demo:\n",
    "    subject = gr.Radio([\"Analyse\", \"Explore\", \"Learn\"])\n",
    "    verb = gr.Radio([\"GDP Change\", \"Population Growth\", \"Big Data\"])\n",
    "    object = gr.Textbox(placeholder=\"region\")\n",
    "\n",
    "    with gr.Row():\n",
    "        btn = gr.Button(\"Create sentence.\")\n",
    "        reverse_btn = gr.Button(\"Reverse sentence.\")\n",
    "\n",
    "    def sentence_maker(w1, w2, w3):\n",
    "        return f\"{w1} {w2} in {w3}\"\n",
    "\n",
    "    output1 = gr.Textbox(label=\"output 1\")\n",
    "    output2 = gr.Textbox(label=\"verb reversed\")\n",
    "\n",
    "    btn.click(sentence_maker, [subject, verb, object], output1)\n",
    "    #custom JS to reverse the sentense\n",
    "    reverse_btn.click(None, [subject, verb, object], output2, _js=\"(s, v, o) => o + ' ' + v + ' ' + s\")\n",
    "\n",
    "demo.launch(quiet = True,)"
   ]
  },
  {
   "cell_type": "markdown",
   "id": "zAF987MxPdP0",
   "metadata": {
    "id": "zAF987MxPdP0"
   },
   "source": [
    "##### Authentication of apps"
   ]
  },
  {
   "cell_type": "code",
   "execution_count": 25,
   "id": "359f67d1",
   "metadata": {
    "colab": {
     "background_save": true
    },
    "id": "359f67d1",
    "outputId": "782ec39b-a597-41b8-b6db-e48a6ba8fedd"
   },
   "outputs": [
    {
     "name": "stdout",
     "output_type": "stream",
     "text": [
      "Running on local URL:  http://127.0.0.1:7902\n"
     ]
    },
    {
     "data": {
      "text/plain": [
       "(<gradio.routes.App at 0x2de57f2e0>, 'http://127.0.0.1:7902/', None)"
      ]
     },
     "execution_count": 25,
     "metadata": {},
     "output_type": "execute_result"
    }
   ],
   "source": [
    "import gradio as gr\n",
    "\n",
    "def data_display(input_img):\n",
    "    return input_img\n",
    "\n",
    "demo = gr.Interface(data_display, gr.Dataframe(), \"matrix\")\n",
    "demo.launch(quiet = True,enable_queue=False, auth=(\"username\", \"password\"), auth_message=\"Try this\")\n"
   ]
  },
  {
   "cell_type": "markdown",
   "id": "Om_F3EZRTp9x",
   "metadata": {
    "id": "Om_F3EZRTp9x"
   },
   "source": [
    "##### Uploading and Processing files"
   ]
  },
  {
   "cell_type": "markdown",
   "id": "e_CEq4t1eHfg",
   "metadata": {
    "id": "e_CEq4t1eHfg"
   },
   "source": [
    "##### Single"
   ]
  },
  {
   "cell_type": "code",
   "execution_count": 16,
   "id": "s57HJFATesLK",
   "metadata": {
    "colab": {
     "background_save": true
    },
    "id": "s57HJFATesLK",
    "outputId": "7f1ab321-80a8-40b2-bd64-c35a32e751f0"
   },
   "outputs": [
    {
     "name": "stdout",
     "output_type": "stream",
     "text": [
      "Running on local URL:  http://127.0.0.1:7894\n"
     ]
    },
    {
     "data": {
      "text/html": [
       "<div><iframe src=\"http://127.0.0.1:7894/\" width=\"900\" height=\"500\" allow=\"autoplay; camera; microphone;\" frameborder=\"0\" allowfullscreen></iframe></div>"
      ],
      "text/plain": [
       "<IPython.core.display.HTML object>"
      ]
     },
     "metadata": {},
     "output_type": "display_data"
    },
    {
     "data": {
      "text/plain": [
       "(<gradio.routes.App at 0x2bc8b3a60>, 'http://127.0.0.1:7894/', None)"
      ]
     },
     "execution_count": 16,
     "metadata": {},
     "output_type": "execute_result"
    }
   ],
   "source": [
    "import warnings\n",
    "warnings.filterwarnings('ignore')\n",
    "def upload_image(input_img):\n",
    "\n",
    "    return input_img\n",
    "\n",
    "demo = gr.Interface(\n",
    "    upload_image,\n",
    "    gr.File(),\n",
    "    \"file\",\n",
    ")\n",
    "\n",
    "demo.launch(quiet = True,)"
   ]
  },
  {
   "cell_type": "code",
   "execution_count": 17,
   "id": "8xpi82yeUu17",
   "metadata": {
    "colab": {
     "background_save": true
    },
    "id": "8xpi82yeUu17",
    "outputId": "f5986788-e9c8-454c-acee-aa49d6cd3fd9"
   },
   "outputs": [
    {
     "name": "stdout",
     "output_type": "stream",
     "text": [
      "Running on local URL:  http://127.0.0.1:7895\n"
     ]
    },
    {
     "data": {
      "text/html": [
       "<div><iframe src=\"http://127.0.0.1:7895/\" width=\"900\" height=\"500\" allow=\"autoplay; camera; microphone;\" frameborder=\"0\" allowfullscreen></iframe></div>"
      ],
      "text/plain": [
       "<IPython.core.display.HTML object>"
      ]
     },
     "metadata": {},
     "output_type": "display_data"
    }
   ],
   "source": [
    "from zipfile import ZipFile\n",
    "\n",
    "import gradio as gr\n",
    "\n",
    "\n",
    "def upload_file(file_obj):\n",
    "    files = []\n",
    "    with ZipFile(file_obj.name) as zfile:\n",
    "        for zinfo in zfile.infolist():\n",
    "            files.append(\n",
    "                {\n",
    "                    \"name\": zinfo.filename,\n",
    "                }\n",
    "            )\n",
    "    return files\n",
    "\n",
    "\n",
    "demo = gr.Interface(upload_file, \"file\", \"json\")\n",
    "\n",
    "if __name__ == \"__main__\":\n",
    "    demo.launch(quiet = True,)"
   ]
  },
  {
   "cell_type": "markdown",
   "id": "fG6dws-BWWC7",
   "metadata": {
    "id": "fG6dws-BWWC7"
   },
   "source": [
    "##### Multiple files"
   ]
  },
  {
   "cell_type": "code",
   "execution_count": 18,
   "id": "rK__WhENWiEq",
   "metadata": {
    "colab": {
     "background_save": true
    },
    "id": "rK__WhENWiEq",
    "outputId": "b862dbbd-2085-4af1-92e8-bf2cb6d37ec5"
   },
   "outputs": [
    {
     "name": "stdout",
     "output_type": "stream",
     "text": [
      "Running on local URL:  http://127.0.0.1:7896\n"
     ]
    },
    {
     "data": {
      "text/html": [
       "<div><iframe src=\"http://127.0.0.1:7896/\" width=\"900\" height=\"500\" allow=\"autoplay; camera; microphone;\" frameborder=\"0\" allowfullscreen></iframe></div>"
      ],
      "text/plain": [
       "<IPython.core.display.HTML object>"
      ]
     },
     "metadata": {},
     "output_type": "display_data"
    }
   ],
   "source": [
    "import os\n",
    "from zipfile import ZipFile\n",
    "\n",
    "import gradio as gr\n",
    "\n",
    "def zip_files(files):\n",
    "    with ZipFile(\"tmp.zip\", \"w\") as zipObj:\n",
    "        for idx, file in enumerate(files):\n",
    "            zipObj.write(file.name, \"file\" + str(idx))\n",
    "    return \"tmp.zip\"\n",
    "\n",
    "demo = gr.Interface(\n",
    "    zip_files,\n",
    "    gr.File(file_count=\"multiple\"),\n",
    "    \"file\"\n",
    ")\n",
    "\n",
    "if __name__ == \"__main__\":\n",
    "    demo.launch(quiet = True,)\n"
   ]
  },
  {
   "cell_type": "markdown",
   "id": "bxWjiaqwWiqk",
   "metadata": {
    "id": "bxWjiaqwWiqk"
   },
   "source": [
    "##### Process the file"
   ]
  },
  {
   "cell_type": "code",
   "execution_count": 19,
   "id": "f57525d6",
   "metadata": {
    "colab": {
     "background_save": true
    },
    "id": "f57525d6",
    "outputId": "572efb4c-c756-467b-dede-82861cf047f9"
   },
   "outputs": [
    {
     "name": "stdout",
     "output_type": "stream",
     "text": [
      "Running on local URL:  http://127.0.0.1:7897\n"
     ]
    },
    {
     "data": {
      "text/html": [
       "<div><iframe src=\"http://127.0.0.1:7897/\" width=\"900\" height=\"500\" allow=\"autoplay; camera; microphone;\" frameborder=\"0\" allowfullscreen></iframe></div>"
      ],
      "text/plain": [
       "<IPython.core.display.HTML object>"
      ]
     },
     "metadata": {},
     "output_type": "display_data"
    },
    {
     "data": {
      "text/plain": [
       "(<gradio.routes.App at 0x2c5a14850>, 'http://127.0.0.1:7897/', None)"
      ]
     },
     "execution_count": 19,
     "metadata": {},
     "output_type": "execute_result"
    }
   ],
   "source": [
    "import numpy as np\n",
    "import gradio as gr\n",
    "\n",
    "def sepia_hue(input_img):\n",
    "    sepia_filter = np.array([[.393, .769, .189],\n",
    "                         [.349, .686, .168],\n",
    "                         [.272, .534, .131]])\n",
    "    sepia_hue_img = input_img.dot(sepia_filter.T)\n",
    "    sepia_hue_img /= sepia_hue_img.max()\n",
    "    return sepia_hue_img\n",
    "\n",
    "demo = gr.Interface(sepia_hue, gr.Image(shape=(300, 200)), \"image\")\n",
    "demo.launch(quiet = True,)"
   ]
  },
  {
   "cell_type": "markdown",
   "id": "L13F3QFoUhfE",
   "metadata": {
    "id": "L13F3QFoUhfE"
   },
   "source": [
    "##### Flagging"
   ]
  },
  {
   "cell_type": "code",
   "execution_count": 20,
   "id": "1f72797b",
   "metadata": {
    "colab": {
     "background_save": true
    },
    "id": "1f72797b",
    "outputId": "30078ccd-7462-4c08-e5c3-818237cc26e7"
   },
   "outputs": [
    {
     "name": "stdout",
     "output_type": "stream",
     "text": [
      "Running on local URL:  http://127.0.0.1:7898\n"
     ]
    },
    {
     "data": {
      "text/html": [
       "<div><iframe src=\"http://127.0.0.1:7898/\" width=\"900\" height=\"500\" allow=\"autoplay; camera; microphone;\" frameborder=\"0\" allowfullscreen></iframe></div>"
      ],
      "text/plain": [
       "<IPython.core.display.HTML object>"
      ]
     },
     "metadata": {},
     "output_type": "display_data"
    },
    {
     "data": {
      "text/plain": [
       "(<gradio.routes.App at 0x2d1beeb80>, 'http://127.0.0.1:7898/', None)"
      ]
     },
     "execution_count": 20,
     "metadata": {},
     "output_type": "execute_result"
    }
   ],
   "source": [
    "\n",
    "import numpy as np\n",
    "import pandas as pd\n",
    "\n",
    "import gradio as gr\n",
    "import altair as alt\n",
    "\n",
    "from math import log\n",
    "import numpy as np\n",
    "import pandas as pd\n",
    "\n",
    "\n",
    "def gdp_change(r, year, country, smoothen):\n",
    "    years = ['1850', '1900', '1950', '2000', '2050']\n",
    "    m = years.index(year)\n",
    "    start_day = 1* m\n",
    "    final_day = 1* (m + 1)\n",
    "    x = np.arange(start_day, final_day + 1)\n",
    "    pop_count = {\"USA\": 350, \"Canada\": 40, \"Mexico\": 300, \"UK\": 120}\n",
    "    if smoothen:\n",
    "        r = log(r)\n",
    "    df = pd.DataFrame({'day': x})\n",
    "    df[country] = ( x ** (r) * (pop_count[country] + 1))\n",
    "    df['country'] = df[country].values\n",
    "\n",
    "    return alt.Chart(df).mark_bar().encode(\n",
    "            x='day',\n",
    "            y= 'country').properties(width=550)\n",
    "\n",
    "inputs = [\n",
    "        gr.Slider(0.1, 1, 0.3,step = 0.001, label=\"R\"),\n",
    "        gr.Dropdown(['1850', '1900', '1950', '2000', '2050'], label=\"year\"),\n",
    "        gr.Radio([\"USA\", \"Canada\", \"Mexico\", \"UK\"], label=\"Countries\", ),\n",
    "        gr.Checkbox(label=\"Log of GDP Growth Rate?\"),\n",
    "    ]\n",
    "outputs = gr.Plot()\n",
    "\n",
    "\n",
    "demo = gr.Interface(fn=gdp_change, inputs=inputs, outputs=outputs, allow_flagging=\"manual\", flagging_options=[\"No plot shown\", \"Wrong axis\", \"Other\"])\n",
    "\n",
    "demo.launch(quiet = True,)"
   ]
  },
  {
   "cell_type": "markdown",
   "id": "hVzfMx2L1xpf",
   "metadata": {
    "id": "hVzfMx2L1xpf"
   },
   "source": [
    "#####  Image Classification with Vision transformers"
   ]
  },
  {
   "cell_type": "code",
   "execution_count": 21,
   "id": "195f4b7c",
   "metadata": {
    "colab": {
     "background_save": true
    },
    "id": "195f4b7c",
    "outputId": "ccc24f7b-4c7d-433d-8434-983b125b50f1"
   },
   "outputs": [
    {
     "name": "stdout",
     "output_type": "stream",
     "text": [
      "Fetching model from: https://huggingface.co/google/vit-base-patch16-224\n",
      "Running on local URL:  http://127.0.0.1:7899\n"
     ]
    },
    {
     "data": {
      "text/html": [
       "<div><iframe src=\"http://127.0.0.1:7899/\" width=\"900\" height=\"500\" allow=\"autoplay; camera; microphone;\" frameborder=\"0\" allowfullscreen></iframe></div>"
      ],
      "text/plain": [
       "<IPython.core.display.HTML object>"
      ]
     },
     "metadata": {},
     "output_type": "display_data"
    },
    {
     "data": {
      "text/plain": [
       "(<gradio.routes.App at 0x2d8ce9820>, 'http://127.0.0.1:7899/', None)"
      ]
     },
     "execution_count": 21,
     "metadata": {},
     "output_type": "execute_result"
    }
   ],
   "source": [
    "import gradio as gr\n",
    "#load your preffered model\n",
    "app = gr.Interface.load(\n",
    "             \"huggingface/google/vit-base-patch16-224\")\n",
    "\n",
    "#launch\n",
    "app.launch(quiet = True,)"
   ]
  },
  {
   "cell_type": "markdown",
   "id": "kxxBYrU63pgk",
   "metadata": {
    "id": "kxxBYrU63pgk"
   },
   "source": [
    "##### Using Huggingface to develop a chatbot"
   ]
  },
  {
   "cell_type": "code",
   "execution_count": 22,
   "id": "GK3jv29-4ERu",
   "metadata": {
    "colab": {
     "background_save": true
    },
    "id": "GK3jv29-4ERu",
    "outputId": "089dd855-9e91-41c6-b830-dd10cbade81f"
   },
   "outputs": [],
   "source": [
    "try:\n",
    "   import transformers\n",
    "except:\n",
    "    !pip install transformers"
   ]
  },
  {
   "cell_type": "code",
   "execution_count": 23,
   "id": "cf195115",
   "metadata": {
    "colab": {
     "background_save": true,
     "referenced_widgets": [
      "a70a27866937477eab0fcefea778aef1",
      "449ca848e94b49b9b69da6598e48e2bb",
      "c2855ee8b2f34bb4bd4126a522c5b4a6",
      "a131a07b66e44cb1aec9492a51fd9e54",
      "18dfd4123f68491b910640ca2aab4f1b",
      "12e00c05874847a591b3f83b1a5c88d4"
     ]
    },
    "id": "cf195115",
    "outputId": "9d16ad0c-9932-4a61-e9f0-e3ca72c1f02d"
   },
   "outputs": [
    {
     "name": "stdout",
     "output_type": "stream",
     "text": [
      "Running on local URL:  http://127.0.0.1:7900\n"
     ]
    },
    {
     "data": {
      "text/html": [
       "<div><iframe src=\"http://127.0.0.1:7900/\" width=\"900\" height=\"500\" allow=\"autoplay; camera; microphone;\" frameborder=\"0\" allowfullscreen></iframe></div>"
      ],
      "text/plain": [
       "<IPython.core.display.HTML object>"
      ]
     },
     "metadata": {},
     "output_type": "display_data"
    },
    {
     "data": {
      "text/plain": [
       "(<gradio.routes.App at 0x2ecde0130>, 'http://127.0.0.1:7900/', None)"
      ]
     },
     "execution_count": 23,
     "metadata": {},
     "output_type": "execute_result"
    }
   ],
   "source": [
    "from transformers import AutoModelForCausalLM, AutoTokenizer\n",
    "import torch\n",
    "#set up the model (large version of DialoGPT)\n",
    "tokenizer = AutoTokenizer.from_pretrained(\"microsoft/DialoGPT-large\")\n",
    "model = AutoModelForCausalLM.from_pretrained(\"microsoft/DialoGPT-large\")\n",
    "\n",
    "#Defining a predict function\n",
    "\n",
    "def predict(input, history=[]):\n",
    "    # tokenize the new input sentence\n",
    "    new_user_input_ids = tokenizer.encode(input + tokenizer.eos_token, return_tensors='pt')\n",
    "\n",
    "    # append the new user input tokens to the chat history\n",
    "    bot_input_ids = torch.cat([torch.LongTensor(history), new_user_input_ids], dim=-1)\n",
    "\n",
    "    # generate a response \n",
    "    history = model.generate(bot_input_ids, max_length=1000, pad_token_id=tokenizer.eos_token_id).tolist()\n",
    "\n",
    "    # convert the tokens to text, and then split the responses into lines\n",
    "    response = tokenizer.decode(history[0]).split(\"<|endoftext|>\")\n",
    "    response = [(response[i], response[i+1]) for i in range(0, len(response)-1, 2)]  # convert to tuples of list\n",
    "    return response, history\n",
    "\n",
    "#creating a gradio interface\n",
    "\n",
    "import gradio as gr\n",
    "\n",
    "demo = gr.Interface(fn=predict,\n",
    "             inputs=[\"text\", \"state\"],\n",
    "             outputs=[\"chatbot\", \"state\"])\n",
    "\n",
    "demo.launch(quiet = True,)"
   ]
  },
  {
   "cell_type": "markdown",
   "id": "718b578d-6638-4a96-a494-56b91ae62186",
   "metadata": {},
   "source": [
    "## Where to go from here\n",
    "Follow us on [LinkedIn](https://www.linkedin.com/company/mlnuggets), [Twitter](https://twitter.com/ml_nuggets), [GitHub](https://github.com/mlnuggets) and subscribe to our [blog](https://www.machinelearningnuggets.com/#/portal) so that you don't miss a new issue."
   ]
  }
 ],
 "metadata": {
  "accelerator": "GPU",
  "colab": {
   "collapsed_sections": [],
   "provenance": []
  },
  "kernelspec": {
   "display_name": "Python 3 (ipykernel)",
   "language": "python",
   "name": "python3"
  },
  "language_info": {
   "codemirror_mode": {
    "name": "ipython",
    "version": 3
   },
   "file_extension": ".py",
   "mimetype": "text/x-python",
   "name": "python",
   "nbconvert_exporter": "python",
   "pygments_lexer": "ipython3",
   "version": "3.9.10"
  }
 },
 "nbformat": 4,
 "nbformat_minor": 5
}
