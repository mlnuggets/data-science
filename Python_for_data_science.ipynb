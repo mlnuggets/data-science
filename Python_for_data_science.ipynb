{
  "nbformat": 4,
  "nbformat_minor": 0,
  "metadata": {
    "colab": {
      "name": "Python for data science.ipynb",
      "provenance": [],
      "collapsed_sections": [
        "pOTI_t3ph67z",
        "3Wo-aNBchZIB",
        "N0yrsl5iiBa3",
        "LppbxVb_iZ1X"
      ]
    },
    "kernelspec": {
      "name": "python3",
      "display_name": "Python 3"
    },
    "language_info": {
      "name": "python"
    }
  },
  "cells": [
    {
      "cell_type": "markdown",
      "source": [
        "## Python for data science\n",
        "Click the image below to read the post online.\n",
        "\n",
        "<a href='https://www.machinelearningnuggets.com/python-for-data-science/'><img src='https://drive.google.com/uc?export=view&id=1kOh9VYVxg0n3ALZPCEW3kiYCVL-PhyRI'>"
      ],
      "metadata": {
        "id": "pOTI_t3ph67z"
      }
    },
    {
      "cell_type": "markdown",
      "source": [
        "# Python Syntax"
      ],
      "metadata": {
        "id": "y65nyPc0iiX5"
      }
    },
    {
      "cell_type": "code",
      "execution_count": 1,
      "metadata": {
        "id": "3WszHxq2h5S1",
        "colab": {
          "base_uri": "https://localhost:8080/"
        },
        "outputId": "47c7f15c-6bb1-4c5b-96cc-d0a16fd0b5a0"
      },
      "outputs": [
        {
          "output_type": "stream",
          "name": "stdout",
          "text": [
            "Learning Python\n"
          ]
        }
      ],
      "source": [
        "print('Learning Python')"
      ]
    },
    {
      "cell_type": "markdown",
      "source": [
        "## Python comments"
      ],
      "metadata": {
        "id": "3Wo-aNBchZIB"
      }
    },
    {
      "cell_type": "code",
      "source": [
        "# print('Simple python syntax')\n",
        "print('Simple python syntax')"
      ],
      "metadata": {
        "colab": {
          "base_uri": "https://localhost:8080/"
        },
        "id": "9zhn1-ashdUX",
        "outputId": "06eea3f3-b854-4cea-ae32-c48f46e7e92c"
      },
      "execution_count": null,
      "outputs": [
        {
          "output_type": "stream",
          "name": "stdout",
          "text": [
            "Simple python syntax\n"
          ]
        }
      ]
    },
    {
      "cell_type": "code",
      "source": [
        "# Comment 1\n",
        "# comment 2\n",
        "# Comment 3\n",
        "# Comment 4"
      ],
      "metadata": {
        "id": "jtQEuP6Wht92"
      },
      "execution_count": null,
      "outputs": []
    },
    {
      "cell_type": "markdown",
      "source": [
        "### Multi-line comment with triple-quoted string"
      ],
      "metadata": {
        "id": "N0yrsl5iiBa3"
      }
    },
    {
      "cell_type": "code",
      "source": [
        "'''\n",
        "This is a multiline\n",
        "comment with a triple-\n",
        "quoted string.\n",
        "'''"
      ],
      "metadata": {
        "colab": {
          "base_uri": "https://localhost:8080/"
        },
        "id": "SifQYLwsh5h0",
        "outputId": "73d6424c-8b51-424c-a888-3c3496c152ed"
      },
      "execution_count": null,
      "outputs": [
        {
          "output_type": "execute_result",
          "data": {
            "text/plain": [
              "'\\nThis is a multiline\\ncomment with a triple-\\nquoted string.\\n'"
            ],
            "application/vnd.google.colaboratory.intrinsic+json": {
              "type": "string"
            }
          },
          "metadata": {},
          "execution_count": 26
        }
      ]
    },
    {
      "cell_type": "markdown",
      "source": [
        "## Indentation and whitespace"
      ],
      "metadata": {
        "id": "ILPG2-4vihuI"
      }
    },
    {
      "cell_type": "code",
      "source": [
        "marks = [40, 50, 60, 30, 15, 100, 12, 35]\n",
        "for mark in (marks):\n",
        "  if mark < 50:\n",
        "    print(mark)"
      ],
      "metadata": {
        "colab": {
          "base_uri": "https://localhost:8080/"
        },
        "id": "YSKTOudRigpD",
        "outputId": "641f936d-689d-4b70-bfcc-ee35e8c67b75"
      },
      "execution_count": null,
      "outputs": [
        {
          "output_type": "stream",
          "name": "stdout",
          "text": [
            "40\n",
            "30\n",
            "15\n",
            "12\n",
            "35\n"
          ]
        }
      ]
    },
    {
      "cell_type": "markdown",
      "source": [
        "# Python varibles"
      ],
      "metadata": {
        "id": "reBptemr8kwR"
      }
    },
    {
      "cell_type": "code",
      "source": [
        "quantity = 200 #integer\n",
        "temp = 45.8 #floating point\n",
        "course = \"Python\" # string\n",
        "arr = [20,30] #list\n",
        "print(quantity)\n",
        "print(temp)\n",
        "print(course)\n",
        "print(arr)"
      ],
      "metadata": {
        "colab": {
          "base_uri": "https://localhost:8080/"
        },
        "id": "bV2uKJax8oaD",
        "outputId": "aed5456d-42fa-4594-acc0-985790de8e06"
      },
      "execution_count": null,
      "outputs": [
        {
          "output_type": "stream",
          "name": "stdout",
          "text": [
            "200\n",
            "45.8\n",
            "Python\n",
            "[20, 30]\n"
          ]
        }
      ]
    },
    {
      "cell_type": "markdown",
      "source": [
        "# Python data types"
      ],
      "metadata": {
        "id": "Hoybafv6HZxX"
      }
    },
    {
      "cell_type": "markdown",
      "source": [
        "### Getting the data type"
      ],
      "metadata": {
        "id": "aYNDj4PAHg-G"
      }
    },
    {
      "cell_type": "code",
      "source": [
        "type(quantity)"
      ],
      "metadata": {
        "colab": {
          "base_uri": "https://localhost:8080/"
        },
        "id": "dDBbWGWSHkka",
        "outputId": "10920e78-923b-4b51-e9f5-ada79b580f9e"
      },
      "execution_count": null,
      "outputs": [
        {
          "output_type": "execute_result",
          "data": {
            "text/plain": [
              "int"
            ]
          },
          "metadata": {},
          "execution_count": 29
        }
      ]
    },
    {
      "cell_type": "code",
      "source": [
        "type(temp)"
      ],
      "metadata": {
        "colab": {
          "base_uri": "https://localhost:8080/"
        },
        "id": "6ngm871WVDjB",
        "outputId": "0cf38552-015b-44c5-8aca-19a28ba5fdae"
      },
      "execution_count": null,
      "outputs": [
        {
          "output_type": "execute_result",
          "data": {
            "text/plain": [
              "float"
            ]
          },
          "metadata": {},
          "execution_count": 30
        }
      ]
    },
    {
      "cell_type": "code",
      "source": [
        "# Scientific floating point\n",
        "sci_num = 10e8\n",
        "type(sci_num)"
      ],
      "metadata": {
        "colab": {
          "base_uri": "https://localhost:8080/"
        },
        "id": "MaLSHiKJV2UV",
        "outputId": "7860cced-029f-4a24-f7a5-89f3242dc6b4"
      },
      "execution_count": null,
      "outputs": [
        {
          "output_type": "execute_result",
          "data": {
            "text/plain": [
              "float"
            ]
          },
          "metadata": {},
          "execution_count": 31
        }
      ]
    },
    {
      "cell_type": "code",
      "source": [
        "type(10j)"
      ],
      "metadata": {
        "colab": {
          "base_uri": "https://localhost:8080/"
        },
        "id": "BvdtimOkRHuk",
        "outputId": "2ece4d6b-72fb-443f-a1b9-6a646b522467"
      },
      "execution_count": null,
      "outputs": [
        {
          "output_type": "execute_result",
          "data": {
            "text/plain": [
              "complex"
            ]
          },
          "metadata": {},
          "execution_count": 32
        }
      ]
    },
    {
      "cell_type": "markdown",
      "source": [
        "### Type conversion"
      ],
      "metadata": {
        "id": "tGcWWsJ0VQ2r"
      }
    },
    {
      "cell_type": "code",
      "source": [
        "# convert float to int\n",
        "type(int(temp))"
      ],
      "metadata": {
        "colab": {
          "base_uri": "https://localhost:8080/"
        },
        "id": "SOlG1NL8VZ4Q",
        "outputId": "3bd409b1-e52f-438e-d5a5-102266a67489"
      },
      "execution_count": null,
      "outputs": [
        {
          "output_type": "execute_result",
          "data": {
            "text/plain": [
              "int"
            ]
          },
          "metadata": {},
          "execution_count": 33
        }
      ]
    },
    {
      "cell_type": "code",
      "source": [
        "# Convert int to float\n",
        "int_to_float = int(quantity)\n",
        "type(int_to_float)"
      ],
      "metadata": {
        "colab": {
          "base_uri": "https://localhost:8080/"
        },
        "id": "kE0ZDyqQYytZ",
        "outputId": "b0cfc44a-ebd0-4b3a-92c8-a89825e9baaf"
      },
      "execution_count": null,
      "outputs": [
        {
          "output_type": "execute_result",
          "data": {
            "text/plain": [
              "int"
            ]
          },
          "metadata": {},
          "execution_count": 34
        }
      ]
    },
    {
      "cell_type": "code",
      "source": [
        "# convert float to complex\n",
        "flt_to_cmplx = complex(temp)\n",
        "flt_to_cmplx"
      ],
      "metadata": {
        "colab": {
          "base_uri": "https://localhost:8080/"
        },
        "id": "8kX6hvZEaHjy",
        "outputId": "f4d44189-9043-4d09-d125-d83935a1c70e"
      },
      "execution_count": null,
      "outputs": [
        {
          "output_type": "execute_result",
          "data": {
            "text/plain": [
              "(45.8+0j)"
            ]
          },
          "metadata": {},
          "execution_count": 35
        }
      ]
    },
    {
      "cell_type": "markdown",
      "source": [
        "# Python Booleans"
      ],
      "metadata": {
        "id": "JKeFZgoopGNi"
      }
    },
    {
      "cell_type": "code",
      "source": [
        "print(68 > 79)\n",
        "print(68 < 79)"
      ],
      "metadata": {
        "colab": {
          "base_uri": "https://localhost:8080/"
        },
        "id": "2KmwuxzEqZOD",
        "outputId": "3f136424-04a7-4448-ef9f-ead39546a940"
      },
      "execution_count": null,
      "outputs": [
        {
          "output_type": "stream",
          "name": "stdout",
          "text": [
            "False\n",
            "True\n"
          ]
        }
      ]
    },
    {
      "cell_type": "code",
      "source": [
        "mark1 = 68\n",
        "mark2 = 79\n",
        "if mark1 > mark2:\n",
        "  print('mark1 is larger')\n",
        "else:\n",
        "  print('mark2 is larger')"
      ],
      "metadata": {
        "colab": {
          "base_uri": "https://localhost:8080/"
        },
        "id": "woufn-NopJcJ",
        "outputId": "1e515326-a689-4765-af37-0eca459c618b"
      },
      "execution_count": null,
      "outputs": [
        {
          "output_type": "stream",
          "name": "stdout",
          "text": [
            "mark2 is larger\n"
          ]
        }
      ]
    },
    {
      "cell_type": "markdown",
      "source": [
        "### `bool()` function"
      ],
      "metadata": {
        "id": "CL5MSJZrtskW"
      }
    },
    {
      "cell_type": "code",
      "source": [
        "bool(56 == 40)"
      ],
      "metadata": {
        "colab": {
          "base_uri": "https://localhost:8080/"
        },
        "id": "dEcHJAImtx_-",
        "outputId": "52af2fa8-cc84-4c61-b73f-a82523e85feb"
      },
      "execution_count": null,
      "outputs": [
        {
          "output_type": "execute_result",
          "data": {
            "text/plain": [
              "False"
            ]
          },
          "metadata": {},
          "execution_count": 38
        }
      ]
    },
    {
      "cell_type": "code",
      "source": [
        "bool(60)"
      ],
      "metadata": {
        "colab": {
          "base_uri": "https://localhost:8080/"
        },
        "id": "xQ5P-obDt1hC",
        "outputId": "2296fe5e-713f-44ab-9125-a0b9f9353504"
      },
      "execution_count": null,
      "outputs": [
        {
          "output_type": "execute_result",
          "data": {
            "text/plain": [
              "True"
            ]
          },
          "metadata": {},
          "execution_count": 39
        }
      ]
    },
    {
      "cell_type": "code",
      "source": [
        "bool('')"
      ],
      "metadata": {
        "colab": {
          "base_uri": "https://localhost:8080/"
        },
        "id": "2TA9jAWPt4oJ",
        "outputId": "fd5991f5-0c4d-4efb-ab5c-e3b1e51095b2"
      },
      "execution_count": null,
      "outputs": [
        {
          "output_type": "execute_result",
          "data": {
            "text/plain": [
              "False"
            ]
          },
          "metadata": {},
          "execution_count": 40
        }
      ]
    },
    {
      "cell_type": "code",
      "source": [
        "bool(None)"
      ],
      "metadata": {
        "colab": {
          "base_uri": "https://localhost:8080/"
        },
        "id": "nDDeiS8Yt75H",
        "outputId": "c44c82ea-9c19-4f2f-f48b-61e398cb8344"
      },
      "execution_count": null,
      "outputs": [
        {
          "output_type": "execute_result",
          "data": {
            "text/plain": [
              "False"
            ]
          },
          "metadata": {},
          "execution_count": 41
        }
      ]
    },
    {
      "cell_type": "markdown",
      "source": [
        "# Python Lists"
      ],
      "metadata": {
        "id": "SrHsqohO54h9"
      }
    },
    {
      "cell_type": "markdown",
      "source": [
        "### Create sample lists..We shall use them to practice"
      ],
      "metadata": {
        "id": "WkG3Uy8jDuit"
      }
    },
    {
      "cell_type": "code",
      "source": [
        "sample_list1 = ['Bungalow', 'Cottage', 'Cabin', 1997, 2000]\n",
        "sample_list2 = [30, 40, 100, 60]\n",
        "\n",
        "print(sample_list1)\n",
        "print(sample_list2)"
      ],
      "metadata": {
        "colab": {
          "base_uri": "https://localhost:8080/"
        },
        "id": "1-ujdnQo57Zq",
        "outputId": "37d187ef-118f-430c-8760-2d9bf778034a"
      },
      "execution_count": null,
      "outputs": [
        {
          "output_type": "stream",
          "name": "stdout",
          "text": [
            "['Bungalow', 'Cottage', 'Cabin', 1997, 2000]\n",
            "[30, 40, 100, 60]\n"
          ]
        }
      ]
    },
    {
      "cell_type": "markdown",
      "source": [
        "### Length of a list"
      ],
      "metadata": {
        "id": "4VQZeEjsEoJZ"
      }
    },
    {
      "cell_type": "code",
      "source": [
        "len(sample_list1)"
      ],
      "metadata": {
        "colab": {
          "base_uri": "https://localhost:8080/"
        },
        "id": "SonpYzTlErND",
        "outputId": "d223228d-7fba-4885-d454-3677c218cd61"
      },
      "execution_count": null,
      "outputs": [
        {
          "output_type": "execute_result",
          "data": {
            "text/plain": [
              "5"
            ]
          },
          "metadata": {},
          "execution_count": 43
        }
      ]
    },
    {
      "cell_type": "markdown",
      "source": [
        "### Accessing list items"
      ],
      "metadata": {
        "id": "lbk_Xh7oHvgu"
      }
    },
    {
      "cell_type": "code",
      "source": [
        "# access the third item in sample_list1 list\n",
        "\n",
        "sample_list1[2]"
      ],
      "metadata": {
        "colab": {
          "base_uri": "https://localhost:8080/",
          "height": 35
        },
        "id": "I3wewp7mHzI8",
        "outputId": "6c268df5-a7f9-4ab9-d8a5-852c02ac272d"
      },
      "execution_count": null,
      "outputs": [
        {
          "output_type": "execute_result",
          "data": {
            "text/plain": [
              "'Cabin'"
            ],
            "application/vnd.google.colaboratory.intrinsic+json": {
              "type": "string"
            }
          },
          "metadata": {},
          "execution_count": 44
        }
      ]
    },
    {
      "cell_type": "code",
      "source": [
        "# access the second item\n",
        "sample_list2[1]"
      ],
      "metadata": {
        "colab": {
          "base_uri": "https://localhost:8080/"
        },
        "id": "kZOu-7VCInPj",
        "outputId": "78e8af17-a4a8-4570-c9ad-ae41ea7f3399"
      },
      "execution_count": null,
      "outputs": [
        {
          "output_type": "execute_result",
          "data": {
            "text/plain": [
              "40"
            ]
          },
          "metadata": {},
          "execution_count": 45
        }
      ]
    },
    {
      "cell_type": "markdown",
      "source": [
        "### Return range of indexes"
      ],
      "metadata": {
        "id": "b7WqdfOFNk_s"
      }
    },
    {
      "cell_type": "code",
      "source": [
        "sample_list1[1:3]"
      ],
      "metadata": {
        "colab": {
          "base_uri": "https://localhost:8080/"
        },
        "id": "2T1pT7fSNoWr",
        "outputId": "ee9622d3-1d8d-492c-c4d0-9f14de48a10f"
      },
      "execution_count": null,
      "outputs": [
        {
          "output_type": "execute_result",
          "data": {
            "text/plain": [
              "['Cottage', 'Cabin']"
            ]
          },
          "metadata": {},
          "execution_count": 46
        }
      ]
    },
    {
      "cell_type": "code",
      "source": [
        "# ommiting start or end index\n",
        "\n",
        "print(sample_list1[1:]) # ommit the end index\n",
        "\n",
        "print(sample_list1[:3]) # ommit the start index"
      ],
      "metadata": {
        "colab": {
          "base_uri": "https://localhost:8080/"
        },
        "id": "Fd_4hY0WRfv-",
        "outputId": "01541300-28e3-496b-c4ca-bc7727c0052f"
      },
      "execution_count": null,
      "outputs": [
        {
          "output_type": "stream",
          "name": "stdout",
          "text": [
            "['Cottage', 'Cabin', 1997, 2000]\n",
            "['Bungalow', 'Cottage', 'Cabin']\n"
          ]
        }
      ]
    },
    {
      "cell_type": "markdown",
      "source": [
        "### Negative indexing"
      ],
      "metadata": {
        "id": "GvmbRsq6Yedi"
      }
    },
    {
      "cell_type": "code",
      "source": [
        "sample_list1[-2]"
      ],
      "metadata": {
        "colab": {
          "base_uri": "https://localhost:8080/"
        },
        "id": "_e-ZyJJdYgpx",
        "outputId": "527bc8af-84a5-4181-e2ba-358273ce89fc"
      },
      "execution_count": null,
      "outputs": [
        {
          "output_type": "execute_result",
          "data": {
            "text/plain": [
              "1997"
            ]
          },
          "metadata": {},
          "execution_count": 48
        }
      ]
    },
    {
      "cell_type": "code",
      "source": [
        "# Range of negative indexing\n",
        "sample_list1[-5:-2]"
      ],
      "metadata": {
        "colab": {
          "base_uri": "https://localhost:8080/"
        },
        "id": "HcY4jZf8Ykwt",
        "outputId": "7a9ad38a-0b55-4b27-c614-74cec3348e94"
      },
      "execution_count": null,
      "outputs": [
        {
          "output_type": "execute_result",
          "data": {
            "text/plain": [
              "['Bungalow', 'Cottage', 'Cabin']"
            ]
          },
          "metadata": {},
          "execution_count": 49
        }
      ]
    },
    {
      "cell_type": "markdown",
      "source": [
        "### Updating, adding and removing list elements"
      ],
      "metadata": {
        "id": "wEFWKyEgcpR4"
      }
    },
    {
      "cell_type": "code",
      "source": [
        "# Updating\n",
        "# change item at index [3] to 1996\n",
        "\n",
        "sample_list1[3] = 1996\n",
        "sample_list1"
      ],
      "metadata": {
        "colab": {
          "base_uri": "https://localhost:8080/"
        },
        "id": "7N4_e9uYcyJE",
        "outputId": "a9754db2-9ce9-4df9-ec36-fbda1222ae86"
      },
      "execution_count": null,
      "outputs": [
        {
          "output_type": "execute_result",
          "data": {
            "text/plain": [
              "['Bungalow', 'Cottage', 'Cabin', 1996, 2000]"
            ]
          },
          "metadata": {},
          "execution_count": 50
        }
      ]
    },
    {
      "cell_type": "code",
      "source": [
        "# Adding element to the list\n",
        "sample_list1.append('Charlet')"
      ],
      "metadata": {
        "id": "gVB8aUqPyExE"
      },
      "execution_count": null,
      "outputs": []
    },
    {
      "cell_type": "code",
      "source": [
        "sample_list1"
      ],
      "metadata": {
        "colab": {
          "base_uri": "https://localhost:8080/"
        },
        "id": "vdlCQipWyPOR",
        "outputId": "258c5e19-b3ce-49cf-ca0e-611d4641d69f"
      },
      "execution_count": null,
      "outputs": [
        {
          "output_type": "execute_result",
          "data": {
            "text/plain": [
              "['Bungalow', 'Cottage', 'Cabin', 1996, 2000, 'Charlet']"
            ]
          },
          "metadata": {},
          "execution_count": 52
        }
      ]
    },
    {
      "cell_type": "code",
      "source": [
        "# Remove element from the list with remove()\n",
        "\n",
        "sample_list1.remove('Charlet')\n",
        "sample_list1"
      ],
      "metadata": {
        "colab": {
          "base_uri": "https://localhost:8080/"
        },
        "id": "dGVSU_86z9Mh",
        "outputId": "8f338d1d-d505-4709-d090-8abe11f32827"
      },
      "execution_count": null,
      "outputs": [
        {
          "output_type": "execute_result",
          "data": {
            "text/plain": [
              "['Bungalow', 'Cottage', 'Cabin', 1996, 2000]"
            ]
          },
          "metadata": {},
          "execution_count": 53
        }
      ]
    },
    {
      "cell_type": "code",
      "source": [
        "# Remove element from list with pop()\n",
        "\n",
        "sample_list1.pop(3)\n",
        "sample_list1"
      ],
      "metadata": {
        "id": "uoi_qmg8snUg",
        "colab": {
          "base_uri": "https://localhost:8080/"
        },
        "outputId": "c5ea92e9-b478-4e32-af35-08206eb97e22"
      },
      "execution_count": null,
      "outputs": [
        {
          "output_type": "execute_result",
          "data": {
            "text/plain": [
              "['Bungalow', 'Cottage', 'Cabin', 2000]"
            ]
          },
          "metadata": {},
          "execution_count": 54
        }
      ]
    },
    {
      "cell_type": "code",
      "source": [
        "# pop() without the index specified removes the last item 2000 in our case\n",
        "\n",
        "sample_list1.pop()\n",
        "sample_list1"
      ],
      "metadata": {
        "colab": {
          "base_uri": "https://localhost:8080/"
        },
        "id": "QadLj0su6I6R",
        "outputId": "86fffd06-f876-4957-b218-237a357cc426"
      },
      "execution_count": null,
      "outputs": [
        {
          "output_type": "execute_result",
          "data": {
            "text/plain": [
              "['Bungalow', 'Cottage', 'Cabin']"
            ]
          },
          "metadata": {},
          "execution_count": 55
        }
      ]
    },
    {
      "cell_type": "code",
      "source": [
        "# Remove element with del statement\n",
        "\n",
        "del sample_list2[2] # Removes element at position 3 -> 100\n",
        "sample_list2"
      ],
      "metadata": {
        "colab": {
          "base_uri": "https://localhost:8080/"
        },
        "id": "41L-ncbvDce5",
        "outputId": "215ea664-c487-405f-e748-cc7088b03fcf"
      },
      "execution_count": null,
      "outputs": [
        {
          "output_type": "execute_result",
          "data": {
            "text/plain": [
              "[30, 40, 60]"
            ]
          },
          "metadata": {},
          "execution_count": 56
        }
      ]
    },
    {
      "cell_type": "code",
      "source": [
        "# clear a list with clear() method\n",
        "\n",
        "sample_list1.clear()\n",
        "sample_list1"
      ],
      "metadata": {
        "colab": {
          "base_uri": "https://localhost:8080/"
        },
        "id": "G_1bINUs-uTh",
        "outputId": "e3d4bb36-1cfc-463c-d986-aff72db98f52"
      },
      "execution_count": null,
      "outputs": [
        {
          "output_type": "execute_result",
          "data": {
            "text/plain": [
              "[]"
            ]
          },
          "metadata": {},
          "execution_count": 57
        }
      ]
    },
    {
      "cell_type": "markdown",
      "source": [
        "# Sorting Lists"
      ],
      "metadata": {
        "id": "51hiBNupT1ww"
      }
    },
    {
      "cell_type": "code",
      "source": [
        "# Create new lists\n",
        "\n",
        "pizza_flavors = ['Pepperoni', 'Hawaiian ', 'Chicken Alfredo', 'Vegetarian ', 'Margherita']\n",
        "pizza_prices_usd = [11.99, 17.99, 14.99, 18.99, 19.99]"
      ],
      "metadata": {
        "id": "uipB8rFMT98N"
      },
      "execution_count": null,
      "outputs": []
    },
    {
      "cell_type": "markdown",
      "source": [
        "### Reverse order of list with `reverse()`"
      ],
      "metadata": {
        "id": "TH2wjTmyladt"
      }
    },
    {
      "cell_type": "code",
      "source": [
        "pizza_flavors.reverse()\n",
        "pizza_flavors"
      ],
      "metadata": {
        "colab": {
          "base_uri": "https://localhost:8080/"
        },
        "id": "jubMOhSylhm-",
        "outputId": "4e93b0bb-da6d-4199-ac60-761f2d539bfe"
      },
      "execution_count": null,
      "outputs": [
        {
          "output_type": "execute_result",
          "data": {
            "text/plain": [
              "['Margherita', 'Vegetarian ', 'Chicken Alfredo', 'Hawaiian ', 'Pepperoni']"
            ]
          },
          "metadata": {},
          "execution_count": 59
        }
      ]
    },
    {
      "cell_type": "markdown",
      "source": [
        "### Sorting in ascending order(Default)"
      ],
      "metadata": {
        "id": "m5R5szUTUNht"
      }
    },
    {
      "cell_type": "code",
      "source": [
        "pizza_flavors.sort()\n",
        "\n",
        "pizza_flavors"
      ],
      "metadata": {
        "colab": {
          "base_uri": "https://localhost:8080/"
        },
        "id": "1Yx49HXSUR27",
        "outputId": "2d31e0fc-52ea-40fd-aa0d-9b2e5c48c8e6"
      },
      "execution_count": null,
      "outputs": [
        {
          "output_type": "execute_result",
          "data": {
            "text/plain": [
              "['Chicken Alfredo', 'Hawaiian ', 'Margherita', 'Pepperoni', 'Vegetarian ']"
            ]
          },
          "metadata": {},
          "execution_count": 60
        }
      ]
    },
    {
      "cell_type": "code",
      "source": [
        "pizza_prices_usd.sort()\n",
        "\n",
        "pizza_prices_usd"
      ],
      "metadata": {
        "colab": {
          "base_uri": "https://localhost:8080/"
        },
        "id": "5ouIfvwiVHxY",
        "outputId": "3161baf0-4a1c-4ab6-afba-31936cbb2411"
      },
      "execution_count": null,
      "outputs": [
        {
          "output_type": "execute_result",
          "data": {
            "text/plain": [
              "[11.99, 14.99, 17.99, 18.99, 19.99]"
            ]
          },
          "metadata": {},
          "execution_count": 61
        }
      ]
    },
    {
      "cell_type": "markdown",
      "source": [
        "### Sorting in descending order `reverse-True`"
      ],
      "metadata": {
        "id": "of9rEPLdZnNG"
      }
    },
    {
      "cell_type": "code",
      "source": [
        "# sort the pizza_flavors list in descending order\n",
        "\n",
        "pizza_flavors.sort(reverse=True)\n",
        "\n",
        "print(pizza_flavors)"
      ],
      "metadata": {
        "colab": {
          "base_uri": "https://localhost:8080/"
        },
        "id": "NCLPaUZ6Z16P",
        "outputId": "844c5b95-2e24-4efd-f8ba-131b75399127"
      },
      "execution_count": null,
      "outputs": [
        {
          "output_type": "stream",
          "name": "stdout",
          "text": [
            "['Vegetarian ', 'Pepperoni', 'Margherita', 'Hawaiian ', 'Chicken Alfredo']\n"
          ]
        }
      ]
    },
    {
      "cell_type": "code",
      "source": [
        "# sort pizza_prices_usd list in descending order\n",
        "\n",
        "pizza_prices_usd.sort(reverse=True)\n",
        "\n",
        "print(pizza_prices_usd)"
      ],
      "metadata": {
        "colab": {
          "base_uri": "https://localhost:8080/"
        },
        "id": "kBR2_accZsqD",
        "outputId": "e82de793-2ee0-4d7e-d30a-66b864920363"
      },
      "execution_count": null,
      "outputs": [
        {
          "output_type": "stream",
          "name": "stdout",
          "text": [
            "[19.99, 18.99, 17.99, 14.99, 11.99]\n"
          ]
        }
      ]
    },
    {
      "cell_type": "markdown",
      "source": [
        "### Reverse the order with `reverse()`"
      ],
      "metadata": {
        "id": "Ufiblcb8kw_E"
      }
    },
    {
      "cell_type": "markdown",
      "source": [
        "# Python tuples"
      ],
      "metadata": {
        "id": "NZQtF_ivdHun"
      }
    },
    {
      "cell_type": "code",
      "source": [
        "sample_tuple1 = ('Pepperoni', 'Hawaiian ', 'Chicken Alfredo', 'Vegetarian ', 'Margherita')\n",
        "type(sample_tuple1)"
      ],
      "metadata": {
        "colab": {
          "base_uri": "https://localhost:8080/"
        },
        "id": "hRRndqJadPA8",
        "outputId": "3b18f6c0-7bff-4c04-ffc5-01e4d3a13caf"
      },
      "execution_count": null,
      "outputs": [
        {
          "output_type": "execute_result",
          "data": {
            "text/plain": [
              "tuple"
            ]
          },
          "metadata": {},
          "execution_count": 64
        }
      ]
    },
    {
      "cell_type": "markdown",
      "source": [
        "### Accessing tuple items"
      ],
      "metadata": {
        "id": "D3FlZd2WmS0i"
      }
    },
    {
      "cell_type": "code",
      "source": [
        "print(sample_tuple1[2])"
      ],
      "metadata": {
        "colab": {
          "base_uri": "https://localhost:8080/"
        },
        "id": "KDar_fbsmvHy",
        "outputId": "e60a9751-21c4-482e-8c41-6f65ada91b4f"
      },
      "execution_count": null,
      "outputs": [
        {
          "output_type": "stream",
          "name": "stdout",
          "text": [
            "Chicken Alfredo\n"
          ]
        }
      ]
    },
    {
      "cell_type": "markdown",
      "source": [
        "### Negative Indexing"
      ],
      "metadata": {
        "id": "aAfOvMGMpvDV"
      }
    },
    {
      "cell_type": "code",
      "source": [
        "# access the second last index\n",
        "\n",
        "print(sample_tuple1[-2])"
      ],
      "metadata": {
        "colab": {
          "base_uri": "https://localhost:8080/"
        },
        "id": "O2VksuFgpyNl",
        "outputId": "0f31c917-2033-437c-e0d4-c4cdf26511d4"
      },
      "execution_count": null,
      "outputs": [
        {
          "output_type": "stream",
          "name": "stdout",
          "text": [
            "Vegetarian \n"
          ]
        }
      ]
    },
    {
      "cell_type": "markdown",
      "source": [
        "### Return a range of negative indexes"
      ],
      "metadata": {
        "id": "PKi8h_sFDyXd"
      }
    },
    {
      "cell_type": "code",
      "source": [
        "sample_tuple1[1:4] # the element at the fourth index is excluded"
      ],
      "metadata": {
        "colab": {
          "base_uri": "https://localhost:8080/"
        },
        "id": "qr672585DNcI",
        "outputId": "6282d8d5-060f-4f6c-9dd1-056a4c67491f"
      },
      "execution_count": null,
      "outputs": [
        {
          "output_type": "execute_result",
          "data": {
            "text/plain": [
              "('Hawaiian ', 'Chicken Alfredo', 'Vegetarian ')"
            ]
          },
          "metadata": {},
          "execution_count": 67
        }
      ]
    },
    {
      "cell_type": "markdown",
      "source": [
        "### Updating tuples"
      ],
      "metadata": {
        "id": "JBAt64uaJZ7L"
      }
    },
    {
      "cell_type": "code",
      "source": [
        "list_from_tuple = list(sample_tuple1) # convert the tuple to list\n",
        "\n",
        "list_from_tuple[3] = 'Ranch' # change the item at index [3]\n",
        "\n",
        "sample_tuple1 = tuple(list_from_tuple) # convert list back to tuple\n",
        "\n",
        "sample_tuple1"
      ],
      "metadata": {
        "colab": {
          "base_uri": "https://localhost:8080/"
        },
        "id": "5wbn8dqwO8y1",
        "outputId": "5ae7eb49-c72f-4c3d-bdd0-888870f0e051"
      },
      "execution_count": null,
      "outputs": [
        {
          "output_type": "execute_result",
          "data": {
            "text/plain": [
              "('Pepperoni', 'Hawaiian ', 'Chicken Alfredo', 'Ranch', 'Margherita')"
            ]
          },
          "metadata": {},
          "execution_count": 68
        }
      ]
    },
    {
      "cell_type": "markdown",
      "source": [
        "### Unpacking a tuple"
      ],
      "metadata": {
        "id": "NrGvhw9sXEF3"
      }
    },
    {
      "cell_type": "code",
      "source": [
        "# unpack the tuple\n",
        "sample_tuple1 = ('Pepperoni', 'Hawaiian ', 'Chicken Alfredo', 'Vegetarian ', 'Margherita')\n",
        "\n",
        "(house_type1, house_type2, house_type3, house_type4, house_type5) = sample_tuple1\n",
        "\n",
        "print(house_type1)\n",
        "print(house_type2)\n",
        "print(house_type3)\n",
        "print(house_type4)\n",
        "print(house_type5)"
      ],
      "metadata": {
        "colab": {
          "base_uri": "https://localhost:8080/"
        },
        "id": "_8NC6OanXHzM",
        "outputId": "2283d2fd-d66f-48a9-dc7a-7ee735b8e0f8"
      },
      "execution_count": null,
      "outputs": [
        {
          "output_type": "stream",
          "name": "stdout",
          "text": [
            "Pepperoni\n",
            "Hawaiian \n",
            "Chicken Alfredo\n",
            "Vegetarian \n",
            "Margherita\n"
          ]
        }
      ]
    },
    {
      "cell_type": "code",
      "source": [
        "# unpack rest of values in the tuple\n",
        "\n",
        "sample_tuple1 = ('Pepperoni', 'Hawaiian ', 'Chicken Alfredo', 'Vegetarian ', 'Margherita')\n",
        "\n",
        "(house_type1, house_type2, *other_house_types) = sample_tuple1\n",
        "print(house_type1)\n",
        "print(house_type2)\n",
        "print(other_house_types)"
      ],
      "metadata": {
        "colab": {
          "base_uri": "https://localhost:8080/"
        },
        "id": "zXI4M4l9aHki",
        "outputId": "35ea6abb-a22d-4ca6-82b6-97fd89fccba5"
      },
      "execution_count": null,
      "outputs": [
        {
          "output_type": "stream",
          "name": "stdout",
          "text": [
            "Pepperoni\n",
            "Hawaiian \n",
            "['Chicken Alfredo', 'Vegetarian ', 'Margherita']\n"
          ]
        }
      ]
    },
    {
      "cell_type": "markdown",
      "source": [
        "### Python Sets"
      ],
      "metadata": {
        "id": "JhIVDwBXquxI"
      }
    },
    {
      "cell_type": "code",
      "source": [
        "sample_set1 = {'Pensies', 'Sunflower', 'Pimrose', 'Marigolds', 'Baneberry'} # types of flowers set\n",
        "print(sample_set1)\n",
        "\n",
        "type(sample_set1)"
      ],
      "metadata": {
        "colab": {
          "base_uri": "https://localhost:8080/"
        },
        "id": "FZ8C6uBqqx89",
        "outputId": "974a2458-eb9c-485d-a688-f760c5a215e1"
      },
      "execution_count": null,
      "outputs": [
        {
          "output_type": "stream",
          "name": "stdout",
          "text": [
            "{'Pensies', 'Sunflower', 'Marigolds', 'Baneberry', 'Pimrose'}\n"
          ]
        },
        {
          "output_type": "execute_result",
          "data": {
            "text/plain": [
              "set"
            ]
          },
          "metadata": {},
          "execution_count": 71
        }
      ]
    },
    {
      "cell_type": "code",
      "source": [
        "# duplicates are ignored\n",
        "\n",
        "sample_set1 = {'Pensies', 'Sunflower','Sunflower', 'Pimrose','Primrose', 'Marigolds', 'Baneberry'} # types of flowers set\n",
        "print(sample_set1)"
      ],
      "metadata": {
        "colab": {
          "base_uri": "https://localhost:8080/"
        },
        "id": "rZD_zzKUt_jM",
        "outputId": "24804220-3d8e-410a-a9b1-176c9da2508f"
      },
      "execution_count": null,
      "outputs": [
        {
          "output_type": "stream",
          "name": "stdout",
          "text": [
            "{'Pensies', 'Sunflower', 'Marigolds', 'Primrose', 'Baneberry', 'Pimrose'}\n"
          ]
        }
      ]
    },
    {
      "cell_type": "code",
      "source": [
        "for flower in sample_set1:\n",
        "  print(flower)"
      ],
      "metadata": {
        "colab": {
          "base_uri": "https://localhost:8080/"
        },
        "id": "2um7wBgywAU_",
        "outputId": "2f0a9254-a1fc-42ea-fadc-f03740f3d693"
      },
      "execution_count": null,
      "outputs": [
        {
          "output_type": "stream",
          "name": "stdout",
          "text": [
            "Pensies\n",
            "Sunflower\n",
            "Marigolds\n",
            "Primrose\n",
            "Baneberry\n",
            "Pimrose\n"
          ]
        }
      ]
    },
    {
      "cell_type": "code",
      "source": [
        "# check if item exists\n",
        "\n",
        "print('Sunflower' in sample_set1)"
      ],
      "metadata": {
        "colab": {
          "base_uri": "https://localhost:8080/"
        },
        "id": "cUIg0zYBx8U4",
        "outputId": "76baba81-93b3-4f56-94e5-be0184407aa4"
      },
      "execution_count": null,
      "outputs": [
        {
          "output_type": "stream",
          "name": "stdout",
          "text": [
            "True\n"
          ]
        }
      ]
    },
    {
      "cell_type": "markdown",
      "source": [
        "### Adding items to a set"
      ],
      "metadata": {
        "id": "Wt7jtbzm2l4-"
      }
    },
    {
      "cell_type": "code",
      "source": [
        "# adding a single element in the set\n",
        "\n",
        "sample_set1.add('Bloodroot')\n",
        "sample_set1.add('Buttercup')\n",
        "\n",
        "print('Updated set with add() method')\n",
        "for flower in sample_set1:\n",
        "  print(flower)"
      ],
      "metadata": {
        "colab": {
          "base_uri": "https://localhost:8080/"
        },
        "id": "YocLKAeQ2kqu",
        "outputId": "03b69b22-96c6-4299-d4a1-2747d51cae1e"
      },
      "execution_count": null,
      "outputs": [
        {
          "output_type": "stream",
          "name": "stdout",
          "text": [
            "Updated set with add() method\n",
            "Bloodroot\n",
            "Buttercup\n",
            "Pensies\n",
            "Sunflower\n",
            "Marigolds\n",
            "Primrose\n",
            "Baneberry\n",
            "Pimrose\n"
          ]
        }
      ]
    },
    {
      "cell_type": "code",
      "source": [
        "# adding multiple elements in the set\n",
        "sample_set1 = {'Pensies', 'Sunflower', 'Pimrose', 'Marigolds', 'Baneberry'} \n",
        "sample_set1.update(['Bloodroot', 'Buttercup']) # add a list\n",
        "print('Updated set with add() method')\n",
        "sample_set1"
      ],
      "metadata": {
        "colab": {
          "base_uri": "https://localhost:8080/"
        },
        "id": "Ba1r0h-c4IGK",
        "outputId": "42819e35-f65e-401e-865c-9c6c96833245"
      },
      "execution_count": null,
      "outputs": [
        {
          "output_type": "stream",
          "name": "stdout",
          "text": [
            "Updated set with add() method\n"
          ]
        },
        {
          "output_type": "execute_result",
          "data": {
            "text/plain": [
              "{'Baneberry',\n",
              " 'Bloodroot',\n",
              " 'Buttercup',\n",
              " 'Marigolds',\n",
              " 'Pensies',\n",
              " 'Pimrose',\n",
              " 'Sunflower'}"
            ]
          },
          "metadata": {},
          "execution_count": 76
        }
      ]
    },
    {
      "cell_type": "markdown",
      "source": [
        "### Remove items from the set"
      ],
      "metadata": {
        "id": "r_SL-G_b9FDg"
      }
    },
    {
      "cell_type": "code",
      "source": [
        "sample_set1 = {'Pensies', 'Sunflower', 'Pimrose', 'Marigolds', 'Baneberry'}\n",
        "\n",
        "sample_set1.remove('Marigolds') # removes Marigolds\n",
        "sample_set1.discard('Sunflower') # discards Sunflower\n",
        "print('Two flowers removed from the set')\n",
        "print(sample_set1)"
      ],
      "metadata": {
        "colab": {
          "base_uri": "https://localhost:8080/"
        },
        "id": "qKd1jmfi9Ixq",
        "outputId": "5a4a98f2-0588-4f66-d128-4a52f4844477"
      },
      "execution_count": null,
      "outputs": [
        {
          "output_type": "stream",
          "name": "stdout",
          "text": [
            "Two flowers removed from the set\n",
            "{'Pensies', 'Baneberry', 'Pimrose'}\n"
          ]
        }
      ]
    },
    {
      "cell_type": "markdown",
      "source": [
        "# Python Dictionaries"
      ],
      "metadata": {
        "id": "m7YUuoF5JcF-"
      }
    },
    {
      "cell_type": "code",
      "source": [
        "sample_dict = {\n",
        "        \"year\": 2022,\n",
        "        \"blogname\": \"Machine learning nuggets\",\n",
        "        \"email\": \"hello@machinelearningnuggets.com\",\n",
        "        \"about\": \"Machine Learning and Data Science\",\n",
        "}\n",
        "\n",
        "type(sample_dict)"
      ],
      "metadata": {
        "colab": {
          "base_uri": "https://localhost:8080/"
        },
        "id": "r7aS1lohJexX",
        "outputId": "ef9590ec-dea0-4c95-94c1-e7f20f555136"
      },
      "execution_count": null,
      "outputs": [
        {
          "output_type": "execute_result",
          "data": {
            "text/plain": [
              "dict"
            ]
          },
          "metadata": {},
          "execution_count": 78
        }
      ]
    },
    {
      "cell_type": "code",
      "source": [
        "sample_dict = {\n",
        "        \"year\": 2022,\n",
        "        \"blogname\": \"Machine learning nuggets\",\n",
        "        \"email\": \"hello@machinelearningnuggets.com\",\n",
        "        \"about\": \"Machine Learning and Data Science\",\n",
        "        \"featured\": ['Python for data science', 'Numpy tutorial', 'Pandas tutorial']\n",
        "}\n",
        "print(sample_dict)"
      ],
      "metadata": {
        "colab": {
          "base_uri": "https://localhost:8080/"
        },
        "id": "ca5B8Gr_PG3v",
        "outputId": "eda5cb54-837e-4150-89fd-89d8c11748ea"
      },
      "execution_count": null,
      "outputs": [
        {
          "output_type": "stream",
          "name": "stdout",
          "text": [
            "{'year': 2022, 'blogname': 'Machine learning nuggets', 'email': 'hello@machinelearningnuggets.com', 'about': 'Machine Learning and Data Science', 'featured': ['Python for data science', 'Numpy tutorial', 'Pandas tutorial']}\n"
          ]
        }
      ]
    },
    {
      "cell_type": "markdown",
      "source": [
        "### Accessing items in a dictionary"
      ],
      "metadata": {
        "id": "HdGo4dGqZ6-z"
      }
    },
    {
      "cell_type": "code",
      "source": [
        "blog_name = sample_dict['blogname']\n",
        "featured_blogs = sample_dict['featured'] # the value is a list loop to display indivudual items\n",
        "\n",
        "print('Blog name: ', blog_name)\n",
        "print('Featured: ', featured_blogs) "
      ],
      "metadata": {
        "colab": {
          "base_uri": "https://localhost:8080/"
        },
        "id": "zK5McKYBaCGX",
        "outputId": "166e9189-168d-4e82-e6d6-9e5e3ad1d2db"
      },
      "execution_count": null,
      "outputs": [
        {
          "output_type": "stream",
          "name": "stdout",
          "text": [
            "Blog name:  Machine learning nuggets\n",
            "Featured:  ['Python for data science', 'Numpy tutorial', 'Pandas tutorial']\n"
          ]
        }
      ]
    },
    {
      "cell_type": "code",
      "source": [
        "# Display all keys and values\n",
        "\n",
        "print(sample_dict.keys()) # displays a list of all keys\n",
        "print(sample_dict.values()) # displays a list of all values"
      ],
      "metadata": {
        "colab": {
          "base_uri": "https://localhost:8080/"
        },
        "id": "gco5vWHidljf",
        "outputId": "10e594bc-c9c7-49ff-b2fb-d1d794107c86"
      },
      "execution_count": null,
      "outputs": [
        {
          "output_type": "stream",
          "name": "stdout",
          "text": [
            "dict_keys(['year', 'blogname', 'email', 'about', 'featured'])\n",
            "dict_values([2022, 'Machine learning nuggets', 'hello@machinelearningnuggets.com', 'Machine Learning and Data Science', ['Python for data science', 'Numpy tutorial', 'Pandas tutorial']])\n"
          ]
        }
      ]
    },
    {
      "cell_type": "markdown",
      "source": [
        "# Updating dictionary"
      ],
      "metadata": {
        "id": "Uffwh_iSdkke"
      }
    },
    {
      "cell_type": "code",
      "source": [
        "# since the item with key_name=featured is a list we access and\n",
        "# change the item at index 2\n",
        "sample_dict[\"featured\"][2] = 'How to build CNN in TensorFlow'\n",
        "sample_dict[\"featured\"]"
      ],
      "metadata": {
        "colab": {
          "base_uri": "https://localhost:8080/"
        },
        "id": "OE9f49NmqScA",
        "outputId": "eb049aed-2ca5-4d90-c4f5-ba33023972d2"
      },
      "execution_count": null,
      "outputs": [
        {
          "output_type": "execute_result",
          "data": {
            "text/plain": [
              "['Python for data science', 'Numpy tutorial', 'How to build CNN in TensorFlow']"
            ]
          },
          "metadata": {},
          "execution_count": 82
        }
      ]
    },
    {
      "cell_type": "code",
      "source": [
        "# Add new item to the dict\n",
        "sample_dict['posts'] = 30 # add item\n",
        "print(sample_dict['posts']) # display item"
      ],
      "metadata": {
        "colab": {
          "base_uri": "https://localhost:8080/"
        },
        "id": "wwNS_sUmt5BG",
        "outputId": "9de2416c-bf50-4992-ded8-4d48b5249ffc"
      },
      "execution_count": null,
      "outputs": [
        {
          "output_type": "stream",
          "name": "stdout",
          "text": [
            "30\n"
          ]
        }
      ]
    },
    {
      "cell_type": "markdown",
      "source": [
        "Decision making statments\n",
        "# New section"
      ],
      "metadata": {
        "id": "RMLU5jS_K53p"
      }
    },
    {
      "cell_type": "markdown",
      "source": [
        "### if statement"
      ],
      "metadata": {
        "id": "CxameEf6Oy1R"
      }
    },
    {
      "cell_type": "code",
      "source": [
        "todo_list = ['Read', 'code', 'watch']\n",
        "\n",
        "if len(todo_list) < 4:\n",
        "\tprint('To do has less than 3 items')"
      ],
      "metadata": {
        "colab": {
          "base_uri": "https://localhost:8080/"
        },
        "id": "qpj20i-cK-1y",
        "outputId": "6d0d6c21-37f0-4d74-a32a-fb5913e8eae8"
      },
      "execution_count": null,
      "outputs": [
        {
          "output_type": "stream",
          "name": "stdout",
          "text": [
            "To do has less than 3 items\n"
          ]
        }
      ]
    },
    {
      "cell_type": "markdown",
      "source": [
        "### else-if statment"
      ],
      "metadata": {
        "id": "Yp1bHvLCO3KD"
      }
    },
    {
      "cell_type": "code",
      "source": [
        "todo_list = ['Read', 'code', 'watch', 'Game']\n",
        "\n",
        "if len(todo_list) < 4:\n",
        "\tprint('To do has less than 3 items') # when condition is True\n",
        "else:\n",
        "\tprint('To do has more than 4 items') # when condition is False"
      ],
      "metadata": {
        "colab": {
          "base_uri": "https://localhost:8080/"
        },
        "id": "oO5dn9LiO6FX",
        "outputId": "0c1c167c-373d-4ee7-e910-2542b92d8003"
      },
      "execution_count": null,
      "outputs": [
        {
          "output_type": "stream",
          "name": "stdout",
          "text": [
            "To do has more than 4 items\n"
          ]
        }
      ]
    },
    {
      "cell_type": "markdown",
      "source": [
        "### elif"
      ],
      "metadata": {
        "id": "l9ZwX0bOVLrY"
      }
    },
    {
      "cell_type": "code",
      "source": [
        "todo_list = ['Read', 'code', 'watch', 'Game']\n",
        "\n",
        "if len(todo_list) > 4:\n",
        "\tprint('To do has more 4 items')\n",
        "elif len(todo_list) == 4:\n",
        "\tprint('To do has 4 items')\n",
        "elif len(todo_list) != 0:\n",
        "\tprint('To do has less than 4 items')\t   \n",
        "else:\n",
        "\tprint('To do has 0 items')"
      ],
      "metadata": {
        "colab": {
          "base_uri": "https://localhost:8080/"
        },
        "id": "BIJpyrQAVOXO",
        "outputId": "81a1b17f-3ef8-436d-a14d-234ae9efe124"
      },
      "execution_count": null,
      "outputs": [
        {
          "output_type": "stream",
          "name": "stdout",
          "text": [
            "To do has 4 items\n"
          ]
        }
      ]
    },
    {
      "cell_type": "markdown",
      "source": [
        "### Nested if-elif-else statements"
      ],
      "metadata": {
        "id": "eshkj7XpiIsp"
      }
    },
    {
      "cell_type": "code",
      "source": [
        "todo_list = ['Read', 'code', 'watch']\n",
        "\n",
        "if len(todo_list) < 4:\n",
        "    print('Todo has less than 4 items')\n",
        "    if len(todo_list) == 0:\n",
        "        print('Todo is empty')\n",
        "    elif len(todo_list) == 1:\n",
        "        print('Todo has 1 item')\n",
        "    elif len(todo_list) == 2:\n",
        "        print('Todo has 2 items')\n",
        "    else:\n",
        "        print('Todo has 3 items')\n",
        "else:\n",
        "    print('Todo has more than 4 items')"
      ],
      "metadata": {
        "colab": {
          "base_uri": "https://localhost:8080/"
        },
        "id": "eDh43dnhiNha",
        "outputId": "03388acf-e328-45cd-de82-ccf409e84834"
      },
      "execution_count": null,
      "outputs": [
        {
          "output_type": "stream",
          "name": "stdout",
          "text": [
            "Todo has less than 4 items\n",
            "Todo has 3 items\n"
          ]
        }
      ]
    },
    {
      "cell_type": "code",
      "source": [
        "# Ternary operator\n",
        "\n",
        "print('Todo has more than 4 items') if len(todo_list) > 4 else print('To do has less than 4 items')"
      ],
      "metadata": {
        "colab": {
          "base_uri": "https://localhost:8080/"
        },
        "id": "Ib7QysCKppOg",
        "outputId": "62ae6877-b503-4edd-80d8-30cead8c51f3"
      },
      "execution_count": null,
      "outputs": [
        {
          "output_type": "stream",
          "name": "stdout",
          "text": [
            "To do has less than 4 items\n"
          ]
        }
      ]
    },
    {
      "cell_type": "markdown",
      "source": [
        "# Python Loops"
      ],
      "metadata": {
        "id": "bqZL1mZ-N-ug"
      }
    },
    {
      "cell_type": "markdown",
      "source": [
        "## For loop"
      ],
      "metadata": {
        "id": "0iYhz_5DOB05"
      }
    },
    {
      "cell_type": "code",
      "source": [
        "flower_types = ['Pensies', 'Sunflower', 'Pimrose', 'Marigolds', 'Baneberry']\n",
        "for value in flower_types:\n",
        "\tprint(value)"
      ],
      "metadata": {
        "colab": {
          "base_uri": "https://localhost:8080/"
        },
        "id": "t_pXZ77fOEV2",
        "outputId": "79334930-d7e6-4d14-d723-1b549b0c58ad"
      },
      "execution_count": null,
      "outputs": [
        {
          "output_type": "stream",
          "name": "stdout",
          "text": [
            "Pensies\n",
            "Sunflower\n",
            "Pimrose\n",
            "Marigolds\n",
            "Baneberry\n"
          ]
        }
      ]
    },
    {
      "cell_type": "markdown",
      "source": [
        "### range() function"
      ],
      "metadata": {
        "id": "8Hz3ZaAUUOSK"
      }
    },
    {
      "cell_type": "code",
      "source": [
        "for number in range(5):\n",
        "\tprint(number)"
      ],
      "metadata": {
        "colab": {
          "base_uri": "https://localhost:8080/"
        },
        "id": "_mNuvIUnUNVX",
        "outputId": "2cec905c-d1e1-402b-e531-1d7595cc921a"
      },
      "execution_count": null,
      "outputs": [
        {
          "output_type": "stream",
          "name": "stdout",
          "text": [
            "0\n",
            "1\n",
            "2\n",
            "3\n",
            "4\n"
          ]
        }
      ]
    },
    {
      "cell_type": "code",
      "source": [
        "# start = start number rather than the default 0\n",
        "# stop = number where the iteration will stop\n",
        "# step = the interval of iteration\n",
        "\n",
        "for number in range(10, 20, 2):\n",
        "\tprint(number)"
      ],
      "metadata": {
        "colab": {
          "base_uri": "https://localhost:8080/"
        },
        "id": "2PDRaSEMWbMo",
        "outputId": "354935c7-ee17-40fa-af3a-a6d0194331da"
      },
      "execution_count": null,
      "outputs": [
        {
          "output_type": "stream",
          "name": "stdout",
          "text": [
            "10\n",
            "12\n",
            "14\n",
            "16\n",
            "18\n"
          ]
        }
      ]
    },
    {
      "cell_type": "code",
      "source": [
        "# using range() to loop over the list\n",
        "\n",
        "for flower in range(len(flower_types)): # use len() to get the length of list\n",
        "\tprint(flower)"
      ],
      "metadata": {
        "colab": {
          "base_uri": "https://localhost:8080/"
        },
        "id": "h6Ft3tLIXgmL",
        "outputId": "55b69bf9-c68f-4900-8ecd-edbb3b34e37f"
      },
      "execution_count": null,
      "outputs": [
        {
          "output_type": "stream",
          "name": "stdout",
          "text": [
            "0\n",
            "1\n",
            "2\n",
            "3\n",
            "4\n"
          ]
        }
      ]
    },
    {
      "cell_type": "code",
      "source": [
        "rows = 5\n",
        "# outer loop\n",
        "for i in range(1, rows + 1):\n",
        "    # inner loop\n",
        "    for j in range(1, i + 1):\n",
        "        print(\"*\", end=\" \")\n",
        "    print('')"
      ],
      "metadata": {
        "colab": {
          "base_uri": "https://localhost:8080/"
        },
        "id": "YkmpImM5n5bt",
        "outputId": "9af14203-4da0-4b83-93f5-b07570215918"
      },
      "execution_count": null,
      "outputs": [
        {
          "output_type": "stream",
          "name": "stdout",
          "text": [
            "* \n",
            "* * \n",
            "* * * \n",
            "* * * * \n",
            "* * * * * \n"
          ]
        }
      ]
    },
    {
      "cell_type": "markdown",
      "source": [
        "# While loops"
      ],
      "metadata": {
        "id": "pj9EgwcdWo-F"
      }
    },
    {
      "cell_type": "code",
      "source": [
        "counter = 0 #initialize loop counter\n",
        "while counter < 5:\n",
        "\tcounter = counter + 1 # increment count by 1 for each iteration\n",
        "\tprint('Learning Python')\n",
        "print('I am here since the condition is false!')"
      ],
      "metadata": {
        "colab": {
          "base_uri": "https://localhost:8080/"
        },
        "id": "otNcdp74fl6H",
        "outputId": "a8735710-e5ce-4564-cbe5-15c3670e2929"
      },
      "execution_count": null,
      "outputs": [
        {
          "output_type": "stream",
          "name": "stdout",
          "text": [
            "Learning Python\n",
            "Learning Python\n",
            "Learning Python\n",
            "Learning Python\n",
            "Learning Python\n",
            "I am here since the condition is false!\n"
          ]
        }
      ]
    },
    {
      "cell_type": "markdown",
      "source": [
        "### Loop control statements"
      ],
      "metadata": {
        "id": "oseDO-Fbnmyj"
      }
    },
    {
      "cell_type": "code",
      "source": [
        "# break in for loop\n",
        "\n",
        "flower_types = ['Pensies', 'Sunflower', 'Pimrose', 'Marigolds', 'Baneberry']\n",
        "for value in flower_types:\n",
        "  if value == 'Pimrose':\n",
        "    # check if current value is 'Primrose' if True stop looping\n",
        "    break\n",
        "  print(value) # Primrose is not displayed"
      ],
      "metadata": {
        "colab": {
          "base_uri": "https://localhost:8080/"
        },
        "id": "SF9DG1KsnqrY",
        "outputId": "0ba919c2-471e-4e93-b018-5c8822a8e05e"
      },
      "execution_count": null,
      "outputs": [
        {
          "output_type": "stream",
          "name": "stdout",
          "text": [
            "Pensies\n",
            "Sunflower\n"
          ]
        }
      ]
    },
    {
      "cell_type": "code",
      "source": [
        "# break in while loop\n",
        "\n",
        "counter = 0 #initialize loop counter\n",
        "while counter < 5:\n",
        "  counter = counter + 1\n",
        "  if counter == 3: # if counter == 3 stop looping\n",
        "    break\n",
        "  print('Learning Python')\n",
        "print('I am here since the condition is false!')"
      ],
      "metadata": {
        "colab": {
          "base_uri": "https://localhost:8080/"
        },
        "id": "d3ke-5zaqJ_O",
        "outputId": "b257b2eb-3c20-4445-d94f-8d67d53409b4"
      },
      "execution_count": null,
      "outputs": [
        {
          "output_type": "stream",
          "name": "stdout",
          "text": [
            "Learning Python\n",
            "Learning Python\n",
            "I am here since the condition is false!\n"
          ]
        }
      ]
    },
    {
      "cell_type": "code",
      "source": [
        "# continue in for loop\n",
        "\n",
        "flower_types = ['Pensies', 'Sunflower', 'Pimrose', 'Marigolds', 'Baneberry']\n",
        "for value in flower_types:\n",
        "  # check if current value is 'Primrose' if True skip it got to next item\n",
        "  if value == 'Pimrose':    \n",
        "      continue\n",
        "  print(value)"
      ],
      "metadata": {
        "colab": {
          "base_uri": "https://localhost:8080/"
        },
        "id": "mG8m4DlNuBZp",
        "outputId": "c0553f8b-5766-43c4-dd16-590e29d93fb4"
      },
      "execution_count": null,
      "outputs": [
        {
          "output_type": "stream",
          "name": "stdout",
          "text": [
            "Pensies\n",
            "Sunflower\n",
            "Marigolds\n",
            "Baneberry\n"
          ]
        }
      ]
    },
    {
      "cell_type": "markdown",
      "source": [
        "# Functions"
      ],
      "metadata": {
        "id": "BFqFA1-YvWem"
      }
    },
    {
      "cell_type": "code",
      "source": [
        "# calling function\n",
        "def area():\n",
        "  area_rect = 10 * 5\n",
        "  print('Area of rectangle = ', area_rect)\n",
        "  return \n",
        "\n",
        "area() # calling function "
      ],
      "metadata": {
        "colab": {
          "base_uri": "https://localhost:8080/"
        },
        "id": "D1jgdINrvaDW",
        "outputId": "dfac62b8-a2ea-40a3-a09b-0f5932880c97"
      },
      "execution_count": null,
      "outputs": [
        {
          "output_type": "stream",
          "name": "stdout",
          "text": [
            "Area of rectangle =  50\n"
          ]
        }
      ]
    },
    {
      "cell_type": "code",
      "source": [
        "# calling function with arguments\n",
        "\n",
        "# pass 3 parameters in the function\n",
        "\n",
        "def area(shape, length, breath):\n",
        "  area = length * breath\n",
        "  print(shape, 'area = ', area)\n",
        "  return  \n",
        "\n",
        "area('Rectangle', 10, 5)  #Calling the function with arguments\n",
        "area('Square', 20, 20) # Calling the function arguments"
      ],
      "metadata": {
        "colab": {
          "base_uri": "https://localhost:8080/"
        },
        "id": "ltzbyd3LCQH0",
        "outputId": "0e902d98-8662-45b4-fde6-a9e608439f39"
      },
      "execution_count": null,
      "outputs": [
        {
          "output_type": "stream",
          "name": "stdout",
          "text": [
            "Rectangle area =  50\n",
            "Square area =  400\n"
          ]
        }
      ]
    },
    {
      "cell_type": "markdown",
      "source": [
        "### `*args`"
      ],
      "metadata": {
        "id": "8h0UD7IhnKS-"
      }
    },
    {
      "cell_type": "code",
      "source": [
        "def total_sales(*args):\n",
        "    total = 0\n",
        "    for sale in args:\n",
        "        total = total + sale\n",
        "    return total\n",
        "print('Total sales:', total_sales(4000, 10000, 5000, 15000, 2000))"
      ],
      "metadata": {
        "colab": {
          "base_uri": "https://localhost:8080/"
        },
        "id": "cTKHK1A9nScm",
        "outputId": "f294ed87-0f7e-4430-99f2-0b6912c50508"
      },
      "execution_count": null,
      "outputs": [
        {
          "output_type": "stream",
          "name": "stdout",
          "text": [
            "Total sales: 36000\n"
          ]
        }
      ]
    },
    {
      "cell_type": "markdown",
      "source": [
        "`**kwargs`"
      ],
      "metadata": {
        "id": "Xu5noyQnyeB-"
      }
    },
    {
      "cell_type": "code",
      "source": [
        "def total_sales(**kwargs):\n",
        "    items = \" \"\n",
        "    total = 0\n",
        "    for item in kwargs.keys():\n",
        "        items = items + item\n",
        "    print('Items Sold:', items)\n",
        "\n",
        "    for sale in kwargs.values():\n",
        "        total = total + sale\n",
        "    return total \n",
        "print('Total sales:', total_sales(Tv_set = 4000, Dining_table = 10000, Fridge = 5000, Carpet = 15000))"
      ],
      "metadata": {
        "colab": {
          "base_uri": "https://localhost:8080/"
        },
        "id": "OeC1MbppsQ6C",
        "outputId": "37102ebe-d1ee-49cf-bf65-2625ecbbe21b"
      },
      "execution_count": null,
      "outputs": [
        {
          "output_type": "stream",
          "name": "stdout",
          "text": [
            "<class 'str'>\n",
            "<class 'str'>\n",
            "<class 'str'>\n",
            "<class 'str'>\n",
            "Items Sold:  Tv_setDining_tableFridgeCarpet\n",
            "Total sales: 34000\n"
          ]
        }
      ]
    },
    {
      "cell_type": "markdown",
      "source": [
        "## Anonymous Functions(lambda functions)"
      ],
      "metadata": {
        "id": "s6pNv0TUyhFB"
      }
    },
    {
      "cell_type": "code",
      "source": [
        "examp_list = [10, 5, 15, 6]\n",
        "squares = list(map(lambda num: num*num, examp_list)) # convert the results to a list with list()\n",
        "print(squares)"
      ],
      "metadata": {
        "colab": {
          "base_uri": "https://localhost:8080/"
        },
        "id": "htaiVJ-JQmM9",
        "outputId": "d6618515-0a7a-441c-ec1b-16cb70d6aa6f"
      },
      "execution_count": null,
      "outputs": [
        {
          "output_type": "stream",
          "name": "stdout",
          "text": [
            "[100, 25, 225, 36]\n"
          ]
        }
      ]
    },
    {
      "cell_type": "markdown",
      "source": [
        "Python `map()`"
      ],
      "metadata": {
        "id": "CSWSILcb4_-7"
      }
    },
    {
      "cell_type": "code",
      "source": [
        "def reverse(str):\n",
        "    string = \" \"\n",
        "    for i in str:\n",
        "        string = i + string\n",
        "    return string\n",
        "\n",
        "words = ['Data science', 'Nuggets', 'Python', 'Learn']\n",
        "reversed_words = map(reverse, words)\n",
        "\n",
        "print(reversed_words)"
      ],
      "metadata": {
        "colab": {
          "base_uri": "https://localhost:8080/"
        },
        "id": "CpOb3GDt5C2i",
        "outputId": "106d4d1c-d4d2-4d8b-daaf-e9c74c3d47e7"
      },
      "execution_count": null,
      "outputs": [
        {
          "output_type": "stream",
          "name": "stdout",
          "text": [
            "<map object at 0x7fc80a5c2950>\n"
          ]
        }
      ]
    },
    {
      "cell_type": "code",
      "source": [
        "# convert map object to list\n",
        "print('Reverse Words:', list(reversed_words))"
      ],
      "metadata": {
        "id": "cqZUL0zX5H4D"
      },
      "execution_count": null,
      "outputs": []
    },
    {
      "cell_type": "markdown",
      "source": [
        "# Datetime"
      ],
      "metadata": {
        "id": "qYCkIdd-5Nq-"
      }
    },
    {
      "cell_type": "code",
      "source": [
        "import datetime\n",
        "\n",
        "today = datetime.datetime.now()\n",
        "print(today)"
      ],
      "metadata": {
        "colab": {
          "base_uri": "https://localhost:8080/"
        },
        "id": "9oOsmLCd5P8r",
        "outputId": "878f9d7b-b8b7-4646-e4a7-d3fe62859b9d"
      },
      "execution_count": null,
      "outputs": [
        {
          "output_type": "stream",
          "name": "stdout",
          "text": [
            "2022-08-09 18:36:42.344209\n"
          ]
        }
      ]
    },
    {
      "cell_type": "code",
      "source": [
        "# convert date into readable form\n",
        "\n",
        "today = datetime.datetime.now()\n",
        "print(today.strftime(\"%B\")) # return year"
      ],
      "metadata": {
        "colab": {
          "base_uri": "https://localhost:8080/"
        },
        "id": "iAJAA5MF5Rta",
        "outputId": "776f5a98-9535-44f2-f28f-1130d59e835d"
      },
      "execution_count": null,
      "outputs": [
        {
          "output_type": "stream",
          "name": "stdout",
          "text": [
            "August\n"
          ]
        }
      ]
    },
    {
      "cell_type": "code",
      "source": [
        "today = datetime.datetime(2022, 8, 9) # year, month, day\n",
        "print('Year: ', today.strftime('%Y'))\n",
        "print('Month: ', today.strftime('%B'))\n",
        "print('Day: ', today.strftime('%A'))"
      ],
      "metadata": {
        "colab": {
          "base_uri": "https://localhost:8080/"
        },
        "id": "v64EINPg5dE5",
        "outputId": "d66fca0d-5845-4c05-df4e-d51c4e647120"
      },
      "execution_count": null,
      "outputs": [
        {
          "output_type": "stream",
          "name": "stdout",
          "text": [
            "Year:  2022\n",
            "Month:  August\n",
            "Day:  Tuesday\n"
          ]
        }
      ]
    },
    {
      "cell_type": "markdown",
      "source": [
        "# Exception Handling `try-except`"
      ],
      "metadata": {
        "id": "dgg6eM-Tuwqs"
      }
    },
    {
      "cell_type": "code",
      "source": [
        "# Handle exception\n",
        "name = 'Nuggets'\n",
        "try:\n",
        "  print('Hello, ', namee)\n",
        "except:\n",
        "  print('Something went wrong!')  "
      ],
      "metadata": {
        "colab": {
          "base_uri": "https://localhost:8080/"
        },
        "id": "hZs8YXMCu18G",
        "outputId": "c13bc3c0-7ebf-4935-ef34-0d2f932196a5"
      },
      "execution_count": null,
      "outputs": [
        {
          "output_type": "stream",
          "name": "stdout",
          "text": [
            "Something went wrong!\n"
          ]
        }
      ]
    },
    {
      "cell_type": "code",
      "source": [
        "# Exception with `else block`\n",
        "\n",
        "# Handle exception\n",
        "name = 'Nuggets'\n",
        "try:\n",
        "  print('Hello, ', name)\n",
        "except:\n",
        "  print('Something went wrong!')  \n",
        "else:\n",
        "  print('Name successfuly displayed!')  "
      ],
      "metadata": {
        "colab": {
          "base_uri": "https://localhost:8080/"
        },
        "id": "-LBic6TuxyF7",
        "outputId": "a9a73c9b-98de-4aeb-d402-0ad1025adfb6"
      },
      "execution_count": null,
      "outputs": [
        {
          "output_type": "stream",
          "name": "stdout",
          "text": [
            "Hello,  Nuggets\n",
            "Name successfuly displayed!\n"
          ]
        }
      ]
    },
    {
      "cell_type": "code",
      "source": [
        "# try-except-finally\n",
        "# Handle exception\n",
        "name = 'Nuggets'\n",
        "try:\n",
        "  print('Hello, ', namee)\n",
        "except:\n",
        "  print('Name display failed!')  \n",
        "finally:\n",
        "  print('Welcome to Machine learning nuggets!')  "
      ],
      "metadata": {
        "colab": {
          "base_uri": "https://localhost:8080/"
        },
        "id": "cErmW3E00zWD",
        "outputId": "478f3304-e751-4405-e2e4-3d14862ed189"
      },
      "execution_count": null,
      "outputs": [
        {
          "output_type": "stream",
          "name": "stdout",
          "text": [
            "Name display failed!\n",
            "Welcome to Machine learning nuggets!\n"
          ]
        }
      ]
    },
    {
      "cell_type": "code",
      "source": [
        "# except with Exception name\n",
        "\n",
        "# Handle exception\n",
        "name = 'Nuggets'\n",
        "try:\n",
        "  print('Hello, ', namee)\n",
        "except NameError :\n",
        "  print('Variable is not defined!') \n",
        "finally:\n",
        "  print('Welcome to Machine learning nuggets!') "
      ],
      "metadata": {
        "id": "MU8e8VaD58kQ",
        "outputId": "77f6bd05-3132-4ad8-8966-dd4daf2b86d9",
        "colab": {
          "base_uri": "https://localhost:8080/"
        }
      },
      "execution_count": null,
      "outputs": [
        {
          "output_type": "stream",
          "name": "stdout",
          "text": [
            "Variable is not defined!\n",
            "Welcome to Machine learning nuggets!\n"
          ]
        }
      ]
    },
    {
      "cell_type": "markdown",
      "source": [
        "## Where to go from here\n",
        "\n",
        "Follow us on [LinkedIn](https://www.linkedin.com/company/mlnuggets), [Twitter](https://twitter.com/ml_nuggets), [GitHub](https://github.com/mlnuggets) and subscribe to our [blog](https://www.machinelearningnuggets.com/) so that you don't miss a new issue."
      ],
      "metadata": {
        "id": "LppbxVb_iZ1X"
      }
    }
  ]
}