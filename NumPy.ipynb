{
 "nbformat": 4,
 "nbformat_minor": 0,
 "metadata": {
  "colab": {
   "name": "NumPy",
   "provenance": []
  },
  "kernelspec": {
   "name": "python3",
   "display_name": "Python 3"
  },
  "language_info": {
   "name": "python"
  }
 },
 "cells": [
  {
   "cell_type": "markdown",
   "source": [
    "## NumPy tutorial\n",
    "Click the image below to read the post online.\n",
    "\n",
    "<a target=\"_blank\" href=\"https://www.machinelearningnuggets.com/numpy-tutorial\n",
    "\"><img src=\"https://digitalpress.fra1.cdn.digitaloceanspaces.com/mhujhsj/2022/07/logo.png\" alt=\"Open in ML Nuggets\"></a>"
   ],
   "metadata": {
    "collapsed": false
   }
  },
  {
   "cell_type": "code",
   "source": [
    "import numpy as np"
   ],
   "metadata": {
    "id": "MZXhuYGR3wQj"
   },
   "execution_count": null,
   "outputs": []
  },
  {
   "cell_type": "markdown",
   "source": [
    "# Numpy Arrays\n"
   ],
   "metadata": {
    "id": "_lETqpD2N3X_"
   }
  },
  {
   "cell_type": "markdown",
   "source": [
    "## NumPy ndarry object"
   ],
   "metadata": {
    "id": "v97TjqFAhPjx"
   }
  },
  {
   "cell_type": "markdown",
   "source": [
    "### Creating ndarry Object in NumPy"
   ],
   "metadata": {
    "id": "w35HPxY53nQ4"
   }
  },
  {
   "cell_type": "code",
   "source": [
    "\n",
    "\n",
    "# Create a NumPy array from a list and tuple\n",
    "\n",
    "p_list = np.array([900, 200, 300, 99, 54, 80])\n",
    "print(\"This is a list into numpy array:\\n\", p_list)\n",
    "print(\"Type: \", type(p_list))\n",
    "\n",
    "p_tuple = np.array((50, 60, 90, 105, 90.6, 30.8))\n",
    "print(\"This is a tuple into numpy array:\\n\", p_tuple)\n",
    "print(\"Type: \", type(p_tuple))"
   ],
   "metadata": {
    "id": "WDsb1gaLOz9Z",
    "colab": {
     "base_uri": "https://localhost:8080/"
    },
    "outputId": "22ce1683-266f-4b3c-e20c-93d3fc69a585"
   },
   "execution_count": null,
   "outputs": [
    {
     "output_type": "stream",
     "name": "stdout",
     "text": [
      "This is a list into numpy array:\n",
      " [900 200 300  99  54  80]\n",
      "Type:  <class 'numpy.ndarray'>\n",
      "This is a tuple into numpy array:\n",
      " [ 50.   60.   90.  105.   90.6  30.8]\n",
      "Type:  <class 'numpy.ndarray'>\n"
     ]
    }
   ]
  },
  {
   "cell_type": "markdown",
   "source": [
    "## Dimensions in Numpy array\n",
    "\n"
   ],
   "metadata": {
    "id": "0Wri1oN0WUv3"
   }
  },
  {
   "cell_type": "code",
   "source": [
    "\n",
    "# Zero Dimensional Array\n",
    "\n",
    "zerod_arr = np.array(30)\n",
    "print(zerod_arr)\n",
    "print(\"0-Dimensional: \\n\",  'Dim: ', zerod_arr.ndim)\n",
    "\n",
    "# One Dimensional Array\n",
    "\n",
    "oned_arr = np.array([30, 40, 60, 80, 10])\n",
    "print(oned_arr)\n",
    "print(\"1-Dimesional: \\n\", 'Dim: ', oned_arr.ndim)\n",
    "\n",
    "# Two Dimensional Array\n",
    "\n",
    "twod_arr = np.array([[20, 50, 60, 12], [10, 15, 24, 23]])\n",
    "print(twod_arr)\n",
    "print(\"2-Dimensional: \\n\", 'Dim: ', twod_arr.ndim)\n",
    "\n",
    "# Three Dimensional Array\n",
    "\n",
    "# We can pass in the 2-D array above\n",
    "\n",
    "threed_arr = np.array([twod_arr])\n",
    "print(threed_arr)\n",
    "\n",
    "# or create one\n",
    "threed_arr2 = np.array([\n",
    "           [[1,2,3],[4,5,6],[7,8,9]],\n",
    "           [[9,8,7],[6,5,4],[3,2,1]],\n",
    "           [[1,2,3],[6,5,6],[7,8,9]]\n",
    "           ])\n",
    "print(threed_arr2)\n",
    "\n",
    "print(\"3-Dimensional: \\n\", 'Dim: ', threed_arr.ndim, \"&\", threed_arr2.ndim)\n"
   ],
   "metadata": {
    "id": "NjXWgD2HWj03",
    "colab": {
     "base_uri": "https://localhost:8080/"
    },
    "outputId": "5833716e-cb62-4c4d-b5c3-d86df38d7470"
   },
   "execution_count": null,
   "outputs": [
    {
     "output_type": "stream",
     "name": "stdout",
     "text": [
      "30\n",
      "0-Dimensional: \n",
      " Dim:  0\n",
      "[30 40 60 80 10]\n",
      "1-Dimesional: \n",
      " Dim:  1\n",
      "[[20 50 60 12]\n",
      " [10 15 24 23]]\n",
      "2-Dimensional: \n",
      " Dim:  2\n",
      "[[[20 50 60 12]\n",
      "  [10 15 24 23]]]\n",
      "[[[1 2 3]\n",
      "  [4 5 6]\n",
      "  [7 8 9]]\n",
      "\n",
      " [[9 8 7]\n",
      "  [6 5 4]\n",
      "  [3 2 1]]\n",
      "\n",
      " [[1 2 3]\n",
      "  [6 5 6]\n",
      "  [7 8 9]]]\n",
      "3-Dimensional: \n",
      " Dim:  3 & 3\n"
     ]
    }
   ]
  },
  {
   "cell_type": "markdown",
   "source": [
    "### Specifying the number of Dimensions Using **ndim** parameter"
   ],
   "metadata": {
    "id": "WnIqgmHnZARz"
   }
  },
  {
   "cell_type": "code",
   "source": [
    "#create an array of 6 dimensions\n",
    "\n",
    "sixd_arr = np.array([1, 2, 3, 4], ndmin=6)\n",
    "\n",
    "print(sixd_arr)\n",
    "print(\"Dimensions :\", sixd_arr.ndim)"
   ],
   "metadata": {
    "id": "o4oJIzxbZKWy",
    "colab": {
     "base_uri": "https://localhost:8080/"
    },
    "outputId": "99968325-5076-4494-f009-13f48642b1b5"
   },
   "execution_count": null,
   "outputs": [
    {
     "output_type": "stream",
     "name": "stdout",
     "text": [
      "[[[[[[1 2 3 4]]]]]]\n",
      "Dimensions : 6\n"
     ]
    }
   ]
  },
  {
   "cell_type": "markdown",
   "source": [
    "# NumPy Array Creation Functions\n"
   ],
   "metadata": {
    "id": "LtuZviNyf7Sy"
   }
  },
  {
   "cell_type": "markdown",
   "source": [
    "### np.linspace"
   ],
   "metadata": {
    "id": "jn2lQwFngFcK"
   }
  },
  {
   "cell_type": "code",
   "source": [
    "linspace_arr = np.linspace(2., 5., 6) # start, stop, interval\n",
    "print(linspace_arr)"
   ],
   "metadata": {
    "id": "Qdn4L7hHgLvT",
    "colab": {
     "base_uri": "https://localhost:8080/"
    },
    "outputId": "2980221d-d5fa-408f-a59f-553286ddc22b"
   },
   "execution_count": null,
   "outputs": [
    {
     "output_type": "stream",
     "name": "stdout",
     "text": [
      "[2.  2.6 3.2 3.8 4.4 5. ]\n"
     ]
    }
   ]
  },
  {
   "cell_type": "markdown",
   "source": [
    "### np.arange"
   ],
   "metadata": {
    "id": "3ZfGcSAhgSJX"
   }
  },
  {
   "cell_type": "code",
   "source": [
    "arange_arr = np.arange(1, 30., 4)\n",
    "print(arange_arr)"
   ],
   "metadata": {
    "id": "agni727tgkl2",
    "colab": {
     "base_uri": "https://localhost:8080/"
    },
    "outputId": "03ee9aec-bbe1-499a-b8a2-d36e076e09c1"
   },
   "execution_count": null,
   "outputs": [
    {
     "output_type": "stream",
     "name": "stdout",
     "text": [
      "[ 1.  5.  9. 13. 17. 21. 25. 29.]\n"
     ]
    }
   ]
  },
  {
   "cell_type": "markdown",
   "source": [
    "### np.zeros"
   ],
   "metadata": {
    "id": "ZhGgGQc4gwGA"
   }
  },
  {
   "cell_type": "code",
   "source": [
    "zeros_arr = np.zeros((2, 3, 3))\n",
    "print(zeros_arr)"
   ],
   "metadata": {
    "id": "bTVfItx_gz0j",
    "colab": {
     "base_uri": "https://localhost:8080/"
    },
    "outputId": "36878396-fae4-48bc-935b-f3ba76049796"
   },
   "execution_count": null,
   "outputs": [
    {
     "output_type": "stream",
     "name": "stdout",
     "text": [
      "[[[0. 0. 0.]\n",
      "  [0. 0. 0.]\n",
      "  [0. 0. 0.]]\n",
      "\n",
      " [[0. 0. 0.]\n",
      "  [0. 0. 0.]\n",
      "  [0. 0. 0.]]]\n"
     ]
    }
   ]
  },
  {
   "cell_type": "markdown",
   "source": [
    "### np.ones"
   ],
   "metadata": {
    "id": "cy53ISDog8iz"
   }
  },
  {
   "cell_type": "code",
   "source": [
    "ones_arr = np.ones((2, 3, 3))\n",
    "print(ones_arr)"
   ],
   "metadata": {
    "id": "037Zu6EWhAM0",
    "colab": {
     "base_uri": "https://localhost:8080/"
    },
    "outputId": "13d5d2a0-7cbc-4b7c-fa49-adb3c1eb6286"
   },
   "execution_count": null,
   "outputs": [
    {
     "output_type": "stream",
     "name": "stdout",
     "text": [
      "[[[1. 1. 1.]\n",
      "  [1. 1. 1.]\n",
      "  [1. 1. 1.]]\n",
      "\n",
      " [[1. 1. 1.]\n",
      "  [1. 1. 1.]\n",
      "  [1. 1. 1.]]]\n"
     ]
    }
   ]
  },
  {
   "cell_type": "markdown",
   "source": [
    "### np.empty"
   ],
   "metadata": {
    "id": "Aa6cvrf9iovK"
   }
  },
  {
   "cell_type": "code",
   "source": [
    "empty_arr = np.empty([5, 5], dtype=int)\n",
    "print(empty_arr)"
   ],
   "metadata": {
    "id": "ajV_mJYHiyTM",
    "colab": {
     "base_uri": "https://localhost:8080/"
    },
    "outputId": "3d7a5e48-3917-481c-f9d3-991b038f697c"
   },
   "execution_count": null,
   "outputs": [
    {
     "output_type": "stream",
     "name": "stdout",
     "text": [
      "[[           22628176            11118976                 167\n",
      "                   -1 8079584628061773859]\n",
      " [8027792918815405153 8007522626180508789 7381153981561839726\n",
      "  7810123701326214176 8295668323982734177]\n",
      " [7236828442999421300 2338340670574978336 8367821614119415667\n",
      "   748839365498708079 7595160661225840675]\n",
      " [7810775990839306094 7449355556930023017 8675467843668439909\n",
      "  7956011654333542004 8245937412923350887]\n",
      " [8392750419555662368 7451606223107613545 7142773280752364910\n",
      "  7017276114329693797    2926274656626035]]\n"
     ]
    }
   ]
  },
  {
   "cell_type": "markdown",
   "source": [
    "# NumPy Data Types"
   ],
   "metadata": {
    "id": "3A8u2Gb9i4Vq"
   }
  },
  {
   "cell_type": "markdown",
   "source": [
    "## Creating simple dtypes"
   ],
   "metadata": {
    "id": "srJzjjZKjR7f"
   }
  },
  {
   "cell_type": "markdown",
   "source": [
    "### Using data type names"
   ],
   "metadata": {
    "id": "8ZBW70a5jx5u"
   }
  },
  {
   "cell_type": "code",
   "source": [
    "# 32-bit integer\n",
    "int_dt = np.dtype(np.int32)\n",
    "print(int_dt, \"\\n Type: \", int_dt.type)\n",
    "\n",
    "#complex type\n",
    "complex_dt = np.dtype(np.complex128)\n",
    "print(complex_dt, \"\\n Type: \", complex_dt.type)\n",
    "\n",
    "#Boolean\n",
    "bool_dt = np.dtype(np.bool_)\n",
    "print(bool_dt, \"\\n Type: \", bool_dt.type)\n",
    "\n",
    "# float\n",
    "float_dt = np.dtype(np.float32)\n",
    "print(float_dt, \"\\n Type: \", float_dt.type)\n",
    "\n",
    "#insigned integer\n",
    "\n",
    "unsignedInt_dt = np.dtype(np.uint64)\n",
    "print(unsignedInt_dt, \"\\n Type: \", unsignedInt_dt.type)"
   ],
   "metadata": {
    "id": "PJPgAIG8i8V9",
    "colab": {
     "base_uri": "https://localhost:8080/"
    },
    "outputId": "aafa1734-b894-41b1-a2a5-1e2305155a3e"
   },
   "execution_count": null,
   "outputs": [
    {
     "output_type": "stream",
     "name": "stdout",
     "text": [
      "int32 \n",
      " Type:  <class 'numpy.int32'>\n",
      "complex128 \n",
      " Type:  <class 'numpy.complex128'>\n",
      "bool \n",
      " Type:  <class 'numpy.bool_'>\n",
      "float32 \n",
      " Type:  <class 'numpy.float32'>\n",
      "uint64 \n",
      " Type:  <class 'numpy.uint64'>\n"
     ]
    }
   ]
  },
  {
   "cell_type": "markdown",
   "source": [
    "### Using character codes"
   ],
   "metadata": {
    "id": "x3VdT1GQj4J9"
   }
  },
  {
   "cell_type": "code",
   "source": [
    "# 32-bit signed integer\n",
    "int_dt = np.dtype('i4')\n",
    "print(int_dt, \"\\n Type: \", int_dt.type)\n",
    "\n",
    "# 64-bit floating-point number\n",
    "float_dt = np.dtype('f8')\n",
    "print(float_dt, \"\\n Type: \", float_dt.type)\n",
    "\n",
    "# complex\n",
    "complex_dt = np.dtype('c16')\n",
    "print(complex_dt, \"\\n Type: \", complex_dt.type)\n",
    "\n",
    "# 64-bit unsigned integer\n",
    "unsignedInt_dt = np.dtype('u8')\n",
    "print(unsignedInt_dt, \"\\n Type: \", unsignedInt_dt.type)"
   ],
   "metadata": {
    "id": "sORJfAP6j-HU",
    "colab": {
     "base_uri": "https://localhost:8080/"
    },
    "outputId": "c063fedb-7876-4a40-e748-3f67694dcb10"
   },
   "execution_count": null,
   "outputs": [
    {
     "output_type": "stream",
     "name": "stdout",
     "text": [
      "int32 \n",
      " Type:  <class 'numpy.int32'>\n",
      "float64 \n",
      " Type:  <class 'numpy.float64'>\n",
      "complex128 \n",
      " Type:  <class 'numpy.complex128'>\n",
      "uint64 \n",
      " Type:  <class 'numpy.uint64'>\n"
     ]
    }
   ]
  },
  {
   "cell_type": "markdown",
   "source": [
    "### Check the data type using `dtype`"
   ],
   "metadata": {
    "id": "hNw00k4zkKiD"
   }
  },
  {
   "cell_type": "code",
   "source": [
    "threed_arr2 = np.array([\n",
    "           [[1,2,3],[4,5,6],[7,8,9]],\n",
    "           [[9,8,7],[6,5,4],[3,2,1]],\n",
    "           [[1,2,3],[6,5,6],[7,8,9]]\n",
    "           ])\n",
    "print(threed_arr2.dtype)\n",
    "\n",
    "arr_string = np.array(['apple', 'banana', 'cherry'])\n",
    "\n",
    "print(arr_string.dtype)"
   ],
   "metadata": {
    "id": "gPLYhaAWkSJo",
    "colab": {
     "base_uri": "https://localhost:8080/"
    },
    "outputId": "6cac758e-4faf-4e2d-e830-b0cd9bd9c585"
   },
   "execution_count": null,
   "outputs": [
    {
     "output_type": "stream",
     "name": "stdout",
     "text": [
      "int64\n",
      "<U6\n"
     ]
    }
   ]
  },
  {
   "cell_type": "markdown",
   "source": [
    "# Creating structured data types"
   ],
   "metadata": {
    "id": "vf1bseYDko5W"
   }
  },
  {
   "cell_type": "markdown",
   "source": [
    "## Creating a list of tuples where each field has one tuple"
   ],
   "metadata": {
    "id": "7Rm8rVGrlHho"
   }
  },
  {
   "cell_type": "code",
   "source": [
    "#structured data types with a list of tuples\n",
    "\n",
    "struct_dt_1 = np.dtype(([('name', 'S20'), ('age', np.int16), ('marks', 'f4', (2, 2))]))\n",
    "print(struct_dt_1)"
   ],
   "metadata": {
    "colab": {
     "base_uri": "https://localhost:8080/"
    },
    "id": "74vj3OLplJrI",
    "outputId": "7919fc68-2ea4-4538-a251-3a8a08c0dcea"
   },
   "execution_count": null,
   "outputs": [
    {
     "output_type": "stream",
     "name": "stdout",
     "text": [
      "[('name', 'S20'), ('age', '<i2'), ('marks', '<f4', (2, 2))]\n"
     ]
    }
   ]
  },
  {
   "cell_type": "markdown",
   "source": [
    "### Creating a list of comma-separated dtype specifications"
   ],
   "metadata": {
    "id": "9k_Xz8n2lUnd"
   }
  },
  {
   "cell_type": "code",
   "source": [
    "# comma separated dtypes\n",
    "\n",
    "struct_dt_2 = np.dtype('S20, int16, f4')\n",
    "print(struct_dt_2)\n",
    "\n",
    "struct_dt_2s = np.dtype('3int16, float32, (2, 3)float64')\n",
    "print(struct_dt_2s)"
   ],
   "metadata": {
    "id": "Z69Bs3zuljLZ",
    "colab": {
     "base_uri": "https://localhost:8080/"
    },
    "outputId": "786b16f4-b29f-4723-9f60-311ad75af2e3"
   },
   "execution_count": null,
   "outputs": [
    {
     "output_type": "stream",
     "name": "stdout",
     "text": [
      "[('f0', 'S20'), ('f1', '<i2'), ('f2', '<f4')]\n",
      "[('f0', '<i2', (3,)), ('f1', '<f4'), ('f2', '<f8', (2, 3))]\n"
     ]
    }
   ]
  },
  {
   "cell_type": "markdown",
   "source": [
    "### Creating a dictionary of field parameter arrays"
   ],
   "metadata": {
    "id": "fWc8kOFYlmYd"
   }
  },
  {
   "cell_type": "code",
   "source": [
    "struct_dt_3 = np.dtype({'names': ['name', 'salary'],\n",
    "          'formats': ['i4', 'f4'],\n",
    "          'offsets': [0, 4],\n",
    "          'itemsize': 12})\n",
    "\n",
    "print(struct_dt_3)"
   ],
   "metadata": {
    "id": "U-b-A1XSlrBg",
    "colab": {
     "base_uri": "https://localhost:8080/"
    },
    "outputId": "14bb1ba8-1f6b-4df7-8616-e770287c42f3"
   },
   "execution_count": null,
   "outputs": [
    {
     "output_type": "stream",
     "name": "stdout",
     "text": [
      "{'names':['name','salary'], 'formats':['<i4','<f4'], 'offsets':[0,4], 'itemsize':12}\n"
     ]
    }
   ]
  },
  {
   "cell_type": "markdown",
   "source": [
    "# Structured arrays"
   ],
   "metadata": {
    "id": "dlt5Dudml2vF"
   }
  },
  {
   "cell_type": "code",
   "source": [
    "# Arrays with data type is a structures data type\n",
    "\n",
    "structured_arr = np.array([('John', 23, 100.4), ('Mercy', 30, 58.3)],\n",
    "             dtype=[('name', 'U10'), ('age', 'i4'), ('weight', 'f4')])\n",
    "\n",
    "print(structured_arr)\n",
    "print(structured_arr.dtype) # checking the dtype of the array"
   ],
   "metadata": {
    "id": "az7vq3o8mIWH",
    "colab": {
     "base_uri": "https://localhost:8080/"
    },
    "outputId": "8dc36fd1-24f5-4847-b087-873a1a4e5362"
   },
   "execution_count": null,
   "outputs": [
    {
     "output_type": "stream",
     "name": "stdout",
     "text": [
      "[('John', 23, 100.4) ('Mercy', 30,  58.3)]\n",
      "[('name', '<U10'), ('age', '<i4'), ('weight', '<f4')]\n"
     ]
    }
   ]
  },
  {
   "cell_type": "markdown",
   "source": [
    "### Example"
   ],
   "metadata": {
    "id": "fbDZU5GCmiye"
   }
  },
  {
   "cell_type": "code",
   "source": [
    "model = ['Bentley', 'Toyota', 'Audi', 'Ford']\n",
    "weight = [1400.8, 2500, 1600, 1700]\n",
    "color = ['Blue', 'Green', 'White', 'Black']\n",
    "speed = [240, 180, 300, 260]\n",
    "\n",
    "vehicle_data = np.zeros(4, dtype={'names': ['model', 'weight', 'color', 'speed'],\n",
    "                 'formats': ['U10', 'f8', 'U10', 'f8']\n",
    "                 })\n",
    "\n",
    "vehicle_data['model'] = model\n",
    "vehicle_data['weight'] = weight\n",
    "vehicle_data['color'] = color\n",
    "vehicle_data['speed'] = speed\n",
    "\n",
    "print(\"Data: \\n\", vehicle_data)\n",
    "\n",
    "print(\"All vehicle Models:\\n\", vehicle_data['model'])\n",
    "print(\"All vehicle Colors:\\n\", vehicle_data['color'])"
   ],
   "metadata": {
    "id": "7rbWOjGGmmfW",
    "colab": {
     "base_uri": "https://localhost:8080/"
    },
    "outputId": "f7eb88d4-50a1-433e-c222-9826d050c4f0"
   },
   "execution_count": null,
   "outputs": [
    {
     "output_type": "stream",
     "name": "stdout",
     "text": [
      "Data: \n",
      " [('Bentley', 1400.8, 'Blue', 240.) ('Toyota', 2500. , 'Green', 180.)\n",
      " ('Audi', 1600. , 'White', 300.) ('Ford', 1700. , 'Black', 260.)]\n",
      "All vehicle Models:\n",
      " ['Bentley' 'Toyota' 'Audi' 'Ford']\n",
      "All vehicle Colors:\n",
      " ['Blue' 'Green' 'White' 'Black']\n"
     ]
    }
   ]
  },
  {
   "cell_type": "markdown",
   "source": [
    "# Indexing NumPy arrays"
   ],
   "metadata": {
    "id": "IeAJzEZtnaD3"
   }
  },
  {
   "cell_type": "markdown",
   "source": [
    "### Indexing a single element"
   ],
   "metadata": {
    "id": "pW-0Y_THnr9a"
   }
  },
  {
   "cell_type": "code",
   "source": [
    "# Create a array of 15 elements 1-D\n",
    "\n",
    "oned_arr = np.arange(15)\n",
    "print('1-D Array: \\n', oned_arr) # print the array\n",
    "print('Item at index 4: \\n', oned_arr[4])\n",
    "\n",
    "# Reshape the 1-D to 2D\n",
    "\n",
    "# Create a 2-D array\n",
    "twod_arr = oned_arr.reshape(5, 3)\n",
    "print('2-D Array: \\n', twod_arr)\n",
    "print('Item 10: \\n', twod_arr[3, 1]) # Access Number 10 in the array(At row 3 column 1)\n",
    "\n",
    "# Reshape the 2-D to 3-D\n",
    "\n",
    "# Create the 3-D array\n",
    "threed_arr = twod_arr.reshape(1, 5, 3)\n",
    "print('3-D Array: \\n', threed_arr)\n",
    "print('Item 10: \\n', threed_arr[0, 3, 1]) # Access Number 10 in 3-D array(At: 1-D array row 0, 2-D row 3, 3-D column 1\n",
    "\n",
    "\n",
    "# NEGATIVE INDEXING\n",
    "\n",
    "# GET THE LAST ELEMENT FROM THE 3-D ARRAY\n",
    "\n",
    "last_element = threed_arr[0, -1, -1]\n",
    "print('Last Element of 3-D array: \\n', last_element)"
   ],
   "metadata": {
    "id": "xaVHZ_ASneKM",
    "colab": {
     "base_uri": "https://localhost:8080/"
    },
    "outputId": "b4b5857a-7717-4471-9188-02ca5dd7c6e9"
   },
   "execution_count": null,
   "outputs": [
    {
     "output_type": "stream",
     "name": "stdout",
     "text": [
      "1-D Array: \n",
      " [ 0  1  2  3  4  5  6  7  8  9 10 11 12 13 14]\n",
      "Item at index 4: \n",
      " 4\n",
      "2-D Array: \n",
      " [[ 0  1  2]\n",
      " [ 3  4  5]\n",
      " [ 6  7  8]\n",
      " [ 9 10 11]\n",
      " [12 13 14]]\n",
      "Item 10: \n",
      " 10\n",
      "3-D Array: \n",
      " [[[ 0  1  2]\n",
      "  [ 3  4  5]\n",
      "  [ 6  7  8]\n",
      "  [ 9 10 11]\n",
      "  [12 13 14]]]\n",
      "Item 10: \n",
      " 10\n",
      "Last Element of 3-D array: \n",
      " 14\n"
     ]
    }
   ]
  },
  {
   "cell_type": "markdown",
   "source": [
    "### Slicing"
   ],
   "metadata": {
    "id": "Mqi_LMqun5QF"
   }
  },
  {
   "cell_type": "code",
   "source": [
    "# Create an array of 15 elements 1-D\n",
    "\n",
    "oned_arr = np.arange(15)\n",
    "print('1-D Array: \\n', oned_arr) # print the array\n",
    "print('From index 1-10: \\n', oned_arr[1:10:2]) # SLICE FROM INDEX 1 TO 10 STEPS OF 2\n",
    "\n",
    "print('Without stop and step: \\n', oned_arr[1:])   # WITHOUT STOP AND STEP. SLICES FROM \n",
    "                                                   #INDEX 1 TO END\n",
    "print('Without start and step: \\n', oned_arr[:10]) # WITHOUT START AND STEP. SLICES FROM \n",
    "                                                   #INDEX 0 TO INDEX 10\n",
    "print('Without start and stop: \\n', oned_arr[::2]) # WITHOUT START AND STOP. SLICES FROM \n",
    "                                                   #INDEX 0 TO END STEPS OF 2\n",
    "\n",
    "print('\\n2-D ====================================================\\n')\n",
    "# Reshape the 1-D to 2D\n",
    "\n",
    "# Create a 2-D array\n",
    "twod_arr = oned_arr.reshape(5, 3)\n",
    "\n",
    "print('2-D Array: \\n', twod_arr)\n",
    "print('From third element(slice index 0-2) : \\n', twod_arr[2, 0:2:1]) # FROM THIRD ELEMENT[] \n",
    "                                                                      #SLICE INDEX 0 TO 2(INDEX 2 NOT INCLUDED)\n",
    "                                                                      \n",
    "print('Without stop and step: \\n', twod_arr[2, 0:])  # FROM THIRD ELEMENT[] SLICE INDEX 0 TO END\n",
    "\n",
    "print('Without start and step: \\n', twod_arr[2, :1]) # FROM THIRD ELEMENT[] SLICES FROM \n",
    "                                                     #INDEX 0 TO INDEX 1(INDEX 1 NOT INCLUDED)\n",
    "                                                     \n",
    "print('Without start and stop: \\n', twod_arr[2, ::2]) # FROM THIRD ELEMENT[] SLICES FROM \n",
    "                                                      #INDEX 0 TO END STEPS OF 2"
   ],
   "metadata": {
    "id": "VWCvHHuqn7Y1",
    "colab": {
     "base_uri": "https://localhost:8080/"
    },
    "outputId": "e368e461-f49b-4bba-b593-ec77f610ab50"
   },
   "execution_count": null,
   "outputs": [
    {
     "output_type": "stream",
     "name": "stdout",
     "text": [
      "1-D Array: \n",
      " [ 0  1  2  3  4  5  6  7  8  9 10 11 12 13 14]\n",
      "From index 1-10: \n",
      " [1 3 5 7 9]\n",
      "Without stop and step: \n",
      " [ 1  2  3  4  5  6  7  8  9 10 11 12 13 14]\n",
      "Without start and step: \n",
      " [0 1 2 3 4 5 6 7 8 9]\n",
      "Without start and stop: \n",
      " [ 0  2  4  6  8 10 12 14]\n",
      "\n",
      "2-D ====================================================\n",
      "\n",
      "2-D Array: \n",
      " [[ 0  1  2]\n",
      " [ 3  4  5]\n",
      " [ 6  7  8]\n",
      " [ 9 10 11]\n",
      " [12 13 14]]\n",
      "From third element(slice index 0-2) : \n",
      " [6 7]\n",
      "Without stop and step: \n",
      " [6 7 8]\n",
      "Without start and step: \n",
      " [6]\n",
      "Without start and stop: \n",
      " [6 8]\n"
     ]
    }
   ]
  },
  {
   "cell_type": "markdown",
   "source": [
    "# NumPy array shapes and reshaping"
   ],
   "metadata": {
    "id": "_-odz9bVoGM1"
   }
  },
  {
   "cell_type": "markdown",
   "source": [
    "### Finding Array Shapes with `shape`"
   ],
   "metadata": {
    "id": "ODxGuMlzoPJr"
   }
  },
  {
   "cell_type": "code",
   "source": [
    "oned_arr = np.array([30, 40, 60, 80, 10])\n",
    "print(\"1-D Array: \\n\", oned_arr)\n",
    "print('Shape: ', oned_arr.shape)\n",
    "\n",
    "twod_arr = np.array([[20, 50, 60, 12], [10, 15, 24, 23]])\n",
    "print(\"2-D Array: \\n\", twod_arr)\n",
    "print('Shape: ', twod_arr.shape)\n",
    "\n",
    "threed_arr = np.array([[[20, 24], [30, 15]], [[35, 60], [57, 38]]])\n",
    "print('3-D array: \\n', threed_arr)\n",
    "print('Shape: ', threed_arr.shape)"
   ],
   "metadata": {
    "id": "htcSqzsHobyQ",
    "colab": {
     "base_uri": "https://localhost:8080/"
    },
    "outputId": "18ab7569-19c5-4c53-f8f1-05c347b780ef"
   },
   "execution_count": null,
   "outputs": [
    {
     "output_type": "stream",
     "name": "stdout",
     "text": [
      "1-D Array: \n",
      " [30 40 60 80 10]\n",
      "Shape:  (5,)\n",
      "2-D Array: \n",
      " [[20 50 60 12]\n",
      " [10 15 24 23]]\n",
      "Shape:  (2, 4)\n",
      "3-D array: \n",
      " [[[20 24]\n",
      "  [30 15]]\n",
      "\n",
      " [[35 60]\n",
      "  [57 38]]]\n",
      "Shape:  (2, 2, 2)\n"
     ]
    }
   ]
  },
  {
   "cell_type": "markdown",
   "source": [
    "### Reshaping with `reshape()`"
   ],
   "metadata": {
    "id": "stW_R6FsooCU"
   }
  },
  {
   "cell_type": "code",
   "source": [
    "# Create a 1-D array\n",
    "\n",
    "oned_arr = np.arange(15)\n",
    "print('1-D Array: \\n', oned_arr) # print the array\n",
    "\n",
    "\n",
    "# Reshape the 1-D to 2-D\n",
    "\n",
    "twod_arr = oned_arr.reshape(5, 3)\n",
    "print('2-D Array from 1-D: \\n', twod_arr)\n",
    "\n",
    "\n",
    "# Reshape the 2-D to 3-D\n",
    "\n",
    "threed_arr = twod_arr.reshape(1, 5, 3)\n",
    "print('3-D Array from 2-D: \\n', threed_arr)"
   ],
   "metadata": {
    "id": "uztGD4D5ox2q",
    "colab": {
     "base_uri": "https://localhost:8080/"
    },
    "outputId": "53e8375a-955f-4758-cfa9-1f2c98fb965a"
   },
   "execution_count": null,
   "outputs": [
    {
     "output_type": "stream",
     "name": "stdout",
     "text": [
      "1-D Array: \n",
      " [ 0  1  2  3  4  5  6  7  8  9 10 11 12 13 14]\n",
      "2-D Array from 1-D: \n",
      " [[ 0  1  2]\n",
      " [ 3  4  5]\n",
      " [ 6  7  8]\n",
      " [ 9 10 11]\n",
      " [12 13 14]]\n",
      "3-D Array from 2-D: \n",
      " [[[ 0  1  2]\n",
      "  [ 3  4  5]\n",
      "  [ 6  7  8]\n",
      "  [ 9 10 11]\n",
      "  [12 13 14]]]\n"
     ]
    }
   ]
  },
  {
   "cell_type": "markdown",
   "source": [
    "# Broadcasting Numpy arrays"
   ],
   "metadata": {
    "id": "tVhXVU8Yo49G"
   }
  },
  {
   "cell_type": "markdown",
   "source": [
    "### Example"
   ],
   "metadata": {
    "id": "f4p7II9JpM_x"
   }
  },
  {
   "cell_type": "code",
   "source": [
    "print('ARRAYS OF SIMILAR SHAPE AND SIZE')\n",
    "\n",
    "array_a = np.array([10, 20, 15, 30])\n",
    "array_b = np.array([5, 4, 3, 6])\n",
    "print('Shapes of a and b: \\n', array_a.shape, array_b.shape)\n",
    "print('Sum of both:\\n', array_a + array_b) # success\n",
    "\n",
    "print('ARRAYS OF DISIMILAR SHAPE AND SIZE')\n",
    "\n",
    "array_a = np.array([10, 20, 15, 30])\n",
    "array_b = np.array([5, 4, 3])\n",
    "print('Shapes of a and b: \\n', array_a.shape, array_b.shape)\n",
    "try:\n",
    "  print('Sum of both:\\n', array_a + array_b) # Returns and error\n",
    "except ValueError:\n",
    "  print('Can\\'t broadcast arrays of different shapes!')"
   ],
   "metadata": {
    "id": "kFxllecHpQaU",
    "colab": {
     "base_uri": "https://localhost:8080/"
    },
    "outputId": "28342bc2-f400-4770-a822-47143829c0ba"
   },
   "execution_count": null,
   "outputs": [
    {
     "output_type": "stream",
     "name": "stdout",
     "text": [
      "ARRAYS OF SIMILAR SHAPE AND SIZE\n",
      "Shapes of a and b: \n",
      " (4,) (4,)\n",
      "Sum of both:\n",
      " [15 24 18 36]\n",
      "ARRAYS OF DISIMILAR SHAPE AND SIZE\n",
      "Shapes of a and b: \n",
      " (4,) (3,)\n",
      "Can't broadcast arrays of different shapes!\n"
     ]
    }
   ]
  },
  {
   "cell_type": "markdown",
   "source": [
    "### Successful Broadcasting"
   ],
   "metadata": {
    "id": "k8oqL3lSp4Ea"
   }
  },
  {
   "cell_type": "code",
   "source": [
    "array_a = np.array([[1, 1, 1],[20, 20, 20], [30, 30, 30], [40, 40, 40]])\n",
    "array_b = np.array([1.0,2.0,3.0])\n",
    "print('Array a:\\n', array_a, 'SHAPE: ', array_a.shape)\n",
    "print('Array b:\\n', array_b, 'SHAPE: ', array_b.shape)\n",
    "\n",
    "print('Sum of both: \\n', array_a + array_b) # WILL BE SUCCESSFUL"
   ],
   "metadata": {
    "id": "9JFwahmwp8eG",
    "colab": {
     "base_uri": "https://localhost:8080/"
    },
    "outputId": "cdbad8de-385d-4ce1-ae2c-72376511496d"
   },
   "execution_count": null,
   "outputs": [
    {
     "output_type": "stream",
     "name": "stdout",
     "text": [
      "Array a:\n",
      " [[ 1  1  1]\n",
      " [20 20 20]\n",
      " [30 30 30]\n",
      " [40 40 40]] SHAPE:  (4, 3)\n",
      "Array b:\n",
      " [1. 2. 3.] SHAPE:  (3,)\n",
      "Sum of both: \n",
      " [[ 2.  3.  4.]\n",
      " [21. 22. 23.]\n",
      " [31. 32. 33.]\n",
      " [41. 42. 43.]]\n"
     ]
    }
   ]
  },
  {
   "cell_type": "markdown",
   "source": [
    "### Failed Broadcasting"
   ],
   "metadata": {
    "id": "KiVw85_iri1o"
   }
  },
  {
   "cell_type": "code",
   "source": [
    "array_a = np.array([[1, 1, 1],[20, 20, 20], [30, 30, 30], [40, 40, 40]])\n",
    "array_b = np.array([1,2,3,4])\n",
    "print('Array a:\\n', array_a, 'SHAPE: ', array_a.shape)\n",
    "print('Array b:\\n', array_b, 'SHAPE: ', array_b.shape)\n",
    "try:\n",
    "  print('Sum of both: \\n', array_a + array_b)\n",
    "except ValueError:\n",
    "   # handle value error\n",
    "   print(\"Cannot broadcast arrays of different shape!\")\n"
   ],
   "metadata": {
    "colab": {
     "base_uri": "https://localhost:8080/"
    },
    "id": "f-C0e_kiql1d",
    "outputId": "80cc7dff-d19e-4549-8f6b-32660c4c17ef"
   },
   "execution_count": null,
   "outputs": [
    {
     "output_type": "stream",
     "name": "stdout",
     "text": [
      "Array a:\n",
      " [[ 1  1  1]\n",
      " [20 20 20]\n",
      " [30 30 30]\n",
      " [40 40 40]] SHAPE:  (4, 3)\n",
      "Array b:\n",
      " [1 2 3 4] SHAPE:  (4,)\n",
      "Cannot broadcast arrays of different shape!\n"
     ]
    }
   ]
  },
  {
   "cell_type": "markdown",
   "source": [
    "# Iterating over NumPy arrays"
   ],
   "metadata": {
    "id": "vhiyU51ks936"
   }
  },
  {
   "cell_type": "markdown",
   "source": [
    "### Getting values from 1-D, 2-D, 3-D arrays"
   ],
   "metadata": {
    "id": "PEyH13zktPeZ"
   }
  },
  {
   "cell_type": "code",
   "source": [
    "# Create a array of 15 elements 1-D\n",
    "\n",
    "print('===1-D=== ARRAY \\n')\n",
    "\n",
    "oned_arr = np.arange(15)\n",
    "print('1-D Array: \\n', oned_arr) # print the array\n",
    "\n",
    "print('LOOPING TO DISPLAY EACH ELEMENT')\n",
    "for elem in oned_arr:\n",
    "    print(elem)\n",
    "\n",
    "\n",
    "# Reshape the 1-D to 2D\n",
    "\n",
    "# Create a 2-D array\n",
    "print('===2-D=== ARRAY \\n')\n",
    "\n",
    "twod_arr = oned_arr.reshape(5, 3)\n",
    "print('2-D Array: \\n', twod_arr)\n",
    "\n",
    "print('LOOP TO GET EACH DIMENSION IN THE ARRAY')\n",
    "\n",
    "for dimension in twod_arr:\n",
    "    print(dimension)\n",
    "\n",
    "print('LOOPING TO GET ACTUAL VALUES/SCALARS')\n",
    "for dimension in twod_arr:\n",
    "    for elem in dimension:\n",
    "        print(elem)\n",
    "\n",
    "# # Reshape the 2-D to 3-D\n",
    "\n",
    "# Create the 3-D array\n",
    "print('===3-D=== ARRAY \\n')\n",
    "\n",
    "threed_arr = twod_arr.reshape(1, 5, 3)\n",
    "print('3-D Array: \\n', threed_arr)\n",
    "\n",
    "print('LOOPING TO GET ALL 2-D ARRAYS IN THE 3-D')\n",
    "for array in threed_arr:\n",
    "    print(array) # we have one 2-D array\n",
    "\n",
    "print('LOOPING TO GET ALL VALUES/SCALARS: WE ITERATE OVER THE DIMENSIONS')\n",
    "for array in threed_arr:\n",
    "    for dimension in array:\n",
    "        for elem in dimension:\n",
    "            print(elem)"
   ],
   "metadata": {
    "colab": {
     "base_uri": "https://localhost:8080/"
    },
    "id": "hYPfYp1etWcU",
    "outputId": "bf79cab3-3aaa-4de1-a457-0afab99c5fb4"
   },
   "execution_count": null,
   "outputs": [
    {
     "output_type": "stream",
     "name": "stdout",
     "text": [
      "===1-D=== ARRAY \n",
      "\n",
      "1-D Array: \n",
      " [ 0  1  2  3  4  5  6  7  8  9 10 11 12 13 14]\n",
      "LOOPING TO DISPLAY EACH ELEMENT\n",
      "0\n",
      "1\n",
      "2\n",
      "3\n",
      "4\n",
      "5\n",
      "6\n",
      "7\n",
      "8\n",
      "9\n",
      "10\n",
      "11\n",
      "12\n",
      "13\n",
      "14\n",
      "===2-D=== ARRAY \n",
      "\n",
      "2-D Array: \n",
      " [[ 0  1  2]\n",
      " [ 3  4  5]\n",
      " [ 6  7  8]\n",
      " [ 9 10 11]\n",
      " [12 13 14]]\n",
      "LOOP TO GET EACH DIMENSION IN THE ARRAY\n",
      "[0 1 2]\n",
      "[3 4 5]\n",
      "[6 7 8]\n",
      "[ 9 10 11]\n",
      "[12 13 14]\n",
      "LOOPING TO GET ACTUAL VALUES/SCALARS\n",
      "0\n",
      "1\n",
      "2\n",
      "3\n",
      "4\n",
      "5\n",
      "6\n",
      "7\n",
      "8\n",
      "9\n",
      "10\n",
      "11\n",
      "12\n",
      "13\n",
      "14\n",
      "===3-D=== ARRAY \n",
      "\n",
      "3-D Array: \n",
      " [[[ 0  1  2]\n",
      "  [ 3  4  5]\n",
      "  [ 6  7  8]\n",
      "  [ 9 10 11]\n",
      "  [12 13 14]]]\n",
      "LOOPING TO GET ALL 2-D ARRAYS IN THE 3-D\n",
      "[[ 0  1  2]\n",
      " [ 3  4  5]\n",
      " [ 6  7  8]\n",
      " [ 9 10 11]\n",
      " [12 13 14]]\n",
      "LOOPING TO GET ALL VALUES/SCALARS: WE ITERATE OVER THE DIMENSIONS\n",
      "0\n",
      "1\n",
      "2\n",
      "3\n",
      "4\n",
      "5\n",
      "6\n",
      "7\n",
      "8\n",
      "9\n",
      "10\n",
      "11\n",
      "12\n",
      "13\n",
      "14\n"
     ]
    }
   ]
  },
  {
   "cell_type": "markdown",
   "source": [
    "### Iterating with `nditer()` object"
   ],
   "metadata": {
    "id": "VdKAONRDth9o"
   }
  },
  {
   "cell_type": "code",
   "source": [
    "fourd_arr = np.arange(10).reshape(1, 1, 5, 2) # create a 4-D array\n",
    "print(fourd_arr)\n",
    "\n",
    "# iterate with nditer object\n",
    "\n",
    "for elem in np.nditer(fourd_arr): # otherwise would be 4 nested for loops\n",
    "    print(elem)"
   ],
   "metadata": {
    "colab": {
     "base_uri": "https://localhost:8080/"
    },
    "id": "AF9DpSeotqIJ",
    "outputId": "a73915ca-1cc9-44b0-cb41-89c9e9154677"
   },
   "execution_count": null,
   "outputs": [
    {
     "output_type": "stream",
     "name": "stdout",
     "text": [
      "[[[[0 1]\n",
      "   [2 3]\n",
      "   [4 5]\n",
      "   [6 7]\n",
      "   [8 9]]]]\n",
      "0\n",
      "1\n",
      "2\n",
      "3\n",
      "4\n",
      "5\n",
      "6\n",
      "7\n",
      "8\n",
      "9\n"
     ]
    }
   ]
  },
  {
   "cell_type": "markdown",
   "source": [
    "# Modifying array elements"
   ],
   "metadata": {
    "id": "tJZRyXaUt6zg"
   }
  },
  {
   "cell_type": "markdown",
   "source": [
    "### Multiplying each elelement with 3"
   ],
   "metadata": {
    "id": "Ee2OGaNst_zb"
   }
  },
  {
   "cell_type": "code",
   "source": [
    "fourd_arr = np.arange(10).reshape(1, 1, 5, 2) # create a 4-D array\n",
    "print('Original Array: \\n', fourd_arr)\n",
    "\n",
    "# iterate with nditer object multiply each element with 3\n",
    "\n",
    "for elem in np.nditer(fourd_arr, op_flags=['readwrite']): \n",
    "    elem[...] = 3*elem  # Each element is mulitplied by 3\n",
    "print('Modified Array: \\n', fourd_arr)"
   ],
   "metadata": {
    "colab": {
     "base_uri": "https://localhost:8080/"
    },
    "id": "MOESYJM-t8pr",
    "outputId": "04abd6c4-96d6-497e-b655-60bad602c172"
   },
   "execution_count": null,
   "outputs": [
    {
     "output_type": "stream",
     "name": "stdout",
     "text": [
      "Original Array: \n",
      " [[[[0 1]\n",
      "   [2 3]\n",
      "   [4 5]\n",
      "   [6 7]\n",
      "   [8 9]]]]\n",
      "Modified Array: \n",
      " [[[[ 0  3]\n",
      "   [ 6  9]\n",
      "   [12 15]\n",
      "   [18 21]\n",
      "   [24 27]]]]\n"
     ]
    }
   ]
  },
  {
   "cell_type": "markdown",
   "source": [
    "### Canging the `dtype` of each element"
   ],
   "metadata": {
    "id": "Or-p5hAMuPdt"
   }
  },
  {
   "cell_type": "code",
   "source": [
    "fourd_arr = np.arange(10).reshape(1, 1, 5, 2) # create a 4-D array\n",
    "print('Original Array: \\n', fourd_arr)\n",
    "\n",
    "# iterate with nditer object change dtype\n",
    "\n",
    "for elem in np.nditer(fourd_arr, flags=['buffered', 'external_loop'], op_dtypes='S'):\n",
    "    print('Results of each element: \\n', elem) # Each value is a str."
   ],
   "metadata": {
    "colab": {
     "base_uri": "https://localhost:8080/"
    },
    "id": "g-TOgk_nuaGv",
    "outputId": "b98e3588-6019-489f-adb5-f290b9671d26"
   },
   "execution_count": null,
   "outputs": [
    {
     "output_type": "stream",
     "name": "stdout",
     "text": [
      "Original Array: \n",
      " [[[[0 1]\n",
      "   [2 3]\n",
      "   [4 5]\n",
      "   [6 7]\n",
      "   [8 9]]]]\n",
      "Results of each element: \n",
      " [b'0' b'1' b'2' b'3' b'4' b'5' b'6' b'7' b'8' b'9']\n"
     ]
    }
   ]
  },
  {
   "cell_type": "markdown",
   "source": [
    "# Numpy string functions"
   ],
   "metadata": {
    "id": "tP3UXjKiuk1y"
   }
  },
  {
   "cell_type": "markdown",
   "source": [
    "### `np.char.add()`\n",
    "### `np.char.multiply()`"
   ],
   "metadata": {
    "id": "TOIouul5uxuP"
   }
  },
  {
   "cell_type": "code",
   "source": [
    "print('add()')\n",
    "\n",
    "string_arr1 = np.char.add(['Goodbye ', 'Thank you for '], ['Derrick', 'Visiting'])\n",
    "print(string_arr1)\n",
    "\n",
    "for elem in string_arr1:\n",
    "    print(elem, end='. ')\n",
    "\n",
    "print('\\n')\n",
    "\n",
    "print('multiply()')\n",
    "print(np.char.multiply('buffalo ', 8)) # Completely valid word"
   ],
   "metadata": {
    "colab": {
     "base_uri": "https://localhost:8080/"
    },
    "id": "yBXVggCdvCgb",
    "outputId": "d7fc6268-4bf9-43a3-c44f-c857dc8bed55"
   },
   "execution_count": null,
   "outputs": [
    {
     "output_type": "stream",
     "name": "stdout",
     "text": [
      "add()\n",
      "['Goodbye Derrick' 'Thank you for Visiting']\n",
      "Goodbye Derrick. Thank you for Visiting. \n",
      "\n",
      "multiply()\n",
      "buffalo buffalo buffalo buffalo buffalo buffalo buffalo buffalo \n"
     ]
    }
   ]
  },
  {
   "cell_type": "markdown",
   "source": [
    "### `np.char.center()`"
   ],
   "metadata": {
    "id": "Ih2D_Px4vLs5"
   }
  },
  {
   "cell_type": "code",
   "source": [
    "print(np.char.center(['NumPy', 'Tutorial'], 20, fillchar = '>')) # (arr, width, fillchar)"
   ],
   "metadata": {
    "colab": {
     "base_uri": "https://localhost:8080/"
    },
    "id": "tZW-UvJJvQqY",
    "outputId": "0349be15-8e20-4a27-abce-f747e9dbd1d0"
   },
   "execution_count": null,
   "outputs": [
    {
     "output_type": "stream",
     "name": "stdout",
     "text": [
      "['>>>>>>>NumPy>>>>>>>>' '>>>>>>Tutorial>>>>>>']\n"
     ]
    }
   ]
  },
  {
   "cell_type": "markdown",
   "source": [
    "### `np.char.lower()`\n",
    "### `np.char.upper()`\n",
    "### `np.char.capitalize()`"
   ],
   "metadata": {
    "id": "8JDhueZtvUuR"
   }
  },
  {
   "cell_type": "code",
   "source": [
    "print('convert string to lower')\n",
    "print(np.char.lower('NUMPY IS INTERESTING, IS IT?\\n'))\n",
    "\n",
    "print('CONVERT STRING TO UPPERCASE')\n",
    "print(np.char.upper('numpy is interesting, is it?\\n'))\n",
    "\n",
    "print('Capitalize string')\n",
    "print(np.char.capitalize('numpy is interesting, is it?'))"
   ],
   "metadata": {
    "colab": {
     "base_uri": "https://localhost:8080/"
    },
    "id": "8Beg2bGmvh8Z",
    "outputId": "45dd8244-b0c0-40f0-80a2-0bbfdd95f60e"
   },
   "execution_count": null,
   "outputs": [
    {
     "output_type": "stream",
     "name": "stdout",
     "text": [
      "convert string to lower\n",
      "numpy is interesting, is it?\n",
      "\n",
      "CONVERT STRING TO UPPERCASE\n",
      "NUMPY IS INTERESTING, IS IT?\n",
      "\n",
      "Capitalize string\n",
      "Numpy is interesting, is it?\n"
     ]
    }
   ]
  },
  {
   "cell_type": "markdown",
   "source": [
    "### `np.char.join()`\n",
    "### `np.char.split()`"
   ],
   "metadata": {
    "id": "CgvkNBjzvtJV"
   }
  },
  {
   "cell_type": "code",
   "source": [
    "print('join()')\n",
    "print(np.char.join([':', '-'], ['ymd', 'dmy']))\n",
    "\n",
    "print('split()')\n",
    "print(np.char.split('Eat, Sleep, Code, Connect', sep=','))"
   ],
   "metadata": {
    "colab": {
     "base_uri": "https://localhost:8080/"
    },
    "id": "SpdWZSOhv1WB",
    "outputId": "94a7651c-2369-4f69-fe14-67ef7c31cd7b"
   },
   "execution_count": null,
   "outputs": [
    {
     "output_type": "stream",
     "name": "stdout",
     "text": [
      "join()\n",
      "['y:m:d' 'd-m-y']\n",
      "split()\n",
      "['Eat', ' Sleep', ' Code', ' Connect']\n"
     ]
    }
   ]
  },
  {
   "cell_type": "markdown",
   "source": [
    "# NumPy mathematical operations"
   ],
   "metadata": {
    "id": "A1PpYQNewCVf"
   }
  },
  {
   "cell_type": "markdown",
   "source": [
    "## Rounding"
   ],
   "metadata": {
    "id": "XCHU2rdFwG_6"
   }
  },
  {
   "cell_type": "markdown",
   "source": [
    "### `np.around()`\n",
    "### `np.floor()`\n",
    "### `np.ceil()`\n",
    "### `np.trunc()`\n",
    "### `np.fix()`"
   ],
   "metadata": {
    "id": "VztZJRrOwSom"
   }
  },
  {
   "cell_type": "code",
   "source": [
    "print('ROUNDING\\n')\n",
    "print('Array: ', [20.1, 30.6, 4.55, 5.4, 8.63, 0.3, -2.7])\n",
    "\n",
    "print(np.char.center(' np.around() ', 25, fillchar='='))\n",
    "round_arr = np.around([20.1, 30.6, 4.55, 5.4, 8.63, 0.3, -2.7])\n",
    "print(round_arr)\n",
    "\n",
    "print(np.char.center(' np.floor() ', 25, fillchar='='))\n",
    "floor_arr = np.floor([20.1, 30.6, 4.55, 5.4, 8.63, 0.3, -2.7])\n",
    "print(floor_arr)\n",
    "\n",
    "print(np.char.center(' np.ceil() ', 25, fillchar='='))\n",
    "ceil_arr = np.ceil([20.1, 30.6, 4.55, 5.4, 8.63, 0.3, -2.7])\n",
    "print(ceil_arr)\n",
    "\n",
    "print(np.char.center(' np.trunc() ', 25, fillchar='='))\n",
    "trunc_arr = np.trunc([20.1, 30.6, 4.55, 5.4, 8.63, 0.3, -2.7])\n",
    "print(trunc_arr)"
   ],
   "metadata": {
    "colab": {
     "base_uri": "https://localhost:8080/"
    },
    "id": "lfXxUaPSwnhz",
    "outputId": "2aa558f7-d272-4f90-ebb6-a95ea55adbb5"
   },
   "execution_count": null,
   "outputs": [
    {
     "output_type": "stream",
     "name": "stdout",
     "text": [
      "ROUNDING\n",
      "\n",
      "Array:  [20.1, 30.6, 4.55, 5.4, 8.63, 0.3, -2.7]\n",
      "====== np.around() ======\n",
      "[20. 31.  5.  5.  9.  0. -3.]\n",
      "======= np.floor() ======\n",
      "[20. 30.  4.  5.  8.  0. -3.]\n",
      "======= np.ceil() =======\n",
      "[21. 31.  5.  6.  9.  1. -2.]\n",
      "======= np.trunc() ======\n",
      "[20. 30.  4.  5.  8.  0. -2.]\n"
     ]
    }
   ]
  },
  {
   "cell_type": "markdown",
   "source": [
    "## Trigonometry"
   ],
   "metadata": {
    "id": "hzjz91qTwwlb"
   }
  },
  {
   "cell_type": "markdown",
   "source": [
    "### `np.sin`\n",
    "### `np.cos`\n",
    "### `np.tan`\n",
    "### `np.arcsin`\n",
    "### `np.arccos`\n",
    "### `np.arctan`"
   ],
   "metadata": {
    "id": "2H3TdKdGw31o"
   }
  },
  {
   "cell_type": "code",
   "source": [
    "print('Trigonometry\\n')\n",
    "\n",
    "angle_arr = np.array([0,45, 60, 80, 90, 180, 270])\n",
    "print('Array: ', angle_arr)\n",
    "\n",
    "print(np.char.center(' np.sin ', 25, fillchar='='))\n",
    "sin_values = np.sin(angle_arr * np.pi/180)\n",
    "print(sin_values)\n",
    "\n",
    "print(np.char.center(' np.arcsin (sine Inverse) ', 35, fillchar='='))\n",
    "arcsin_values = np.arcsin(sin_values)  # sine inverse ofg angles(in radians)\n",
    "print(arcsin_values)\n",
    "\n",
    "print(np.char.center(' np.cos ', 25, fillchar='='))\n",
    "cos_values = np.cos(angle_arr * np.pi/180)\n",
    "print(cos_values)\n",
    "\n",
    "print(np.char.center(' np.arccos (cos inverse) ', 35, fillchar='='))\n",
    "arccos_values = np.arccos(cos_values)  # cosine inverse of angles(in radians)\n",
    "print(arccos_values)\n",
    "\n",
    "print(np.char.center(' np.tan ', 25, fillchar='='))\n",
    "tan_values = np.tan(angle_arr * np.pi/180)\n",
    "print(tan_values)\n",
    "\n",
    "print(np.char.center(' np.arctan (tangent inverse) ', 35, fillchar='='))\n",
    "arctan_values = np.arctan(tan_values)  # tangent inverse of angles(in radians)\n",
    "print(arctan_values)"
   ],
   "metadata": {
    "colab": {
     "base_uri": "https://localhost:8080/"
    },
    "id": "qTyF4AAjxZXF",
    "outputId": "4dfa6fcc-8f75-48f4-f2cd-16ddd7dd63cb"
   },
   "execution_count": null,
   "outputs": [
    {
     "output_type": "stream",
     "name": "stdout",
     "text": [
      "Trigonometry\n",
      "\n",
      "Array:  [  0  45  60  80  90 180 270]\n",
      "========= np.sin ========\n",
      "[ 0.00000000e+00  7.07106781e-01  8.66025404e-01  9.84807753e-01\n",
      "  1.00000000e+00  1.22464680e-16 -1.00000000e+00]\n",
      "===== np.arcsin (sine Inverse) ====\n",
      "[ 0.00000000e+00  7.85398163e-01  1.04719755e+00  1.39626340e+00\n",
      "  1.57079633e+00  1.22464680e-16 -1.57079633e+00]\n",
      "========= np.cos ========\n",
      "[ 1.00000000e+00  7.07106781e-01  5.00000000e-01  1.73648178e-01\n",
      "  6.12323400e-17 -1.00000000e+00 -1.83697020e-16]\n",
      "===== np.arccos (cos inverse) =====\n",
      "[0.         0.78539816 1.04719755 1.3962634  1.57079633 3.14159265\n",
      " 1.57079633]\n",
      "========= np.tan ========\n",
      "[ 0.00000000e+00  1.00000000e+00  1.73205081e+00  5.67128182e+00\n",
      "  1.63312394e+16 -1.22464680e-16  5.44374645e+15]\n",
      "=== np.arctan (tangent inverse) ===\n",
      "[ 0.00000000e+00  7.85398163e-01  1.04719755e+00  1.39626340e+00\n",
      "  1.57079633e+00 -1.22464680e-16  1.57079633e+00]\n"
     ]
    }
   ]
  },
  {
   "cell_type": "markdown",
   "source": [
    "## Finding extremes in NumPy array"
   ],
   "metadata": {
    "id": "kTDeREJ4xhqG"
   }
  },
  {
   "cell_type": "markdown",
   "source": [
    "### `np.amax()`\n",
    "### `np.amin()`\n",
    "### `np.argmax()`"
   ],
   "metadata": {
    "id": "T6BHFZtPxmNi"
   }
  },
  {
   "cell_type": "code",
   "source": [
    "array = np.array([[30, 10, 15, 80, 5], [3, 18, 60, 11, 25], [100, 40, 12, 8, 101]])\n",
    "print(array)\n",
    "\n",
    "print(np.char.center(' np.amax() MAX VALUE IN EACH COLUMN ', 45, fillchar='='))\n",
    "print(np.amax(array, axis = 0)) # column-wise iteration:\n",
    "                                # Returns max value of each column\n",
    "\n",
    "print(np.char.center(' np.amin() MIN VALUE IN EACH ROW ', 45, fillchar='='))\n",
    "print(np.amin(array, axis = 1)) # row-wise iteration:\n",
    "                                  # Returns index of min value of each row\n",
    "\n",
    "print(np.char.center(' np.argmax() MAX INDEX IN EACH COLUMN ', 45, fillchar='='))\n",
    "print(np.argmax(array, axis = 0)) # column-wise iteration:\n",
    "                                  # Returns index of max value of each column\n",
    "\n",
    "print(np.char.center(' np.argmin() MIN INDEX IN EACH ROW ', 45, fillchar='='))\n",
    "print(np.argmin(array, axis = 1)) # row-wise iteration:\n",
    "                                  # Returns index of min value of each row"
   ],
   "metadata": {
    "colab": {
     "base_uri": "https://localhost:8080/"
    },
    "id": "0KC_FzUYxz24",
    "outputId": "689402e5-2886-4983-f9bb-075e6517afdc"
   },
   "execution_count": null,
   "outputs": [
    {
     "output_type": "stream",
     "name": "stdout",
     "text": [
      "[[ 30  10  15  80   5]\n",
      " [  3  18  60  11  25]\n",
      " [100  40  12   8 101]]\n",
      "===== np.amax() MAX VALUE IN EACH COLUMN ====\n",
      "[100  40  60  80 101]\n",
      "====== np.amin() MIN VALUE IN EACH ROW ======\n",
      "[5 3 8]\n",
      "==== np.argmax() MAX INDEX IN EACH COLUMN ===\n",
      "[2 2 1 0 2]\n",
      "===== np.argmin() MIN INDEX IN EACH ROW =====\n",
      "[4 0 3]\n"
     ]
    }
   ]
  },
  {
   "cell_type": "markdown",
   "source": [
    "# NumPy arithmetic operations"
   ],
   "metadata": {
    "id": "FZFuA_aPx4Zr"
   }
  },
  {
   "cell_type": "markdown",
   "source": [
    "### `np.add()`\n",
    "### `np.sum()`\n",
    "### `np.subtract()`\n",
    "### `np.divide()`\n",
    "### `np.multiply()`\n",
    "### `np.reciprocal()`\n",
    "### `np.mod()`\n",
    "### `np.power()`"
   ],
   "metadata": {
    "id": "c_hFRtGbyCld"
   }
  },
  {
   "cell_type": "code",
   "source": [
    "print('Arithmetic Operations')\n",
    "\n",
    "array_a = np.array([10, 20, 15, 30,])\n",
    "array_b = np.array([3, 4, 2, 7])\n",
    "print('Array a: ', array_a, '\\nArray b: ', array_b)\n",
    "\n",
    "print(np.char.center(' np.add() Addition ', 35, fillchar='='))\n",
    "addition = np.add(array_a, array_b)\n",
    "print(addition)\n",
    "\n",
    "print(np.char.center(' np.sum() Sum ', 35, fillchar='='))\n",
    "sum_el = np.add(array_a, array_b) #row totals\n",
    "print(sum_el)\n",
    "\n",
    "print(np.char.center(' np.subtract() Subtraction ', 35, fillchar='='))\n",
    "subtraction = np.subtract(array_a, array_b)\n",
    "print(subtraction)\n",
    "\n",
    "print(np.char.center(' np.divide() Division ', 35, fillchar='='))\n",
    "division = np.divide(array_a, array_b)\n",
    "print(division)\n",
    "\n",
    "print(np.char.center(' np.mod() Modulus ', 35, fillchar='='))\n",
    "modulus = np.mod(array_a, array_b)\n",
    "print(modulus)\n",
    "\n",
    "print(np.char.center(' np.power() Power ', 35, fillchar='='))\n",
    "power = np.power(array_a, array_b)\n",
    "print(power)\n",
    "\n",
    "print(np.char.center(' np.reciprocal() Reciprocal ', 35, fillchar='='))\n",
    "array_r = np.array([10, 0.22, 15, 30,])\n",
    "print('Array r:', array_r)\n",
    "reciprocal = np.reciprocal(array_r)\n",
    "reciprocal2 = np.reciprocal(array_b)\n",
    "print(reciprocal, '\\n', reciprocal2)"
   ],
   "metadata": {
    "colab": {
     "base_uri": "https://localhost:8080/"
    },
    "id": "Klxa2_Qbyreo",
    "outputId": "8cc6fc50-462e-482d-f2f0-e802a651369f"
   },
   "execution_count": null,
   "outputs": [
    {
     "output_type": "stream",
     "name": "stdout",
     "text": [
      "Arithmetic Operations\n",
      "Array a:  [10 20 15 30] \n",
      "Array b:  [3 4 2 7]\n",
      "======== np.add() Addition ========\n",
      "[13 24 17 37]\n",
      "=========== np.sum() Sum ==========\n",
      "[13 24 17 37]\n",
      "==== np.subtract() Subtraction ====\n",
      "[ 7 16 13 23]\n",
      "======= np.divide() Division ======\n",
      "[3.33333333 5.         7.5        4.28571429]\n",
      "========= np.mod() Modulus ========\n",
      "[1 0 1 2]\n",
      "========= np.power() Power ========\n",
      "[       1000      160000         225 21870000000]\n",
      "==== np.reciprocal() Reciprocal ===\n",
      "Array r: [10.    0.22 15.   30.  ]\n",
      "[0.1        4.54545455 0.06666667 0.03333333] \n",
      " [0 0 0 0]\n"
     ]
    }
   ]
  },
  {
   "cell_type": "markdown",
   "source": [
    "# NumPy statistical operations"
   ],
   "metadata": {
    "id": "otrDUfWEyzJj"
   }
  },
  {
   "cell_type": "markdown",
   "source": [
    "### Square root `np.sqrt()`"
   ],
   "metadata": {
    "id": "D95eQVQ1y_ro"
   }
  },
  {
   "cell_type": "code",
   "source": [
    "array = np.array([25, 225, 256, 16, 100])\n",
    "array2 = np.array([[400, 900, 1600], [2500, 3600, 4900]])\n",
    "\n",
    "print('1-D array:\\n', array)\n",
    "print('1-D sqrt:\\n', np.sqrt(array))\n",
    "print('2-D array:\\n', array2)\n",
    "print('2-D sqrt:\\n', np.sqrt(array2))"
   ],
   "metadata": {
    "colab": {
     "base_uri": "https://localhost:8080/"
    },
    "id": "UBP72JP3zEna",
    "outputId": "de385506-548e-4faf-cfcb-586e8ecb0d45"
   },
   "execution_count": null,
   "outputs": [
    {
     "output_type": "stream",
     "name": "stdout",
     "text": [
      "1-D array:\n",
      " [ 25 225 256  16 100]\n",
      "1-D sqrt:\n",
      " [ 5. 15. 16.  4. 10.]\n",
      "2-D array:\n",
      " [[ 400  900 1600]\n",
      " [2500 3600 4900]]\n",
      "2-D sqrt:\n",
      " [[20. 30. 40.]\n",
      " [50. 60. 70.]]\n"
     ]
    }
   ]
  },
  {
   "cell_type": "markdown",
   "source": [
    "### Mean `np.mean`"
   ],
   "metadata": {
    "id": "azXn8BerzIfH"
   }
  },
  {
   "cell_type": "code",
   "source": [
    "array = np.array([30, 200, 100])\n",
    "array2 = np.array([[4, 9, 2], [15, 20, 5]])\n",
    "\n",
    "print('1-D array:\\n', array)\n",
    "print('1-D mean:\\n', np.mean(array))\n",
    "print('2-D array:\\n', array2)\n",
    "print('2-D mean:\\n', np.mean(array2, axis=0)) # mean on each column\n"
   ],
   "metadata": {
    "colab": {
     "base_uri": "https://localhost:8080/"
    },
    "id": "qvv3SLwuzPau",
    "outputId": "8ea77c90-daa3-4f29-997f-5d0dc6ca1951"
   },
   "execution_count": null,
   "outputs": [
    {
     "output_type": "stream",
     "name": "stdout",
     "text": [
      "1-D array:\n",
      " [ 30 200 100]\n",
      "1-D mean:\n",
      " 110.0\n",
      "2-D array:\n",
      " [[ 4  9  2]\n",
      " [15 20  5]]\n",
      "2-D mean:\n",
      " [ 9.5 14.5  3.5]\n"
     ]
    }
   ]
  },
  {
   "cell_type": "markdown",
   "source": [
    "### Median `np.median()`\n",
    "\n"
   ],
   "metadata": {
    "id": "3ZIoiLlIzU2w"
   }
  },
  {
   "cell_type": "code",
   "source": [
    "array = np.array([30, 200, 100])\n",
    "array2 = np.array([[4, 9, 2], [15, 20, 5]])\n",
    "\n",
    "print('1-D array:\\n', array)\n",
    "print('1-D median:\\n', np.median(array))\n",
    "print('2-D array:\\n', array2)\n",
    "print('2-D median:\\n', np.median(array2, axis=1)) # mean on each row\n"
   ],
   "metadata": {
    "colab": {
     "base_uri": "https://localhost:8080/"
    },
    "id": "q30men08zkWj",
    "outputId": "2c8978ef-4e20-401e-a5e6-e901ce0d93e9"
   },
   "execution_count": null,
   "outputs": [
    {
     "output_type": "stream",
     "name": "stdout",
     "text": [
      "1-D array:\n",
      " [ 30 200 100]\n",
      "1-D median:\n",
      " 100.0\n",
      "2-D array:\n",
      " [[ 4  9  2]\n",
      " [15 20  5]]\n",
      "2-D median:\n",
      " [ 4. 15.]\n"
     ]
    }
   ]
  },
  {
   "cell_type": "markdown",
   "source": [
    "### Variance `np.var()`"
   ],
   "metadata": {
    "id": "DMT7TPfHznF3"
   }
  },
  {
   "cell_type": "code",
   "source": [
    "array = np.array([30, 200, 100])\n",
    "array2 = np.array([[4, 9, 2], [15, 20, 5]])\n",
    "\n",
    "print('1-D array:\\n', array)\n",
    "print('1-D variance:\\n', np.var(array))\n",
    "print('2-D array:\\n', array2)\n",
    "print('2-D variance:\\n', np.var(array2, axis=1)) # mean on each row\n"
   ],
   "metadata": {
    "colab": {
     "base_uri": "https://localhost:8080/"
    },
    "id": "7xnHSeyTztd7",
    "outputId": "878105ca-207b-4339-ad1d-80f7bba34f50"
   },
   "execution_count": null,
   "outputs": [
    {
     "output_type": "stream",
     "name": "stdout",
     "text": [
      "1-D array:\n",
      " [ 30 200 100]\n",
      "1-D variance:\n",
      " 4866.666666666667\n",
      "2-D array:\n",
      " [[ 4  9  2]\n",
      " [15 20  5]]\n",
      "2-D variance:\n",
      " [ 8.66666667 38.88888889]\n"
     ]
    }
   ]
  },
  {
   "cell_type": "markdown",
   "source": [
    "### Standard deviation `np.std`"
   ],
   "metadata": {
    "id": "pi2NRv1izxwP"
   }
  },
  {
   "cell_type": "code",
   "source": [
    "array = np.array([30, 200, 100])\n",
    "array2 = np.array([[4, 9, 2], [15, 20, 5]])\n",
    "\n",
    "print('1-D array:\\n', array)\n",
    "print('1-D standard deviation:\\n', np.std(array))\n",
    "print('2-D array:\\n', array2)\n",
    "print('2-D standard deviation:\\n', np.std(array2, axis=1)) # mean on each \n"
   ],
   "metadata": {
    "colab": {
     "base_uri": "https://localhost:8080/"
    },
    "id": "0pIL2TKcz1HH",
    "outputId": "c8653161-7f48-4df5-f089-7506779eb419"
   },
   "execution_count": null,
   "outputs": [
    {
     "output_type": "stream",
     "name": "stdout",
     "text": [
      "1-D array:\n",
      " [ 30 200 100]\n",
      "1-D standard deviation:\n",
      " 69.7614984548545\n",
      "2-D array:\n",
      " [[ 4  9  2]\n",
      " [15 20  5]]\n",
      "2-D standard deviation:\n",
      " [2.94392029 6.23609564]\n"
     ]
    }
   ]
  },
  {
   "cell_type": "markdown",
   "source": [
    "# Generating random numbers"
   ],
   "metadata": {
    "id": "47wsFV01z4jM"
   }
  },
  {
   "cell_type": "code",
   "source": [
    "from numpy import random"
   ],
   "metadata": {
    "id": "MzriZeQn0_md"
   },
   "execution_count": null,
   "outputs": []
  },
  {
   "cell_type": "markdown",
   "source": [
    "### Generate random intgers and floats"
   ],
   "metadata": {
    "id": "SDfbvS8w0tQ6"
   }
  },
  {
   "cell_type": "code",
   "source": [
    "random_int = np.random.randint(25) # generate random number from 0 to 25;\n",
    "print(random_int)\n",
    "\n",
    "random_float = np.random.rand() # returns a random float from 0-1\n",
    "print(random_float)\n"
   ],
   "metadata": {
    "colab": {
     "base_uri": "https://localhost:8080/"
    },
    "id": "_t0qWZyF03U-",
    "outputId": "56f32d21-6807-4213-d9a8-11d79b9b1d77"
   },
   "execution_count": null,
   "outputs": [
    {
     "output_type": "stream",
     "name": "stdout",
     "text": [
      "6\n",
      "0.4284667240907487\n"
     ]
    }
   ]
  },
  {
   "cell_type": "markdown",
   "source": [
    "### Generate random arrays"
   ],
   "metadata": {
    "id": "GdR4kJWE1FLv"
   }
  },
  {
   "cell_type": "code",
   "source": [
    "print('Generate 1-D array with randint()')\n",
    "random_arr = np.random.randint(30, size=10) # 10 random integers from 0 to 30\n",
    "print(random_arr)\n",
    "\n",
    "print('Generate 2-D array with randint() 6 rows each with 5 random numbers')\n",
    "random_arr = np.random.randint(30, size=(6, 5)) # six rows with 5 random integers each from 0-25\n",
    "print(random_arr)\n",
    "\n",
    "print('Generate 1-D array with 10 random floats')\n",
    "random_float_arr = np.random.rand(10)\n",
    "print(random_float_arr)\n",
    "\n",
    "print('Generate 2-D array with 6 rows 5 random floats Each row')\n",
    "random_float_arr = np.random.rand(6, 5) # six rows each with 5 random numbers\n",
    "print(random_float_arr)"
   ],
   "metadata": {
    "colab": {
     "base_uri": "https://localhost:8080/"
    },
    "id": "fgMqmNCr1MsO",
    "outputId": "bc62bbfa-1c0e-4a3d-8667-8dc34eed3e16"
   },
   "execution_count": null,
   "outputs": [
    {
     "output_type": "stream",
     "name": "stdout",
     "text": [
      "Generate 1-D array with randint()\n",
      "[12  8  5  4 28 11 19 18  2  3]\n",
      "Generate 2-D array with randint() 6 rows each with 5 random numbers\n",
      "[[26  9  7 28  3]\n",
      " [11 10  4  4  0]\n",
      " [28 22  0 11 23]\n",
      " [ 9 12 25  8 12]\n",
      " [18  8 16  5  8]\n",
      " [29  0 14 12 16]]\n",
      "Generate 1-D array with 10 random floats\n",
      "[0.84581516 0.58716253 0.53736494 0.26448574 0.64838237 0.78445528\n",
      " 0.53717976 0.62920012 0.01386375 0.56638558]\n",
      "Generate 2-D array with 6 rows 5 random floats Each row\n",
      "[[0.8889583  0.38552197 0.67639992 0.39929053 0.24923701]\n",
      " [0.62837703 0.13946745 0.68712813 0.30305717 0.99393406]\n",
      " [0.7634123  0.55584042 0.88927623 0.59139915 0.41127375]\n",
      " [0.11550748 0.72722908 0.02255809 0.27702654 0.28517646]\n",
      " [0.08647712 0.64961874 0.91675152 0.57285547 0.2769331 ]\n",
      " [0.64757095 0.98569239 0.35794809 0.78425843 0.19589397]]\n"
     ]
    }
   ]
  },
  {
   "cell_type": "markdown",
   "source": [
    "### Generate random numbers from an array"
   ],
   "metadata": {
    "id": "JJZjmval1RKb"
   }
  },
  {
   "cell_type": "code",
   "source": [
    "rand_num_from_arr = np.random.choice([10, 20, 100, 2])\n",
    "print(rand_num_from_arr)\n",
    "\n",
    "# Generate Array\n",
    "rand_arr_from_arr2 = np.random.choice([10, 20, 100, 2], size=(2, 2))\n",
    "print(rand_arr_from_arr2)"
   ],
   "metadata": {
    "colab": {
     "base_uri": "https://localhost:8080/"
    },
    "id": "i9dUr-gi1bQf",
    "outputId": "435bf370-ee0b-45df-a451-8f6d9f6cb95b"
   },
   "execution_count": null,
   "outputs": [
    {
     "output_type": "stream",
     "name": "stdout",
     "text": [
      "20\n",
      "[[ 10   2]\n",
      " [100   2]]\n"
     ]
    }
   ]
  },
  {
   "cell_type": "markdown",
   "source": [
    "# Concatenating arrays `np.concatenate()`"
   ],
   "metadata": {
    "id": "yzTJUISA1hSp"
   }
  },
  {
   "cell_type": "code",
   "source": [
    "array_a = np.array([[10, 15, 30], [16, 24, 16]])\n",
    "array_b = np.array([[11,21,33], [14, 10, 18]])\n",
    "\n",
    "print('Concatenate with no axis')\n",
    "print(np.concatenate((array_a, array_b)))\n",
    "\n",
    "print('Concatenate with axis=0')\n",
    "print(np.concatenate((array_a, array_b), axis=0))\n",
    "\n",
    "print('Concatenate with axis=1')\n",
    "print(np.concatenate((array_a, array_b), axis=1))"
   ],
   "metadata": {
    "colab": {
     "base_uri": "https://localhost:8080/"
    },
    "id": "bDJ0swrU2D7C",
    "outputId": "5e84b841-0dcc-4aba-e582-e44805e1b6ba"
   },
   "execution_count": null,
   "outputs": [
    {
     "output_type": "stream",
     "name": "stdout",
     "text": [
      "Concatenate with no axis\n",
      "[[10 15 30]\n",
      " [16 24 16]\n",
      " [11 21 33]\n",
      " [14 10 18]]\n",
      "Concatenate with axis=0\n",
      "[[10 15 30]\n",
      " [16 24 16]\n",
      " [11 21 33]\n",
      " [14 10 18]]\n",
      "Concatenate with axis=1\n",
      "[[10 15 30 11 21 33]\n",
      " [16 24 16 14 10 18]]\n"
     ]
    }
   ]
  },
  {
   "cell_type": "markdown",
   "source": [
    "# Sorting NumPy arrays `numpy.sort()`"
   ],
   "metadata": {
    "id": "a1LBhuDh2IZi"
   }
  },
  {
   "cell_type": "code",
   "source": [
    "array_a = np.array([[10, 15, 30, 2], [16, 24, 16, 4]])\n",
    "\n",
    "print('Sort Array with axis=-1 which is Default')\n",
    "print(np.sort(array_a))\n",
    "\n",
    "print('Sort with axis=None: Array is flattened')\n",
    "print(np.sort(array_a, axis=None))\n",
    "\n",
    "print('Sort with axis=0:')\n",
    "print(np.sort(array_a, axis=0))\n",
    "\n",
    "print('Sort with axis=1:')\n",
    "print(np.sort(array_a, axis=1))\n",
    "\n",
    "print('===Sort Structured Array===')\n",
    "\n",
    "data_dtype = [('model', 'U10'), ('weight', 'f8'), ('color', 'U10'), ('speed', 'f8')]\n",
    "vehicle_data_values = [('Bentley', 1400.8, 'Blue', 240), ('Toyota', 2500, 'Green', \n",
    "180), ('Audi', 1600, 'White', 300), ('Ford', 1700, 'Black', 260)]\n",
    "\n",
    "vehicle_info = np.array(vehicle_data_values, dtype=data_dtype)\n",
    "print('Unsorted Vehicle info:')\n",
    "print(vehicle_info)\n",
    "print('Sorted vehicle info by model and speed')\n",
    "print(np.sort(vehicle_info, order=['model', 'speed']))"
   ],
   "metadata": {
    "colab": {
     "base_uri": "https://localhost:8080/"
    },
    "id": "hsaQi0Sp2PQI",
    "outputId": "f5221058-67f7-4391-dec7-50beff23c526"
   },
   "execution_count": null,
   "outputs": [
    {
     "output_type": "stream",
     "name": "stdout",
     "text": [
      "Sort Array with axis=-1 which is Default\n",
      "[[ 2 10 15 30]\n",
      " [ 4 16 16 24]]\n",
      "Sort with axis=None: Array is flattened\n",
      "[ 2  4 10 15 16 16 24 30]\n",
      "Sort with axis=0:\n",
      "[[10 15 16  2]\n",
      " [16 24 30  4]]\n",
      "Sort with axis=1:\n",
      "[[ 2 10 15 30]\n",
      " [ 4 16 16 24]]\n",
      "===Sort Structured Array===\n",
      "Unsorted Vehicle info:\n",
      "[('Bentley', 1400.8, 'Blue', 240.) ('Toyota', 2500. , 'Green', 180.)\n",
      " ('Audi', 1600. , 'White', 300.) ('Ford', 1700. , 'Black', 260.)]\n",
      "Sorted vehicle info by model and speed\n",
      "[('Audi', 1600. , 'White', 300.) ('Bentley', 1400.8, 'Blue', 240.)\n",
      " ('Ford', 1700. , 'Black', 260.) ('Toyota', 2500. , 'Green', 180.)]\n"
     ]
    }
   ]
  },
  {
   "cell_type": "markdown",
   "source": [
    "# Filtering NumPy arrays"
   ],
   "metadata": {
    "id": "YQP6023h2VDO"
   }
  },
  {
   "cell_type": "code",
   "source": [
    "arr_to_filter = np.array([30, 40, 50, 100, 130, 90])\n",
    "\n",
    "# Create a empty list: will contain the boolean values\n",
    "# As we iterate through the array we check if a value meets a\n",
    "# condition and then insert a True or False based on satisfaction of\n",
    "# the condition\n",
    "\n",
    "boolean_list = []\n",
    "\n",
    "for elem in arr_to_filter:\n",
    "    if elem > 55:\n",
    "        boolean_list.append(True)\n",
    "    else:\n",
    "        boolean_list.append(False)\n",
    "# now we create a new list based on the boolean values of the boolean list\n",
    "\n",
    "new_filtered_arr = arr_to_filter[boolean_list]\n",
    "\n",
    "print('Origina arr: \\n', arr_to_filter)\n",
    "print('Boolean list for filter: \\n', boolean_list)\n",
    "print('New Array: \\n', new_filtered_arr)"
   ],
   "metadata": {
    "colab": {
     "base_uri": "https://localhost:8080/"
    },
    "id": "hABp7X842Zrt",
    "outputId": "5262cce0-2b46-4f15-f1e6-52eeb1d441d9"
   },
   "execution_count": null,
   "outputs": [
    {
     "output_type": "stream",
     "name": "stdout",
     "text": [
      "Origina arr: \n",
      " [ 30  40  50 100 130  90]\n",
      "Boolean list for filter: \n",
      " [False, False, False, True, True, True]\n",
      "New Array: \n",
      " [100 130  90]\n"
     ]
    }
   ]
  },
  {
   "cell_type": "markdown",
   "source": [
    "# Searching values in arrays `where`"
   ],
   "metadata": {
    "id": "ptvRIKFX2eJw"
   }
  },
  {
   "cell_type": "code",
   "source": [
    "array_a = np.array([30, 40, 20, 15, 30, 15, 50])\n",
    "value_s = np.where(array_a == 15)\n",
    "print(value_s)\n",
    "# we have 15 at index 3 and 5 hence array[3, 5]\n",
    "\n",
    "\n",
    "# Below, if value is less than 30 return it else multiply by 2\n",
    "value_s2 = np.where(array_a < 30, array_a, 2*array_a)\n",
    "print(value_s2)"
   ],
   "metadata": {
    "colab": {
     "base_uri": "https://localhost:8080/"
    },
    "id": "x7mf_LHM2iAU",
    "outputId": "2790ff59-011d-4a06-d731-02c3c3e0a8c1"
   },
   "execution_count": null,
   "outputs": [
    {
     "output_type": "stream",
     "name": "stdout",
     "text": [
      "(array([3, 5]),)\n",
      "[ 60  80  20  15  60  15 100]\n"
     ]
    }
   ]
  },
  {
   "cell_type": "markdown",
   "source": [
    "## Where to go from here\n",
    "Follow us on [LinkedIn](https://www.linkedin.com/company/mlnuggets), [Twitter](https://twitter.com/ml_nuggets), [GitHub](https://github.com/mlnuggets) and subscribe to our [blog](https://www.machinelearningnuggets.com/#/portal) so that you don't miss a new issue."
   ],
   "metadata": {
    "collapsed": false,
    "pycharm": {
     "name": "#%% md\n"
    }
   }
  }
 ]
}